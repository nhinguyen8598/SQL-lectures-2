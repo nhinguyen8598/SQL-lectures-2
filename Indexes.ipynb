{
    "metadata": {
        "kernelspec": {
            "name": "SQL",
            "display_name": "SQL",
            "language": "sql"
        },
        "language_info": {
            "name": "sql",
            "version": ""
        }
    },
    "nbformat_minor": 2,
    "nbformat": 4,
    "cells": [
        {
            "cell_type": "markdown",
            "source": [
                "# **<mark>Indexes</mark>**"
            ],
            "metadata": {
                "azdata_cell_guid": "28223d93-a14b-49dc-830f-66b3d3f2224c"
            },
            "attachments": {}
        },
        {
            "cell_type": "markdown",
            "source": [
                "Chỉ mục là cấu trúc dữ liệu đặc biệt được liên kết với bảng hoặc dạng xem giúp tăng tốc truy vấn. SQL Server cung cấp hai loại chỉ mục: chỉ mục theo cụm và chỉ mục không được phân cụm."
            ],
            "metadata": {
                "azdata_cell_guid": "eaeb3f74-9169-42c2-aaad-46cc16f4db7a"
            },
            "attachments": {}
        },
        {
            "cell_type": "markdown",
            "source": [
                "## **<mark>Clustered Indexes</mark>**"
            ],
            "metadata": {
                "azdata_cell_guid": "6c65ab23-19a1-4fa4-879e-0dd66428b2b6"
            },
            "attachments": {}
        },
        {
            "cell_type": "code",
            "source": [
                "CREATE TABLE production.parts(\r\n",
                "    part_id   INT NOT NULL, \r\n",
                "    part_name VARCHAR(100)\r\n",
                ")"
            ],
            "metadata": {
                "azdata_cell_guid": "fa97adbe-ae20-4aa3-88eb-7512c494f8d8",
                "language": "sql",
                "tags": []
            },
            "outputs": [],
            "execution_count": null
        },
        {
            "cell_type": "code",
            "source": [
                "INSERT INTO \r\n",
                "    production.parts(part_id, part_name)\r\n",
                "VALUES\r\n",
                "    (1,'Frame'),\r\n",
                "    (2,'Head Tube'),\r\n",
                "    (3,'Handlebar Grip'),\r\n",
                "    (4,'Shock Absorber'),\r\n",
                "    (5,'Fork')"
            ],
            "metadata": {
                "language": "sql",
                "azdata_cell_guid": "bc887555-c8fd-4d3c-b58b-852e5b092805"
            },
            "outputs": [],
            "execution_count": null
        },
        {
            "cell_type": "markdown",
            "source": [
                "Bảng production.parts không có khóa chính (primary key). Do đó, SQL Server lưu trữ các hàng của nó trong một cấu trúc không có thứ tự được gọi là heap.\n",
                "\n",
                "  \n",
                "\n",
                "Khi bạn truy vấn dữ liệu từ bảng production.parts, trình tối ưu hóa truy vấn (query optimizer) cần quét toàn bộ bảng để tìm kiếm."
            ],
            "metadata": {
                "azdata_cell_guid": "110ba04b-2123-477a-9c0e-0ad1103db6fc"
            },
            "attachments": {}
        },
        {
            "cell_type": "code",
            "source": [
                "SELECT \r\n",
                "    part_id, \r\n",
                "    part_name\r\n",
                "FROM \r\n",
                "    production.parts\r\n",
                "WHERE \r\n",
                "    part_id = 5"
            ],
            "metadata": {
                "azdata_cell_guid": "b4e433e2-c5ba-4e8d-a060-dc5ded812db2",
                "language": "sql"
            },
            "outputs": [],
            "execution_count": null
        },
        {
            "cell_type": "markdown",
            "source": [
                "Nếu bạn hiển thị kế hoạch thực thi ước tính (execution plan) trong SQL Server Management Studio, bạn sẽ thấy cách SQL Server đưa ra kế hoạch truy vấn sau:\n",
                "\n",
                "![indexes-1](.\\SQL-Server-Clustered-Index-Table-Scan-1.png)\n",
                "\n",
                "Lưu ý rằng để hiển thị kế hoạch thực thi ước tính (execution plan) trong SQL Server Management Studio, bạn nhấp vào nút Hiển thị kế hoạch thực thi ước tính hoặc chọn truy vấn và nhấn phím tắt Ctrl + L:\n",
                "\n",
                "![indexes-2](.\\SQL-Server-Display-Estimated-Execution-Plan.png)\n",
                "\n",
                "Bởi vì bảng production.parts chỉ có năm hàng, truy vấn thực thi rất nhanh. Tuy nhiên, nếu bảng chứa nhiều hàng, sẽ mất nhiều thời gian và tài nguyên để tìm kiếm dữ liệu."
            ],
            "metadata": {
                "language": "sql",
                "azdata_cell_guid": "7f6265ea-4444-4da2-bc0a-572a3bddb84f"
            },
            "attachments": {}
        },
        {
            "cell_type": "markdown",
            "source": [
                "Để giải quyết vấn đề này, SQL Server cung cấp một cấu trúc chuyên dụng để tăng tốc độ truy xuất các hàng từ một bảng được gọi là chỉ mục.\n",
                "\n",
                "SQL Server có hai loại chỉ mục: chỉ mục theo cụm (clustered indexes) và chỉ mục không được phân cụm (non-clustered indexes).\n",
                "\n",
                "Một chỉ mục được phân cụm lưu trữ các hàng dữ liệu trong một cấu trúc được sắp xếp dựa trên các giá trị chính của nó. Mỗi bảng chỉ có một chỉ mục nhóm vì các hàng dữ liệu chỉ có thể được sắp xếp theo một thứ tự. Một bảng có chỉ mục được phân cụm được gọi là bảng được phân nhóm.\n",
                "\n",
                "![indexes-3](.\\SQL-Server-Clustered-B-Tree.png)\n",
                "\n",
                "Chỉ mục được phân nhóm tổ chức dữ liệu bằng cách sử dụng một cây có cấu trúc đặc biệt được gọi là B-tree (hoặc cây cân bằng - balanced tree) cho phép tìm kiếm, chèn, cập nhật và xóa theo thời gian phân bổ theo logarit\n",
                "\n",
                "Trong cấu trúc này, nút trên cùng của B-tree được gọi là nút gốc (root node). Các nút ở mức dưới cùng được gọi là các nút lá (leaf nodes). Bất kỳ mức chỉ mục nào giữa nút gốc và nút lá được gọi là mức trung gian (intermediate nodes).\n",
                "\n",
                "Trong B-Tree, nút gốc và các nút cấp trung gian chứa các trang chỉ mục chứa các hàng chỉ mục. Các nút lá chứa các trang dữ liệu của bảng bên dưới. Các trang trong mỗi cấp của chỉ mục được liên kết bằng cách sử dụng một cấu trúc khác được gọi là danh sách liên kết kép (doubly-linked list)."
            ],
            "metadata": {
                "language": "sql",
                "azdata_cell_guid": "3ee732ca-2e4a-4892-9e6a-515dbaf3d0f8"
            },
            "attachments": {}
        },
        {
            "cell_type": "markdown",
            "source": [
                "## **Chỉ mục theo cụm và ràng buộc khóa chính**"
            ],
            "metadata": {
                "language": "sql",
                "azdata_cell_guid": "c72f4e95-04aa-4a53-82a7-a43399d7078a"
            },
            "attachments": {}
        },
        {
            "cell_type": "markdown",
            "source": [
                "Khi bạn tạo bảng có khóa chính, SQL Server sẽ tự động tạo chỉ mục được phân cụm tương ứng bao gồm các cột khóa chính."
            ],
            "metadata": {
                "language": "sql",
                "azdata_cell_guid": "5b47bb96-50b1-47b6-881f-d407ef482aff"
            },
            "attachments": {}
        },
        {
            "cell_type": "code",
            "source": [
                "ALTER TABLE production.parts\r\n",
                "ADD PRIMARY KEY(part_id)"
            ],
            "metadata": {
                "language": "sql",
                "azdata_cell_guid": "dc7e2172-70fa-4a49-a4df-f887d3d97dc4"
            },
            "outputs": [],
            "execution_count": null
        },
        {
            "cell_type": "markdown",
            "source": [
                "![indexes-4](.\\SQL-Server-Clustered-Index-and-Primary-Key.png)"
            ],
            "metadata": {
                "language": "sql",
                "azdata_cell_guid": "0f7e9599-c4ef-4c3a-bdf8-22448535e12c"
            },
            "attachments": {}
        },
        {
            "cell_type": "markdown",
            "source": [
                "## **Sử dụng câu lệnh CREATE CLUSTERED INDEX để tạo chỉ mục theo nhóm.**"
            ],
            "metadata": {
                "language": "sql",
                "azdata_cell_guid": "3720a1e3-1cd8-4429-83dd-62f49cc02186"
            },
            "attachments": {}
        },
        {
            "cell_type": "code",
            "source": [
                "CREATE CLUSTERED INDEX ix_parts_id\r\n",
                "ON production.parts (part_id)"
            ],
            "metadata": {
                "language": "sql",
                "azdata_cell_guid": "d475ded6-4b11-4f37-a4ad-6f1047589ad7"
            },
            "outputs": [],
            "execution_count": null
        },
        {
            "cell_type": "markdown",
            "source": [
                "Nếu bạn mở nút Indexes dưới tên bảng, bạn sẽ thấy tên chỉ mục mới ix\\_parts\\_id với kiểu Clustered.\n",
                "\n",
                "![indexes-5](.\\SQL-Server-Clustered-Index-example.png)\n",
                "\n",
                "Khi thực hiện câu lệnh sau, SQL Server duyệt qua chỉ mục (Clustered Index Seek) để xác định vị trí các hàng, nhanh hơn so với việc quét toàn bộ bảng."
            ],
            "metadata": {
                "language": "sql",
                "azdata_cell_guid": "e1466a8f-e7ff-4b12-8dae-2d6bd9f924e0"
            },
            "attachments": {}
        },
        {
            "cell_type": "code",
            "source": [
                "SELECT \r\n",
                "    part_id, \r\n",
                "    part_name\r\n",
                "FROM \r\n",
                "    production.parts\r\n",
                "WHERE \r\n",
                "    part_id = 5"
            ],
            "metadata": {
                "language": "sql",
                "azdata_cell_guid": "c7b8a8e4-d6a9-485d-8f3e-20642510e608"
            },
            "outputs": [],
            "execution_count": null
        },
        {
            "cell_type": "markdown",
            "source": [
                "![indexes-5](.\\SQL-Server-Clustered-Index-Clustered-Index-Seek.png)\r\n",
                ""
            ],
            "metadata": {
                "language": "sql",
                "azdata_cell_guid": "a681182d-d755-43e5-befb-56f22e42da60"
            },
            "attachments": {}
        },
        {
            "cell_type": "markdown",
            "source": [
                "## **CREATE CLUSTERED INDEX**"
            ],
            "metadata": {
                "language": "sql",
                "azdata_cell_guid": "9d1a16e7-d642-4879-9a77-b81454c222cc"
            },
            "attachments": {}
        },
        {
            "cell_type": "markdown",
            "source": [
                "Cú pháp để tạo một chỉ mục được phân cụm như sau:\n",
                "\n",
                "```\n",
                "CREATE CLUSTERED INDEX index_name\n",
                "ON schema_name.table_name (column_list)\n",
                "\n",
                "```\n",
                "\n",
                "Trong cú pháp này:\n",
                "\n",
                "- Đầu tiên, chỉ định tên của chỉ mục được nhóm sau mệnh đề CREATE CLUSTERED INDEX. \n",
                "- Thứ hai, chỉ định lược đồ và tên bảng mà bạn muốn tạo chỉ mục. \n",
                "- Thứ ba, liệt kê một hoặc nhiều cột có trong chỉ mục."
            ],
            "metadata": {
                "language": "sql",
                "azdata_cell_guid": "556c293c-024d-47f6-ae7e-ae58378635b5"
            },
            "attachments": {}
        },
        {
            "cell_type": "markdown",
            "source": [
                "## **Non-clustered indexes**"
            ],
            "metadata": {
                "language": "sql",
                "azdata_cell_guid": "c1b0ec34-25ca-420d-94bd-621174430cea"
            },
            "attachments": {}
        },
        {
            "cell_type": "markdown",
            "source": [
                "Chỉ mục không phân tán là một cấu trúc dữ liệu giúp cải thiện tốc độ truy xuất dữ liệu từ các bảng. Không giống như chỉ mục được phân nhóm, chỉ mục không phân nhóm sắp xếp và lưu trữ dữ liệu riêng biệt với các hàng dữ liệu trong bảng. Nó là một bản sao của các cột dữ liệu được chọn từ một bảng với các liên kết đến bảng được liên kết.\n",
                "\n",
                "Tương tự như chỉ mục được phân nhóm, chỉ mục không phân cụm sử dụng cấu trúc B-tree để tổ chức dữ liệu của nó.\n",
                "\n",
                "Một bảng có thể có một hoặc nhiều chỉ mục không phân nhóm và mỗi chỉ mục không phân nhóm có thể bao gồm một hoặc nhiều cột của bảng.\n",
                "\n",
                "![non-indexes-1](.\\SQL-Server-nonclustered-index.png)\n",
                "\n",
                "Bên cạnh việc lưu trữ các giá trị khóa chỉ mục, các nút lá cũng lưu trữ các con trỏ hàng đến các hàng dữ liệu có chứa các giá trị khóa. Các con trỏ hàng này còn được gọi là bộ định vị hàng.\n",
                "\n",
                "Nếu bảng cơ bản là một bảng nhóm, thì con trỏ hàng là khóa chỉ mục được nhóm. Trong trường hợp bảng bên dưới là một đống, con trỏ hàng trỏ đến hàng của bảng."
            ],
            "metadata": {
                "language": "sql",
                "azdata_cell_guid": "fc732617-2e98-4ac2-8c87-ec5c7d5bfd59"
            },
            "attachments": {}
        },
        {
            "cell_type": "markdown",
            "source": [
                "## **CREATE NONCLUSTERED INDEX**"
            ],
            "metadata": {
                "language": "sql",
                "azdata_cell_guid": "ba80150e-44fe-40ec-9426-a19da2ff5f74"
            },
            "attachments": {}
        },
        {
            "cell_type": "markdown",
            "source": [
                "```\n",
                "CREATE NONCLUSTERED INDEX index_name\n",
                "ON table_name(column_list)\n",
                "\n",
                "```\n",
                "\n",
                "Trong cú pháp này:\n",
                "\n",
                "- Đầu tiên, chỉ định tên của chỉ mục sau mệnh đề CREATE NONCLUSTERED INDEX. Lưu ý rằng từ khóa KHÔNG ĐIỀU CHỈNH là tùy chọn. \n",
                "- Thứ hai, chỉ định tên bảng mà bạn muốn tạo chỉ mục và danh sách các cột của bảng đó làm cột khóa chỉ mục."
            ],
            "metadata": {
                "language": "sql",
                "azdata_cell_guid": "8ad624eb-9e22-4d1c-aa70-1697b5168e4e"
            },
            "attachments": {}
        },
        {
            "cell_type": "markdown",
            "source": [
                "## **A) Sử dụng câu lệnh CREATE INDEX để tạo chỉ mục không phân nhánh cho một cột**"
            ],
            "metadata": {
                "language": "sql",
                "azdata_cell_guid": "d0b20bbf-4a00-489c-8543-fe3a0293d223"
            },
            "attachments": {}
        },
        {
            "cell_type": "code",
            "source": [
                "SELECT \r\n",
                "    customer_id, \r\n",
                "    city\r\n",
                "FROM \r\n",
                "    sales.customers\r\n",
                "WHERE \r\n",
                "    city = 'Atwater'"
            ],
            "metadata": {
                "language": "sql",
                "azdata_cell_guid": "5cbe8927-b460-4812-a97b-d15c443e2cb1"
            },
            "outputs": [],
            "execution_count": null
        },
        {
            "cell_type": "markdown",
            "source": [
                "Nếu bạn hiển thị kế hoạch thực thi ước tính, bạn sẽ thấy rằng trình tối ưu hóa truy vấn quét chỉ mục được phân cụm để tìm hàng. Điều này là do bảng sales.customers không có chỉ mục cho cột thành phố.\n",
                "\n",
                "![non-indexes-2](SQL-Server-CREATE-INDEX-on-one-column-index-scan.png)\n",
                "\n",
                "Để cải thiện tốc độ của truy vấn này, bạn có thể tạo một chỉ mục mới có tên ix\\_customers\\_city cho cột thành phố:"
            ],
            "metadata": {
                "language": "sql",
                "azdata_cell_guid": "e95bef10-e4c2-46e4-89c9-388deaf351b5"
            },
            "attachments": {}
        },
        {
            "cell_type": "code",
            "source": [
                "CREATE INDEX ix_customers_city\r\n",
                "ON sales.customers(city)"
            ],
            "metadata": {
                "language": "sql",
                "azdata_cell_guid": "fb4fa39e-6de9-4582-9ad5-56b8f05cc0ab"
            },
            "outputs": [],
            "execution_count": null
        },
        {
            "cell_type": "markdown",
            "source": [
                "Bây giờ, nếu bạn hiển thị lại kế hoạch thực thi ước tính của truy vấn trên, bạn sẽ thấy rằng trình tối ưu hóa truy vấn sử dụng chỉ mục không phân bổ ix\\_customers\\_city:\r\n",
                "\r\n",
                "![non-indexes-2](SQL-Server-CREATE-INDEX-one-column-index-seek.png)\r\n",
                ""
            ],
            "metadata": {
                "language": "sql",
                "azdata_cell_guid": "2a0949d3-6e5a-41a3-a903-bad08d7fb3ab"
            },
            "attachments": {}
        },
        {
            "cell_type": "markdown",
            "source": [
                "## **B) Sử dụng câu lệnh CREATE INDEX để tạo chỉ mục không phân biệt cho nhiều cột**"
            ],
            "metadata": {
                "language": "sql",
                "azdata_cell_guid": "d5f55214-3b48-4ba5-a2ce-485ac044cc55"
            },
            "attachments": {}
        },
        {
            "cell_type": "code",
            "source": [
                "SELECT \r\n",
                "    customer_id, \r\n",
                "    first_name, \r\n",
                "    last_name\r\n",
                "FROM \r\n",
                "    sales.customers\r\n",
                "WHERE \r\n",
                "    last_name = 'Berg' AND \r\n",
                "    first_name = 'Monika'"
            ],
            "metadata": {
                "language": "sql",
                "azdata_cell_guid": "952f30a7-efa4-4afe-8ee4-c8f92e7ee8d8"
            },
            "outputs": [],
            "execution_count": null
        },
        {
            "cell_type": "markdown",
            "source": [
                "![non-indexes-4](.\\SQL-Server-CREATE-INDEX-on-multiple-columns-index-scan.png)\n",
                "\n",
                "Trình tối ưu hóa truy vấn quét chỉ mục theo nhóm để xác định khách hàng.\n",
                "\n",
                "Để tăng tốc độ truy xuất dữ liệu, bạn có thể tạo chỉ mục không phân biệt bao gồm cả cột last\\_name và first\\_name:"
            ],
            "metadata": {
                "language": "sql",
                "azdata_cell_guid": "599ad961-40f0-4c85-a2da-ea4985d7cc6d"
            },
            "attachments": {}
        },
        {
            "cell_type": "code",
            "source": [
                "CREATE INDEX ix_customers_name \r\n",
                "ON sales.customers(last_name, first_name)"
            ],
            "metadata": {
                "language": "sql",
                "azdata_cell_guid": "8d2f56d1-a50e-44a5-9168-3469f9ce0981"
            },
            "outputs": [],
            "execution_count": null
        },
        {
            "cell_type": "code",
            "source": [
                "SELECT \r\n",
                "    customer_id, \r\n",
                "    first_name, \r\n",
                "    last_name\r\n",
                "FROM \r\n",
                "    sales.customers\r\n",
                "WHERE \r\n",
                "    last_name = 'Berg' AND \r\n",
                "    first_name = 'Monika'"
            ],
            "metadata": {
                "language": "sql",
                "azdata_cell_guid": "13e2ac5a-ad06-449b-9a48-d8b3a461d8fc"
            },
            "outputs": [],
            "execution_count": null
        },
        {
            "cell_type": "markdown",
            "source": [
                "![non-indexes-5](.\\SQL-Server-CREATE-INDEX-on-multiple-columns-index-seek.png)\n",
                "\n",
                "Khi bạn tạo một chỉ mục không hợp nhất bao gồm nhiều cột, thứ tự của các cột trong chỉ mục là rất quan trọng. Bạn nên đặt các cột mà bạn thường sử dụng để truy vấn dữ liệu ở đầu danh sách cột.  \n",
                "\n",
                "Ví dụ, câu lệnh sau đây tìm khách hàng có họ là Albert. Bởi vì last\\_name là cột ngoài cùng bên trái trong chỉ mục, trình tối ưu hóa truy vấn có thể tận dụng chỉ mục và sử dụng phương pháp tìm kiếm chỉ mục để tìm kiếm:"
            ],
            "metadata": {
                "language": "sql",
                "azdata_cell_guid": "7e67437c-78ed-4903-bf24-ce34b7f59ddd"
            },
            "attachments": {}
        },
        {
            "cell_type": "code",
            "source": [
                "SELECT \r\n",
                "    customer_id, \r\n",
                "    first_name, \r\n",
                "    last_name\r\n",
                "FROM \r\n",
                "    sales.customers\r\n",
                "WHERE \r\n",
                "    last_name = 'Albert'"
            ],
            "metadata": {
                "language": "sql",
                "azdata_cell_guid": "6f9b5e10-fd86-493f-aa29-a630e30fa68f"
            },
            "outputs": [],
            "execution_count": null
        },
        {
            "cell_type": "markdown",
            "source": [
                "![non-indexes-6](.\\SQL-Server-CREATE-INDEX-leftmost-column-query.png)\n",
                "\n",
                "Câu lệnh này tìm khách hàng có tên là Adam. Nó cũng tận dụng chỉ mục ix\\_customer\\_name. Nhưng nó cần phải quét toàn bộ chỉ mục để tìm kiếm, chậm hơn so với tìm kiếm chỉ mục."
            ],
            "metadata": {
                "language": "sql",
                "azdata_cell_guid": "9cf125c9-0491-49bd-9a18-0666003ecaf7"
            },
            "attachments": {}
        },
        {
            "cell_type": "code",
            "source": [
                "SELECT \r\n",
                "    customer_id, \r\n",
                "    first_name, \r\n",
                "    last_name\r\n",
                "FROM \r\n",
                "    sales.customers\r\n",
                "WHERE \r\n",
                "    first_name = 'Adam'"
            ],
            "metadata": {
                "language": "sql",
                "azdata_cell_guid": "09d22771-ce6e-49a9-a3aa-745dc2aefcca"
            },
            "outputs": [],
            "execution_count": null
        },
        {
            "cell_type": "markdown",
            "source": [
                "![non-indexes-7](.\\SQL-Server-CREATE-INDEX-multiple-columns-not-leftmost-column-index-scan.png)\n",
                "\n",
                "Do đó, bạn nên đặt các cột mà bạn thường sử dụng để truy vấn dữ liệu ở đầu danh sách cột của chỉ mục."
            ],
            "metadata": {
                "language": "sql",
                "azdata_cell_guid": "6b237de0-14ea-4d72-b1f7-f5e75344de86"
            },
            "attachments": {}
        },
        {
            "cell_type": "markdown",
            "source": [
                "## **Khi nào thì sử dụng chỉ mục theo cụm?**"
            ],
            "metadata": {
                "language": "sql",
                "azdata_cell_guid": "c863c106-bce4-4406-b3d9-83bbc77e7819"
            },
            "attachments": {}
        },
        {
            "cell_type": "markdown",
            "source": [
                "Một cột là ứng cử viên tốt nhất cho chỉ mục nhóm nếu một trong những điều sau là đúng:\n",
                "\n",
                "- Nó được sử dụng trong một số lượng lớn các truy vấn trong mệnh đề WHERE và các phép nối.\n",
                "- Nó sẽ được sử dụng như một khóa ngoại cho một bảng khác, và cuối cùng, để tham gia.\n",
                "- Giá trị cột duy nhất.\n",
                "- Giá trị sẽ ít có khả năng thay đổi.\n",
                "- Cột đó được sử dụng để truy vấn một dải giá trị. Các toán tử như\\>, \\<,\\> =, \\<= hoặc BETWEEN được sử dụng với cột trong mệnh đề WHERE.\n",
                "\n",
                "Nhưng các chỉ mục được phân nhóm sẽ không tốt nếu cột hoặc các cột\n",
                "\n",
                "- thường xuyên thay đổi\n",
                "- là các phím rộng hoặc sự kết hợp của các cột có kích thước phím lớn."
            ],
            "metadata": {
                "language": "sql",
                "azdata_cell_guid": "5bd1cabb-62ed-46f3-aab5-512415023cd3"
            },
            "attachments": {}
        },
        {
            "cell_type": "markdown",
            "source": [
                "## **Khi nào sử dụng Chỉ mục không phân cụm?**"
            ],
            "metadata": {
                "language": "sql",
                "azdata_cell_guid": "46f69f3d-78fa-42c4-a3c2-3df17fc12367"
            },
            "attachments": {}
        },
        {
            "cell_type": "markdown",
            "source": [
                "Một hoặc các cột là ứng cử viên tốt cho các chỉ mục không phân cụm nếu điều sau là đúng:\n",
                "\n",
                "- Cột hoặc các cột được sử dụng trong mệnh đề WHERE hoặc phép nối.\n",
                "- Truy vấn sẽ không trả về một tập hợp kết quả lớn.\n",
                "- Kết hợp chính xác trong mệnh đề WHERE sử dụng toán tử bình đẳng là cần thiết."
            ],
            "metadata": {
                "language": "sql",
                "azdata_cell_guid": "88758479-63fe-4537-8a6c-094c7fbc78f6"
            },
            "attachments": {}
        }
    ]
}