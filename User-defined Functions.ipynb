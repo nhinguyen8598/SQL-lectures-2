{
    "metadata": {
        "kernelspec": {
            "name": "SQL",
            "display_name": "SQL",
            "language": "sql"
        },
        "language_info": {
            "name": "sql",
            "version": ""
        }
    },
    "nbformat_minor": 2,
    "nbformat": 4,
    "cells": [
        {
            "cell_type": "markdown",
            "source": [
                "## **<mark>User-defined Functions</mark>**"
            ],
            "metadata": {
                "azdata_cell_guid": "04372124-d355-4686-988e-ca899a252165"
            },
            "attachments": {}
        },
        {
            "cell_type": "markdown",
            "source": [
                "Các hàm do người dùng định nghĩa (user-defined functions) bao gồm các hàm có giá trị vô hướng (scalar-valued functions) trả về một giá trị duy nhất và hàm có giá trị bảng (table-valued functions) trả về các hàng dữ liệu.\n",
                "\n",
                "  \n",
                "\n",
                "Các hàm do người dùng xác định trong SQL Server giúp bạn đơn giản hóa sự phát triển của mình bằng cách đóng gói logic nghiệp vụ phức tạp và cung cấp chúng để sử dụng lại trong mọi truy vấn."
            ],
            "metadata": {
                "azdata_cell_guid": "a8de72ec-d84c-4575-b31b-1266f34280ae"
            },
            "attachments": {}
        },
        {
            "cell_type": "markdown",
            "source": [
                "### **<mark>Hàm có giá trị vô hướng (scalar-valued functions)</mark>**"
            ],
            "metadata": {
                "azdata_cell_guid": "02a05b8b-99cc-4b53-9286-bc2bd869a236"
            },
            "attachments": {}
        },
        {
            "cell_type": "markdown",
            "source": [
                "Hàm vô hướng của SQL Server nhận một hoặc nhiều tham số và <mark>trả về một giá trị duy nhất.</mark>\n",
                "\n",
                "Các hàm vô hướng giúp bạn đơn giản hóa mã của mình. Ví dụ: bạn có thể có một phép tính phức tạp xuất hiện trong nhiều truy vấn. Thay vì bao gồm công thức trong mọi truy vấn, bạn có thể tạo một hàm vô hướng đóng gói công thức và sử dụng nó trong mỗi truy vấn."
            ],
            "metadata": {
                "azdata_cell_guid": "cae89069-f717-4dbe-ba52-475726d0fe97"
            },
            "attachments": {}
        },
        {
            "cell_type": "markdown",
            "source": [
                "**<mark>Tạo một hàm vô hướng</mark>**"
            ],
            "metadata": {
                "azdata_cell_guid": "b3ed5471-1cf4-462b-a8d7-e7c987f140a7"
            },
            "attachments": {}
        },
        {
            "cell_type": "markdown",
            "source": [
                "Để tạo một hàm vô hướng, bạn sử dụng câu lệnh <mark>CREATE FUNCTION</mark> như sau:\n",
                "\n",
                "```\n",
                "CREATE FUNCTION [schema_name.]function_name (parameter_list)\n",
                "RETURNS data_type AS\n",
                "BEGIN\n",
                "    statements\n",
                "    RETURN value\n",
                "END\n",
                "\n",
                "```\n",
                "\n",
                "Trong cú pháp này:\n",
                "\n",
                "- Đầu tiên, chỉ định tên của hàm sau các từ khóa CREATE FUNCTION. Tên lược đồ (schema) là tùy chọn. Nếu bạn không chỉ định nó một cách rõ ràng, SQL Server sử dụng dbo theo mặc định.\n",
                "- Thứ hai, chỉ định một danh sách các tham số được bao quanh bởi dấu ngoặc đơn sau tên hàm.\n",
                "- Thứ ba, chỉ định kiểu dữ liệu của giá trị trả về trong câu lệnh RETURNS.\n",
                "- Cuối cùng, bao gồm một câu lệnh RETURN để trả về một giá trị bên trong phần thân của hàm."
            ],
            "metadata": {
                "azdata_cell_guid": "cd576c24-44cc-4fb2-95fa-a7483774d288"
            },
            "attachments": {}
        },
        {
            "cell_type": "code",
            "source": [
                "CREATE FUNCTION sales.udfNetSale(\r\n",
                "    @quantity INT,\r\n",
                "    @list_price DEC(10,2),\r\n",
                "    @discount DEC(4,2)\r\n",
                ")\r\n",
                "RETURNS DEC(10,2)\r\n",
                "AS\r\n",
                "BEGIN\r\n",
                "    RETURN @quantity * @list_price * (1 - @discount);\r\n",
                "END;"
            ],
            "metadata": {
                "azdata_cell_guid": "e888723b-ecfc-42dd-92fd-4e0a93a5fb4a",
                "language": "sql"
            },
            "outputs": [],
            "execution_count": null
        },
        {
            "cell_type": "markdown",
            "source": [
                "**<mark>Gọi một hàm vô hướng</mark>**"
            ],
            "metadata": {
                "language": "sql",
                "azdata_cell_guid": "25353a33-d3b5-4612-b369-e2779d7cff77"
            },
            "attachments": {}
        },
        {
            "cell_type": "code",
            "source": [
                "SELECT \r\n",
                "    sales.udfNetSale(10,100,0.1) net_sale;"
            ],
            "metadata": {
                "language": "sql",
                "azdata_cell_guid": "7e3f55bf-2f10-4320-b42d-66a04d9cfd5b"
            },
            "outputs": [],
            "execution_count": null
        },
        {
            "cell_type": "code",
            "source": [
                "SELECT \r\n",
                "    order_id, \r\n",
                "    SUM(sales.udfNetSale(quantity, list_price, discount)) net_amount\r\n",
                "FROM \r\n",
                "    sales.order_items\r\n",
                "GROUP BY \r\n",
                "    order_id\r\n",
                "ORDER BY\r\n",
                "    net_amount DESC;"
            ],
            "metadata": {
                "language": "sql",
                "azdata_cell_guid": "08175cc4-340a-45c1-b9d1-ae6cc38f3d3d"
            },
            "outputs": [],
            "execution_count": null
        },
        {
            "cell_type": "markdown",
            "source": [
                "**<mark>Sửa đổi một hàm vô hướng</mark>**"
            ],
            "metadata": {
                "language": "sql",
                "azdata_cell_guid": "fa064252-04c9-45b5-b6ae-1a5665d79748"
            },
            "attachments": {}
        },
        {
            "cell_type": "markdown",
            "source": [
                "Để sửa đổi một hàm vô hướng, bạn sử dụng <mark>ALTER</mark> thay vì từ khóa <mark>CREATE</mark>. Các câu lệnh còn lại vẫn giữ nguyên:\n",
                "\n",
                "```\n",
                "ALTER FUNCTION [schema_name.]function_name (parameter_list)\n",
                "    RETURNS data_type AS\n",
                "    BEGIN\n",
                "        statements\n",
                "        RETURN value\n",
                "    END\n",
                "\n",
                "```\n",
                "\n",
                "Lưu ý rằng bạn có thể sử dụng câu lệnh <mark>CREATE OR ALTER</mark> để tạo một hàm do người dùng xác định nếu nó không tồn tại hoặc để sửa đổi một hàm vô hướng hiện có:\n",
                "\n",
                "```\n",
                "CREATE OR ALTER FUNCTION [schema_name.]function_name (parameter_list)\n",
                "        RETURNS data_type AS\n",
                "        BEGIN\n",
                "            statements\n",
                "            RETURN value\n",
                "        END\n",
                "\n",
                "```"
            ],
            "metadata": {
                "language": "sql",
                "azdata_cell_guid": "b53c9fd9-9f99-49e9-b2a1-ba87e6e0feac"
            },
            "attachments": {}
        },
        {
            "cell_type": "markdown",
            "source": [
                "**<mark>Loại bỏ một hàm vô hướng</mark>**"
            ],
            "metadata": {
                "language": "sql",
                "azdata_cell_guid": "47c98563-e247-4fed-bc10-e73f38f59789"
            },
            "attachments": {}
        },
        {
            "cell_type": "markdown",
            "source": [
                "Để loại bỏ một hàm vô hướng hiện có, bạn sử dụng câu lệnh <mark>DROP FUNCTION:</mark>\n",
                "\n",
                "```\n",
                "DROP FUNCTION [schema_name.]function_name;\n",
                "\n",
                "```"
            ],
            "metadata": {
                "language": "sql",
                "azdata_cell_guid": "0cd3e018-8ef8-4d6d-9883-81fdeb585784"
            },
            "attachments": {}
        },
        {
            "cell_type": "code",
            "source": [
                "DROP FUNCTION sales.udfNetSale;"
            ],
            "metadata": {
                "language": "sql",
                "azdata_cell_guid": "96337635-f759-43be-a158-50645ae1c57d"
            },
            "outputs": [],
            "execution_count": null
        },
        {
            "cell_type": "markdown",
            "source": [
                "**<mark>Notes</mark>**"
            ],
            "metadata": {
                "language": "sql",
                "azdata_cell_guid": "47eb4dae-49a1-4cdd-94a2-354920e340ad"
            },
            "attachments": {}
        },
        {
            "cell_type": "markdown",
            "source": [
                "Sau đây là một số rút ra chính của các hàm vô hướng:\n",
                "\n",
                "- Các hàm vô hướng có thể được sử dụng ở hầu hết mọi nơi trong các câu lệnh T-SQL.\n",
                "- Các hàm vô hướng chấp nhận một hoặc nhiều tham số nhưng chỉ trả về một giá trị, do đó, chúng phải bao gồm một câu lệnh RETURN.\n",
                "- Các hàm vô hướng có thể sử dụng logic như khối IF hoặc vòng lặp WHILE.\n",
                "- Các hàm vô hướng không thể cập nhật dữ liệu.\n",
                "- Hàm vô hướng có thể gọi các hàm khác."
            ],
            "metadata": {
                "language": "sql",
                "azdata_cell_guid": "5868a7c6-294d-427a-b8df-70adfa2c80b8"
            },
            "attachments": {}
        },
        {
            "cell_type": "markdown",
            "source": [
                "### **<mark>Hàm có giá trị bảng (table-valued functions)</mark>**"
            ],
            "metadata": {
                "language": "sql",
                "azdata_cell_guid": "3b0f6c4b-ca27-49f9-914b-bb32232e8e00"
            },
            "attachments": {}
        },
        {
            "cell_type": "markdown",
            "source": [
                "Hàm có giá trị bảng là một hàm do người dùng định nghĩa trả về dữ liệu của một loại bảng. Kiểu trả về của một hàm có giá trị bảng là một bảng, do đó, bạn có thể sử dụng hàm định trị bảng giống như cách bạn sử dụng một bảng."
            ],
            "metadata": {
                "language": "sql",
                "azdata_cell_guid": "18758d64-df1a-4632-8c38-edd3cda46790"
            },
            "attachments": {}
        },
        {
            "cell_type": "markdown",
            "source": [
                "**<mark>Tạo một hàm có giá trị bảng</mark>**"
            ],
            "metadata": {
                "language": "sql",
                "azdata_cell_guid": "17b3ff36-aaed-4946-946d-212dc8086477"
            },
            "attachments": {}
        },
        {
            "cell_type": "code",
            "source": [
                "CREATE FUNCTION udfProductInYear (\r\n",
                "    @model_year INT\r\n",
                ")\r\n",
                "\r\n",
                "RETURNS TABLE\r\n",
                "AS\r\n",
                "RETURN\r\n",
                "    SELECT \r\n",
                "        product_name,\r\n",
                "        model_year,\r\n",
                "        list_price\r\n",
                "    FROM\r\n",
                "        production.products\r\n",
                "    WHERE\r\n",
                "        model_year = @model_year;"
            ],
            "metadata": {
                "language": "sql",
                "azdata_cell_guid": "69ffc100-ac1e-4363-a64f-41ff4a9c2d33"
            },
            "outputs": [],
            "execution_count": null
        },
        {
            "cell_type": "markdown",
            "source": [
                "**<mark>Thực thi một hàm có giá trị bảng</mark>**"
            ],
            "metadata": {
                "language": "sql",
                "azdata_cell_guid": "1e2184a3-af98-4a3c-8459-c4c5eefa8fdf"
            },
            "attachments": {}
        },
        {
            "cell_type": "code",
            "source": [
                "SELECT \r\n",
                "    * \r\n",
                "FROM \r\n",
                "    udfProductInYear(2017);"
            ],
            "metadata": {
                "language": "sql",
                "azdata_cell_guid": "e4e239a8-8031-4026-a8d1-ece48d4f6ff3"
            },
            "outputs": [],
            "execution_count": null
        },
        {
            "cell_type": "markdown",
            "source": [
                "Bạn cũng có thể chỉ định cột nào sẽ được trả về từ hàm giá trị bảng như sau:"
            ],
            "metadata": {
                "language": "sql",
                "azdata_cell_guid": "199d3507-164f-4f61-9896-4cb6060de850"
            },
            "attachments": {}
        },
        {
            "cell_type": "code",
            "source": [
                "SELECT \r\n",
                "    product_name,\r\n",
                "    list_price\r\n",
                "FROM \r\n",
                "    udfProductInYear(2018);"
            ],
            "metadata": {
                "language": "sql",
                "azdata_cell_guid": "80bf2eb8-8949-441c-836e-62ab70adbf35"
            },
            "outputs": [],
            "execution_count": null
        },
        {
            "cell_type": "markdown",
            "source": [
                "**<mark>Sửa đổi một hàm có giá trị bảng</mark>**"
            ],
            "metadata": {
                "language": "sql",
                "azdata_cell_guid": "3f78d201-b10d-4b90-b774-b9d239eab4f3"
            },
            "attachments": {}
        },
        {
            "cell_type": "markdown",
            "source": [
                "Để sửa đổi một hàm có giá trị bảng, bạn sử dụng ALTER thay vì từ khóa CREATE. Phần còn lại của kịch bản giống nhau."
            ],
            "metadata": {
                "language": "sql",
                "azdata_cell_guid": "6af58dc9-4c9c-4787-962c-fe94a879e1b7"
            },
            "attachments": {}
        },
        {
            "cell_type": "code",
            "source": [
                "ALTER FUNCTION udfProductInYear (\r\n",
                "    @start_year INT,\r\n",
                "    @end_year INT\r\n",
                ")\r\n",
                "RETURNS TABLE\r\n",
                "AS\r\n",
                "RETURN\r\n",
                "    SELECT \r\n",
                "        product_name,\r\n",
                "        model_year,\r\n",
                "        list_price\r\n",
                "    FROM\r\n",
                "        production.products\r\n",
                "    WHERE\r\n",
                "        model_year BETWEEN @start_year AND @end_year"
            ],
            "metadata": {
                "language": "sql",
                "azdata_cell_guid": "8345228e-67c0-49df-8f7c-0905f6d36188"
            },
            "outputs": [],
            "execution_count": null
        },
        {
            "cell_type": "code",
            "source": [
                "SELECT \r\n",
                "    product_name,\r\n",
                "    model_year,\r\n",
                "    list_price\r\n",
                "FROM \r\n",
                "    udfProductInYear(2017,2018)\r\n",
                "ORDER BY\r\n",
                "    product_name;"
            ],
            "metadata": {
                "language": "sql",
                "azdata_cell_guid": "bd4a77e9-fc45-4c36-8be1-0a85f3d28197"
            },
            "outputs": [],
            "execution_count": null
        },
        {
            "cell_type": "markdown",
            "source": [
                "**<mark>Các hàm có giá trị trong bảng nhiều câu lệnh (Multi-statement table-valued functions)</mark>**"
            ],
            "metadata": {
                "language": "sql",
                "azdata_cell_guid": "b1e6d36c-ad63-4a14-9aa4-8ed546426f47"
            },
            "attachments": {}
        },
        {
            "cell_type": "markdown",
            "source": [
                "Một hàm giá trị bảng nhiều câu lệnh hoặc MSTVF là một hàm giá trị bảng trả về kết quả của nhiều câu lệnh.\n",
                "\n",
                "Hàm multi-statement-table-value rất hữu ích vì bạn có thể thực hiện nhiều truy vấn trong hàm và tổng hợp kết quả vào bảng trả về.\n",
                "\n",
                "Để xác định một hàm giá trị bảng nhiều câu lệnh, bạn sử dụng một biến bảng làm giá trị trả về. Bên trong hàm, bạn thực hiện một hoặc nhiều truy vấn và chèn dữ liệu vào biến bảng này."
            ],
            "metadata": {
                "language": "sql",
                "azdata_cell_guid": "4d8a240c-9a29-420c-a2e9-a4dc89df062e"
            },
            "attachments": {}
        },
        {
            "cell_type": "code",
            "source": [
                "CREATE FUNCTION udfContacts()\r\n",
                "RETURNS @contacts TABLE (\r\n",
                "    first_name VARCHAR(50),\r\n",
                "    last_name VARCHAR(50),\r\n",
                "    email VARCHAR(255),\r\n",
                "    phone VARCHAR(25),\r\n",
                "    contact_type VARCHAR(20)\r\n",
                ")\r\n",
                "AS\r\n",
                "BEGIN\r\n",
                "    INSERT INTO @contacts\r\n",
                "    SELECT \r\n",
                "        first_name, \r\n",
                "        last_name, \r\n",
                "        email, \r\n",
                "        phone,\r\n",
                "        'Staff'\r\n",
                "    FROM\r\n",
                "        sales.staffs\r\n",
                "\r\n",
                "    INSERT INTO @contacts\r\n",
                "    SELECT \r\n",
                "        first_name, \r\n",
                "        last_name, \r\n",
                "        email, \r\n",
                "        phone,\r\n",
                "        'Customer'\r\n",
                "    FROM\r\n",
                "        sales.customers\r\n",
                "\r\n",
                "    RETURN\r\n",
                "END;"
            ],
            "metadata": {
                "language": "sql",
                "azdata_cell_guid": "3b03b09a-d37a-48d3-98db-a7c72645745a"
            },
            "outputs": [],
            "execution_count": null
        },
        {
            "cell_type": "code",
            "source": [
                "SELECT \r\n",
                "    * \r\n",
                "FROM\r\n",
                "    udfContacts();"
            ],
            "metadata": {
                "language": "sql",
                "azdata_cell_guid": "46f746e4-1bef-42bc-b452-079649d08820"
            },
            "outputs": [],
            "execution_count": null
        },
        {
            "cell_type": "code",
            "source": [
                "CREATE OR ALTER FUNCTION udfSplit(\r\n",
                "    @string VARCHAR(MAX), \r\n",
                "    @delimiter VARCHAR(50) = ' ')\r\n",
                "RETURNS @parts TABLE\r\n",
                "(    \r\n",
                "    idx INT IDENTITY PRIMARY KEY,\r\n",
                "    val VARCHAR(MAX)   \r\n",
                ")\r\n",
                "AS\r\n",
                "BEGIN\r\n",
                "    DECLARE @index INT = -1;\r\n",
                "\r\n",
                "    WHILE (LEN(@string) > 0) \r\n",
                "    BEGIN \r\n",
                "        SET @index = CHARINDEX(@delimiter , @string)  ;\r\n",
                "        \r\n",
                "        IF (@index = 0) AND (LEN(@string) > 0)  \r\n",
                "        BEGIN  \r\n",
                "            INSERT INTO @parts \r\n",
                "            VALUES (@string);\r\n",
                "            BREAK  \r\n",
                "        END \r\n",
                "\r\n",
                "        IF (@index > 1)  \r\n",
                "        BEGIN  \r\n",
                "            INSERT INTO @parts \r\n",
                "            VALUES (LEFT(@string, @index - 1));\r\n",
                "            \r\n",
                "            SET @string = RIGHT(@string, (LEN(@string) - @index));  \r\n",
                "        END \r\n",
                "        ELSE\r\n",
                "            SET @string = RIGHT(@string, (LEN(@string) - @index)); \r\n",
                "    END\r\n",
                "    RETURN\r\n",
                "END\r\n",
                "GO"
            ],
            "metadata": {
                "language": "sql",
                "azdata_cell_guid": "1c40771f-7dee-4b1a-82ef-e7c580d9ea50"
            },
            "outputs": [],
            "execution_count": null
        },
        {
            "cell_type": "code",
            "source": [
                "SELECT \r\n",
                "    * \r\n",
                "FROM \r\n",
                "    udfSplit('foo,bar,baz',',');"
            ],
            "metadata": {
                "language": "sql",
                "azdata_cell_guid": "ff1007f6-2eee-4fa8-b2d4-28b8cbde7e6b",
                "tags": []
            },
            "outputs": [],
            "execution_count": null
        },
        {
            "cell_type": "markdown",
            "source": [
                "<mark>ý tưởng là tách chuỗi gì đó thành 3 dòng</mark>"
            ],
            "metadata": {
                "language": "sql",
                "azdata_cell_guid": "60dfadc3-4f6e-4ccb-bba0-85448c145ec2"
            },
            "attachments": {}
        },
        {
            "cell_type": "markdown",
            "source": [
                "**<mark>Các trường hợp sử dụng hàm có giá trị bảng</mark>**"
            ],
            "metadata": {
                "language": "sql",
                "azdata_cell_guid": "23f070e2-479c-43ef-aef2-426e5d36288c"
            },
            "attachments": {}
        },
        {
            "cell_type": "markdown",
            "source": [
                "Chúng tôi thường sử dụng các hàm có giá trị bảng làm dạng xem được tham số hóa (parameterized views). So với các thủ tục được lưu trữ (stored procedures), các hàm định trị bằng bảng linh hoạt hơn vì chúng ta có thể sử dụng chúng ở bất kỳ nơi nào bảng được sử dụng."
            ],
            "metadata": {
                "language": "sql",
                "azdata_cell_guid": "e66cb185-1436-4471-a61d-f3c9e4e8b82b"
            },
            "attachments": {}
        },
        {
            "cell_type": "markdown",
            "source": [
                "## **<mark>Xóa các hàm do người dùng định nghĩa</mark>**"
            ],
            "metadata": {
                "language": "sql",
                "azdata_cell_guid": "e5edf355-a530-452d-97ac-933560ef4771"
            },
            "attachments": {}
        },
        {
            "cell_type": "markdown",
            "source": [
                "Để loại bỏ một hàm do người dùng định nghĩa được tạo bởi câu lệnh CREATE FUNCTION, bạn sử dụng câu lệnh DROP FUNCTION như sau:\n",
                "\n",
                "```\n",
                "DROP FUNCTION [ IF EXISTS ] [ schema_name. ] function_name;\n",
                "\n",
                "```\n",
                "\n",
                "Trong cú pháp này:\n",
                "\n",
                "- IF EXISTS: Tùy chọn IF EXISTS cho phép bạn loại bỏ chức năng chỉ khi nó tồn tại. Nếu không, câu lệnh không làm gì cả. Nếu bạn cố gắng loại bỏ một hàm không tồn tại mà không chỉ định tùy chọn IF EXISTS, bạn sẽ gặp lỗi.\n",
                "- schema\\_name: Schema\\_name chỉ định tên của lược đồ chứa hàm do người dùng xác định mà bạn muốn xóa. Tên lược đồ là tùy chọn.\n",
                "- function\\_name: function\\_name là tên của hàm mà bạn muốn loại bỏ.\n",
                "\n",
                "Ghi chú\n",
                "\n",
                "- Nếu có các ràng buộc như CHECK hoặc DEFAULT và các cột được tính toán tham chiếu đến hàm, câu lệnh DROP FUNCTION cũng sẽ không thành công.\n",
                "\n",
                "Để loại bỏ nhiều hàm do người dùng xác định, bạn chỉ định danh sách tên hàm được phân tách bằng dấu phẩy sau mệnh đề DROP FUNCTION như sau:\n",
                "\n",
                "```\n",
                "DROP FUNCTION [IF EXISTS] \n",
                "    schema_name.function_name1, \n",
                "    schema_name.function_name2,\n",
                "    ...;\n",
                "```"
            ],
            "metadata": {
                "language": "sql",
                "azdata_cell_guid": "cf7d1557-0821-40f9-b807-754a0b7f7bed"
            },
            "attachments": {}
        },
        {
            "cell_type": "code",
            "source": [
                "CREATE FUNCTION sales.udf_get_discount_amount (\r\n",
                "    @quantity INT,\r\n",
                "    @list_price DEC(10,2),\r\n",
                "    @discount DEC(4,2) \r\n",
                ")\r\n",
                "RETURNS DEC(10,2) \r\n",
                "AS \r\n",
                "BEGIN\r\n",
                "    RETURN @quantity * @list_price * @discount\r\n",
                "END"
            ],
            "metadata": {
                "language": "sql",
                "azdata_cell_guid": "770f3f18-0dd3-4850-bedc-7db72f74dbd2"
            },
            "outputs": [],
            "execution_count": null
        },
        {
            "cell_type": "code",
            "source": [
                "DROP FUNCTION IF EXISTS sales.udf_get_discount_amount;"
            ],
            "metadata": {
                "language": "sql",
                "azdata_cell_guid": "006c8b81-7f4f-4fd6-aaa1-55c467ddedc2"
            },
            "outputs": [],
            "execution_count": null
        }
    ]
}