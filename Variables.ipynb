{
    "metadata": {
        "kernelspec": {
            "name": "SQL",
            "display_name": "SQL",
            "language": "sql"
        },
        "language_info": {
            "name": "sql",
            "version": ""
        }
    },
    "nbformat_minor": 2,
    "nbformat": 4,
    "cells": [
        {
            "cell_type": "markdown",
            "source": [
                "## **<mark>Variables</mark>**"
            ],
            "metadata": {
                "azdata_cell_guid": "f935dc8c-526c-4264-8fdd-013c668279c1"
            },
            "attachments": {}
        },
        {
            "cell_type": "markdown",
            "source": [
                "<span style=\"font-size: 14px; background-color: yellow;\"><b>Biến (variables) là một đối tượng chứa một giá trị duy nhất của một kiểu cụ thể, ví dụ: số nguyên, ngày tháng hoặc chuỗi ký tự khác nhau.</b></span>\n",
                "\n",
                "<span style=\"font-size:14px;\">Chúng ta thường sử dụng các biến trong các trường hợp sau:</span>\n",
                "\n",
                "- <span style=\"font-size:14px;\">Là một bộ đếm vòng lặp để đếm số lần một vòng lặp được thực hiện.</span>\n",
                "- <span style=\"font-size:14px;\">Để giữ một giá trị được kiểm tra bằng câu lệnh điều khiển luồng như IF...ELSE, WHILE.</span>\n",
                "- <span style=\"font-size:14px;\">Để lưu trữ giá trị được trả về bởi một thủ tục được lưu trữ hoặc một hàm</span>"
            ],
            "metadata": {
                "azdata_cell_guid": "e72946e1-3388-4d1f-83ba-bdb384e316e1"
            },
            "attachments": {}
        },
        {
            "cell_type": "markdown",
            "source": [
                "<span style=\"font-size:14px;\"><b>Để khai báo một biến, bạn sử dụng câu lệnh <span style=\"background-color: yellow;\">DECLARE.&nbsp;</span></b></span> \n",
                "\n",
                "<span style=\"font-size:14px;\">Câu lệnh <span style=\"background-color: yellow;\">DECLARE </span>khởi tạo một biến bằng cách gán tên và kiểu dữ liệu cho nó. Tên biến phải bắt đầu bằng dấu <span style=\"background-color: yellow;\">@.</span></span>"
            ],
            "metadata": {
                "azdata_cell_guid": "1c3bf13c-cb25-4061-b8ce-defc8b1e96bb"
            },
            "attachments": {}
        },
        {
            "cell_type": "code",
            "source": [
                "DECLARE @model_year SMALLINT;\r\n",
                "-- Hoặc\r\n",
                "DECLARE @model_year AS SMALLINT;"
            ],
            "metadata": {
                "azdata_cell_guid": "f0742323-b5d8-49a4-8bc4-d51acf2de77b",
                "language": "sql"
            },
            "outputs": [],
            "execution_count": null
        },
        {
            "cell_type": "markdown",
            "source": [
                "<span style=\"font-size:14px;\"><b>Để khai báo<span style=\"background-color: yellow;\"> nhiều biến</span>, bạn <span style=\"background-color: yellow;\">phân tách</span> các biến bằng <span style=\"background-color: yellow;\">dấu phẩy</span>:</b></span>"
            ],
            "metadata": {
                "language": "sql",
                "azdata_cell_guid": "b9cb8cdd-a32c-4045-83ed-788c9c0d3682"
            },
            "attachments": {}
        },
        {
            "cell_type": "code",
            "source": [
                "DECLARE @model_year SMALLINT, \r\n",
                "        @product_name VARCHAR(MAX);"
            ],
            "metadata": {
                "language": "sql",
                "azdata_cell_guid": "9d421c30-59d3-477d-8e9b-d5f19b3633a6"
            },
            "outputs": [],
            "execution_count": null
        },
        {
            "cell_type": "markdown",
            "source": [
                "<span style=\"font-size:14px;\"><b>Để gán giá trị cho một biến, bạn sử dụng câu lệnh<span style=\"background-color: yellow;\"> SET.</span></b></span>"
            ],
            "metadata": {
                "language": "sql",
                "azdata_cell_guid": "f38ebbc4-eabd-4d81-8917-6da0e3c0b797"
            },
            "attachments": {}
        },
        {
            "cell_type": "code",
            "source": [
                "SET @model_year = 2018;"
            ],
            "metadata": {
                "language": "sql",
                "azdata_cell_guid": "fef214b6-f04a-4fbf-838e-b67da34a8e16"
            },
            "outputs": [],
            "execution_count": null
        },
        {
            "cell_type": "markdown",
            "source": [
                "<span style=\"font-size: 14px; background-color: yellow;\"><b>Sử dụng các biến trong một truy vấn</b></span>"
            ],
            "metadata": {
                "language": "sql",
                "azdata_cell_guid": "348546eb-0679-4e96-b16c-3510e1c88b47"
            },
            "attachments": {}
        },
        {
            "cell_type": "markdown",
            "source": [
                "<span style=\"font-size:14px;\">Câu lệnh <span style=\"background-color: yellow;\">SELECT</span> sau đây sử dụng biến @model_year trong mệnh đề <span style=\"background-color: yellow;\">WHERE</span> để tìm các sản phẩm của một model_year</span> cụ thể:"
            ],
            "metadata": {
                "language": "sql",
                "azdata_cell_guid": "6e596f1d-8915-4754-b470-f1da01a3fa1c"
            },
            "attachments": {}
        },
        {
            "cell_type": "code",
            "source": [
                "SELECT\r\n",
                "    product_name,\r\n",
                "    model_year,\r\n",
                "    list_price \r\n",
                "FROM \r\n",
                "    production.products\r\n",
                "WHERE \r\n",
                "    model_year = @model_year\r\n",
                "ORDER BY\r\n",
                "    product_name;"
            ],
            "metadata": {
                "language": "sql",
                "azdata_cell_guid": "29060d6e-280a-42cb-948a-7e8def78a969"
            },
            "outputs": [],
            "execution_count": null
        },
        {
            "cell_type": "markdown",
            "source": [
                "<span style=\"font-size: 14px;\">Bây giờ, bạn có thể kết hợp mọi thứ lại với nhau và thực thi lệnh sau để nhận danh sách các sản phẩm có model_year là 2018:</span>"
            ],
            "metadata": {
                "language": "sql",
                "azdata_cell_guid": "6b11f397-f6fc-466c-90b5-e6c72011b636"
            },
            "attachments": {}
        },
        {
            "cell_type": "code",
            "source": [
                "DECLARE @model_year SMALLINT;\r\n",
                "\r\n",
                "SET @model_year = 2018;\r\n",
                "\r\n",
                "SELECT\r\n",
                "    product_name,\r\n",
                "    model_year,\r\n",
                "    list_price \r\n",
                "FROM \r\n",
                "    production.products\r\n",
                "WHERE \r\n",
                "    model_year = @model_year\r\n",
                "ORDER BY\r\n",
                "    product_name;"
            ],
            "metadata": {
                "language": "sql",
                "azdata_cell_guid": "9517c097-ab7b-4dc6-aad0-66af12283d14"
            },
            "outputs": [],
            "execution_count": null
        },
        {
            "cell_type": "markdown",
            "source": [
                "<span style=\"font-size: 14px; background-color: yellow;\"><b>Các bước sau đây mô tả cách lưu trữ kết quả truy vấn trong một biến:</b></span>"
            ],
            "metadata": {
                "language": "sql",
                "azdata_cell_guid": "d2d31c2a-4cbf-4e28-8d30-519d48962187"
            },
            "attachments": {}
        },
        {
            "cell_type": "markdown",
            "source": [
                "<span style=\"font-size: 14px;\">Đầu tiên, khai báo một biến có tên @product_count với kiểu dữ liệu số nguyên:</span>"
            ],
            "metadata": {
                "language": "sql",
                "azdata_cell_guid": "5d6c50d2-39af-447e-950c-dc97a44a617b"
            },
            "attachments": {}
        },
        {
            "cell_type": "code",
            "source": [
                "DECLARE @product_count INT;"
            ],
            "metadata": {
                "language": "sql",
                "azdata_cell_guid": "30135409-ec33-4860-b261-fd455329dd72"
            },
            "outputs": [],
            "execution_count": null
        },
        {
            "cell_type": "markdown",
            "source": [
                "<span style=\"font-size: 14px;\">Thứ hai, sử dụng câu lệnh SET để gán tập hợp kết quả của truy vấn cho biến:</span>"
            ],
            "metadata": {
                "language": "sql",
                "azdata_cell_guid": "6484ba14-1dc7-48be-89c7-a36f4275a05d"
            },
            "attachments": {}
        },
        {
            "cell_type": "code",
            "source": [
                "SET @product_count = (\r\n",
                "    SELECT \r\n",
                "        COUNT(*) \r\n",
                "    FROM \r\n",
                "        production.products \r\n",
                ");"
            ],
            "metadata": {
                "language": "sql",
                "azdata_cell_guid": "143424fb-aa7d-43a4-a639-fdeddffc8b8a"
            },
            "outputs": [],
            "execution_count": null
        },
        {
            "cell_type": "markdown",
            "source": [
                "<span style=\"font-size: 14px;\">Thứ ba, xuất nội dung của biến @product_count:</span>"
            ],
            "metadata": {
                "language": "sql",
                "azdata_cell_guid": "80d0d2bb-6943-4858-ac0e-be148dd3f781"
            },
            "attachments": {}
        },
        {
            "cell_type": "code",
            "source": [
                "SELECT @product_count;\r\n",
                "-- hoặc\r\n",
                "PRINT @product_count;\r\n",
                "-- hoặc \r\n",
                "PRINT 'The number of products is ' + CAST(@product_count AS VARCHAR(MAX));"
            ],
            "metadata": {
                "language": "sql",
                "azdata_cell_guid": "690c8e65-2391-4c49-9d32-0cf7d574c71b"
            },
            "outputs": [],
            "execution_count": null
        },
        {
            "cell_type": "markdown",
            "source": [
                "<span style=\"font-size: 14px; background-color: yellow;\"><b>Tích lũy các giá trị vào một biến</b></span>"
            ],
            "metadata": {
                "language": "sql",
                "azdata_cell_guid": "011bb52c-3a86-4672-8a48-57a8a5ed6caa"
            },
            "attachments": {}
        },
        {
            "cell_type": "code",
            "source": [
                "DECLARE\r\n",
                "    @model_year SMALLINT\r\n",
                "    ,@product_list VARCHAR(MAX);\r\n",
                "\r\n",
                "SET @model_year = 2018;\r\n",
                "SET @product_list = '';\r\n",
                "\r\n",
                "SELECT\r\n",
                "    @product_list = @product_list + product_name \r\n",
                "                    + CHAR(10)\r\n",
                "FROM \r\n",
                "    production.products\r\n",
                "WHERE\r\n",
                "    model_year = @model_year\r\n",
                "ORDER BY \r\n",
                "    product_name;\r\n",
                "\r\n",
                "PRINT @product_list;"
            ],
            "metadata": {
                "language": "sql",
                "azdata_cell_guid": "9611f19a-273a-4be4-9997-2a21cb9019e3"
            },
            "outputs": [],
            "execution_count": null
        },
        {
            "cell_type": "markdown",
            "source": [
                "<span style=\"font-size: 14px; background-color: yellow;\"><b>Biến toàn cục (Global variables) trong MS SQL Server</b></span>"
            ],
            "metadata": {
                "language": "sql",
                "azdata_cell_guid": "7cf06b0b-b25a-48d7-bb37-74a6502b4848"
            },
            "attachments": {}
        },
        {
            "cell_type": "markdown",
            "source": [
                "<span style=\"font-size:14px;\">Các biến toàn cục là <span style=\"background-color: yellow;\">các biến hệ thống được xác định trước</span>. Nó bắt đầu với <span style=\"background-color: yellow;\">@@.</span> Nó cung cấp thông tin về môi trường người dùng hiện tại cho SQL Server. SQL Server cung cấp nhiều biến toàn cục, rất hiệu quả để sử dụng trong <span style=\"background-color: yellow;\">Transact-SQL.</span> Sau đây là một số biến toàn cục thường được sử dụng:</span>\n",
                "\n",
                "- @@SERVERNAME \n",
                "- @@CONNECTIONS \n",
                "- @@MAX\\_CONNECTIONS \n",
                "- @@CPU\\_BUSY \n",
                "- @@ERROR \n",
                "- @@IDLE \n",
                "- @@LANGUAGE \n",
                "- @@TRANCOUNT \n",
                "- @@ROWCOUNT\n",
                "- @@VERSION"
            ],
            "metadata": {
                "language": "sql",
                "azdata_cell_guid": "be730c8c-c98d-4abc-a16d-0e1558cc7318"
            },
            "attachments": {}
        },
        {
            "cell_type": "code",
            "source": [
                "PRINT @@servername\r\n",
                "PRINT @@connections\r\n",
                "PRINT @@max_connections\r\n",
                "PRINT @@language\r\n",
                "PRINT @@version"
            ],
            "metadata": {
                "language": "sql",
                "azdata_cell_guid": "8dc5b62c-ba79-441e-90f9-ca612cdd6ae3"
            },
            "outputs": [],
            "execution_count": null
        }
    ]
}