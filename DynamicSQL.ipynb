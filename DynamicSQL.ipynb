{
    "metadata": {
        "kernelspec": {
            "name": "SQL",
            "display_name": "SQL",
            "language": "sql"
        },
        "language_info": {
            "name": "sql",
            "version": ""
        }
    },
    "nbformat_minor": 2,
    "nbformat": 4,
    "cells": [
        {
            "cell_type": "markdown",
            "source": [
                "# **<mark>Dynamic SQL</mark>**"
            ],
            "metadata": {
                "azdata_cell_guid": "f838695a-b5a5-4f4f-9e71-41df2d220b34"
            },
            "attachments": {}
        },
        {
            "cell_type": "markdown",
            "source": [
                "**Dynamic SQL** là một kỹ thuật lập trình cho phép bạn tạo các câu lệnh SQL động trong thời gian chạy. Nó cho phép bạn tạo câu lệnh SQL có mục đích chung và linh hoạt hơn vì toàn bộ văn bản của câu lệnh SQL có thể không được biết khi biên dịch. Ví dụ: bạn có thể sử dụng SQL động để tạo một thủ tục được lưu trữ truy vấn dữ liệu đối với một bảng có tên không được biết cho đến thời gian chạy."
            ],
            "metadata": {
                "azdata_cell_guid": "f3e6a3be-fda5-483a-8563-d99ba715893f"
            },
            "attachments": {}
        },
        {
            "cell_type": "markdown",
            "source": [
                "Tạo một SQL động rất đơn giản, bạn chỉ cần đặt nó thành một chuỗi như sau:\n",
                "\n",
                "```\n",
                "'SELECT * FROM production.products';\n",
                "```\n",
                "Để thực thi một câu lệnh SQL động, bạn gọi thủ tục được lưu trữ sp_executesql như được hiển thị trong câu lệnh sau:"
            ],
            "metadata": {
                "azdata_cell_guid": "bf6a24a5-2e5d-45f8-82f0-887cbb1d13f8"
            },
            "attachments": {}
        },
        {
            "cell_type": "code",
            "source": [
                "EXEC sp_executesql N'SELECT * FROM production.products';"
            ],
            "metadata": {
                "azdata_cell_guid": "f8f7671d-bfa0-48f3-b1d6-aeec5c9b5b10",
                "language": "sql"
            },
            "outputs": [],
            "execution_count": null
        },
        {
            "cell_type": "markdown",
            "source": [
                "<mark>Bởi vì sp\\_executesql chấp nhận SQL động dưới dạng một chuỗi Unicode, bạn cần đặt tiền tố nó bằng N.</mark>"
            ],
            "metadata": {
                "language": "sql",
                "azdata_cell_guid": "7f3474d6-3d7a-4e69-8920-d469b5187dcb"
            },
            "attachments": {}
        },
        {
            "cell_type": "markdown",
            "source": [
                "### **<mark>Sử dụng SQL động để truy vấn từ bất kỳ ví dụ bảng nào</mark>**"
            ],
            "metadata": {
                "language": "sql",
                "azdata_cell_guid": "be545d81-1d6e-45d9-a9da-f43bbf703f51"
            },
            "attachments": {}
        },
        {
            "cell_type": "markdown",
            "source": [
                "Đầu tiên, khai báo hai biến, @table để giữ tên của bảng mà bạn muốn truy vấn và @sql để giữ SQL động.\n",
                "\n",
                "```\n",
                "DECLARE \n",
                "    @table NVARCHAR(128),\n",
                "    @sql NVARCHAR(MAX);\n",
                "\n",
                "```\n",
                "\n",
                "Thứ hai, đặt giá trị của biến @table thành production.products.\n",
                "\n",
                "```\n",
                "SET @table = N'production.products';\n",
                "\n",
                "```\n",
                "\n",
                "Thứ ba, xây dựng SQL động bằng cách nối câu lệnh SELECT với tham số tên bảng:\n",
                "\n",
                "```\n",
                "SET @sql = N'SELECT * FROM ' + @table;\n",
                "\n",
                "```\n",
                "\n",
                "Thứ tư, gọi thủ tục được lưu trữ sp\\_executesql bằng cách truyền tham số @sql.  \n",
                "\n",
                "```\n",
                "EXEC sp_executesql @sql;\n",
                "\n",
                "```"
            ],
            "metadata": {
                "language": "sql",
                "azdata_cell_guid": "14807127-bf5d-4105-ad8b-71e8a0a37eed"
            },
            "attachments": {}
        },
        {
            "cell_type": "code",
            "source": [
                "DECLARE \r\n",
                "    @table NVARCHAR(128),\r\n",
                "    @sql NVARCHAR(MAX);\r\n",
                "\r\n",
                "SET @table = N'production.products';\r\n",
                "\r\n",
                "SET @sql = N'SELECT * FROM ' + @table;\r\n",
                "\r\n",
                "EXEC sp_executesql @sql;"
            ],
            "metadata": {
                "language": "sql",
                "azdata_cell_guid": "66ffa3c6-0bca-426a-95ad-22760e0acb5f"
            },
            "outputs": [],
            "execution_count": null
        },
        {
            "cell_type": "markdown",
            "source": [
                "Để truy vấn dữ liệu từ một bảng khác, bạn thay đổi giá trị của biến @table. Tuy nhiên, sẽ thực tế hơn nếu chúng ta bọc khối T-SQL ở trên trong một quy trình được lưu trữ."
            ],
            "metadata": {
                "language": "sql",
                "azdata_cell_guid": "38608ee5-fed9-4d45-bb30-d1bf8d7edb4f"
            },
            "attachments": {}
        },
        {
            "cell_type": "markdown",
            "source": [
                "### **<mark>SQL động và stored procedures</mark>**"
            ],
            "metadata": {
                "language": "sql",
                "azdata_cell_guid": "2d871187-35c6-498e-8d68-5d21c65e6eeb"
            },
            "attachments": {}
        },
        {
            "cell_type": "code",
            "source": [
                "CREATE PROC usp_query (\r\n",
                "    @table NVARCHAR(128)\r\n",
                ")\r\n",
                "AS\r\n",
                "BEGIN\r\n",
                "\r\n",
                "    DECLARE @sql NVARCHAR(MAX);\r\n",
                "    -- construct SQL\r\n",
                "    SET @sql = N'SELECT * FROM ' + @table;\r\n",
                "    -- execute the SQL\r\n",
                "    EXEC sp_executesql @sql;\r\n",
                "    \r\n",
                "END;"
            ],
            "metadata": {
                "language": "sql",
                "azdata_cell_guid": "abc7f049-7033-472b-a451-210c3d908525",
                "tags": []
            },
            "outputs": [
                {
                    "output_type": "display_data",
                    "data": {
                        "text/html": "Commands completed successfully."
                    },
                    "metadata": {}
                },
                {
                    "output_type": "display_data",
                    "data": {
                        "text/html": "Total execution time: 00:00:00"
                    },
                    "metadata": {}
                }
            ],
            "execution_count": 1
        },
        {
            "cell_type": "code",
            "source": [
                "EXEC usp_query 'production.brands';"
            ],
            "metadata": {
                "language": "sql",
                "azdata_cell_guid": "a839f835-2057-4a24-ba3b-0a9fca3d450d"
            },
            "outputs": [
                {
                    "output_type": "display_data",
                    "data": {
                        "text/html": "(9 rows affected)"
                    },
                    "metadata": {}
                },
                {
                    "output_type": "display_data",
                    "data": {
                        "text/html": "Total execution time: 00:00:00.013"
                    },
                    "metadata": {}
                },
                {
                    "output_type": "execute_result",
                    "execution_count": 2,
                    "data": {
                        "application/vnd.dataresource+json": {
                            "schema": {
                                "fields": [
                                    {
                                        "name": "brand_id"
                                    },
                                    {
                                        "name": "brand_name"
                                    }
                                ]
                            },
                            "data": [
                                {
                                    "0": "1",
                                    "1": "Electra"
                                },
                                {
                                    "0": "2",
                                    "1": "Haro"
                                },
                                {
                                    "0": "3",
                                    "1": "Heller"
                                },
                                {
                                    "0": "4",
                                    "1": "Pure Cycles"
                                },
                                {
                                    "0": "5",
                                    "1": "Ritchey"
                                },
                                {
                                    "0": "6",
                                    "1": "Strider"
                                },
                                {
                                    "0": "7",
                                    "1": "Sun Bicycles"
                                },
                                {
                                    "0": "8",
                                    "1": "Surly"
                                },
                                {
                                    "0": "9",
                                    "1": "Trek"
                                }
                            ]
                        },
                        "text/html": "<table><tr><th>brand_id</th><th>brand_name</th></tr><tr><td>1</td><td>Electra</td></tr><tr><td>2</td><td>Haro</td></tr><tr><td>3</td><td>Heller</td></tr><tr><td>4</td><td>Pure Cycles</td></tr><tr><td>5</td><td>Ritchey</td></tr><tr><td>6</td><td>Strider</td></tr><tr><td>7</td><td>Sun Bicycles</td></tr><tr><td>8</td><td>Surly</td></tr><tr><td>9</td><td>Trek</td></tr></table>"
                    },
                    "metadata": {}
                }
            ],
            "execution_count": 2
        },
        {
            "cell_type": "code",
            "source": [
                "CREATE OR ALTER PROC usp_query_topn(\r\n",
                "    @table NVARCHAR(128),\r\n",
                "    @topN INT,\r\n",
                "    @byColumn NVARCHAR(128)\r\n",
                ")\r\n",
                "AS\r\n",
                "BEGIN\r\n",
                "    DECLARE \r\n",
                "        @sql NVARCHAR(MAX),\r\n",
                "        @topNStr NVARCHAR(MAX);\r\n",
                "\r\n",
                "    SET @topNStr  = CAST(@topN as nvarchar(max));\r\n",
                "\r\n",
                "    -- construct SQL\r\n",
                "    SET @sql = N'SELECT TOP ' +  @topNStr  + \r\n",
                "                ' * FROM ' + @table + \r\n",
                "                    ' ORDER BY ' + @byColumn + ' DESC';\r\n",
                "    -- execute the SQL\r\n",
                "    EXEC sp_executesql @sql;\r\n",
                "    \r\n",
                "END;"
            ],
            "metadata": {
                "language": "sql",
                "azdata_cell_guid": "4b328736-c395-406e-93c4-21c25f25da38"
            },
            "outputs": [
                {
                    "output_type": "display_data",
                    "data": {
                        "text/html": "Commands completed successfully."
                    },
                    "metadata": {}
                },
                {
                    "output_type": "display_data",
                    "data": {
                        "text/html": "Total execution time: 00:00:00.009"
                    },
                    "metadata": {}
                }
            ],
            "execution_count": 3
        },
        {
            "cell_type": "code",
            "source": [
                "EXEC usp_query_topn \r\n",
                "        'production.products',\r\n",
                "        5, \r\n",
                "        'model_year';"
            ],
            "metadata": {
                "language": "sql",
                "azdata_cell_guid": "a159183e-7897-42df-8822-e7cee49a1ccb"
            },
            "outputs": [
                {
                    "output_type": "display_data",
                    "data": {
                        "text/html": "(5 rows affected)"
                    },
                    "metadata": {}
                },
                {
                    "output_type": "display_data",
                    "data": {
                        "text/html": "Total execution time: 00:00:00.007"
                    },
                    "metadata": {}
                },
                {
                    "output_type": "execute_result",
                    "execution_count": 7,
                    "data": {
                        "application/vnd.dataresource+json": {
                            "schema": {
                                "fields": [
                                    {
                                        "name": "product_id"
                                    },
                                    {
                                        "name": "product_name"
                                    },
                                    {
                                        "name": "brand_id"
                                    },
                                    {
                                        "name": "category_id"
                                    },
                                    {
                                        "name": "model_year"
                                    },
                                    {
                                        "name": "list_price"
                                    }
                                ]
                            },
                            "data": [
                                {
                                    "0": "316",
                                    "1": "Trek Checkpoint ALR 4 Women's - 2019",
                                    "2": "9",
                                    "3": "7",
                                    "4": "2019",
                                    "5": "1699.99"
                                },
                                {
                                    "0": "317",
                                    "1": "Trek Checkpoint ALR 5 - 2019",
                                    "2": "9",
                                    "3": "7",
                                    "4": "2019",
                                    "5": "1999.99"
                                },
                                {
                                    "0": "318",
                                    "1": "Trek Checkpoint ALR 5 Women's - 2019",
                                    "2": "9",
                                    "3": "7",
                                    "4": "2019",
                                    "5": "1999.99"
                                },
                                {
                                    "0": "319",
                                    "1": "Trek Checkpoint SL 5 Women's - 2019",
                                    "2": "9",
                                    "3": "7",
                                    "4": "2019",
                                    "5": "2799.99"
                                },
                                {
                                    "0": "320",
                                    "1": "Trek Checkpoint SL 6 - 2019",
                                    "2": "9",
                                    "3": "7",
                                    "4": "2019",
                                    "5": "3799.99"
                                }
                            ]
                        },
                        "text/html": "<table><tr><th>product_id</th><th>product_name</th><th>brand_id</th><th>category_id</th><th>model_year</th><th>list_price</th></tr><tr><td>316</td><td>Trek Checkpoint ALR 4 Women's - 2019</td><td>9</td><td>7</td><td>2019</td><td>1699.99</td></tr><tr><td>317</td><td>Trek Checkpoint ALR 5 - 2019</td><td>9</td><td>7</td><td>2019</td><td>1999.99</td></tr><tr><td>318</td><td>Trek Checkpoint ALR 5 Women's - 2019</td><td>9</td><td>7</td><td>2019</td><td>1999.99</td></tr><tr><td>319</td><td>Trek Checkpoint SL 5 Women's - 2019</td><td>9</td><td>7</td><td>2019</td><td>2799.99</td></tr><tr><td>320</td><td>Trek Checkpoint SL 6 - 2019</td><td>9</td><td>7</td><td>2019</td><td>3799.99</td></tr></table>"
                    },
                    "metadata": {}
                }
            ],
            "execution_count": 7
        },
        {
            "cell_type": "code",
            "source": [
                "EXEC usp_query_topn \r\n",
                "        'production.stocks',\r\n",
                "        10, \r\n",
                "        'quantity';"
            ],
            "metadata": {
                "language": "sql",
                "azdata_cell_guid": "00c9e115-4093-48e0-a6b6-eeb571c54dee"
            },
            "outputs": [
                {
                    "output_type": "display_data",
                    "data": {
                        "text/html": "(10 rows affected)"
                    },
                    "metadata": {}
                },
                {
                    "output_type": "display_data",
                    "data": {
                        "text/html": "Total execution time: 00:00:00.004"
                    },
                    "metadata": {}
                },
                {
                    "output_type": "execute_result",
                    "execution_count": 5,
                    "data": {
                        "application/vnd.dataresource+json": {
                            "schema": {
                                "fields": [
                                    {
                                        "name": "store_id"
                                    },
                                    {
                                        "name": "product_id"
                                    },
                                    {
                                        "name": "quantity"
                                    }
                                ]
                            },
                            "data": [
                                {
                                    "0": "1",
                                    "1": "30",
                                    "2": "30"
                                },
                                {
                                    "0": "1",
                                    "1": "61",
                                    "2": "30"
                                },
                                {
                                    "0": "1",
                                    "1": "64",
                                    "2": "30"
                                },
                                {
                                    "0": "1",
                                    "1": "68",
                                    "2": "30"
                                },
                                {
                                    "0": "1",
                                    "1": "106",
                                    "2": "30"
                                },
                                {
                                    "0": "1",
                                    "1": "109",
                                    "2": "30"
                                },
                                {
                                    "0": "1",
                                    "1": "188",
                                    "2": "30"
                                },
                                {
                                    "0": "1",
                                    "1": "193",
                                    "2": "30"
                                },
                                {
                                    "0": "1",
                                    "1": "219",
                                    "2": "30"
                                },
                                {
                                    "0": "1",
                                    "1": "292",
                                    "2": "30"
                                }
                            ]
                        },
                        "text/html": "<table><tr><th>store_id</th><th>product_id</th><th>quantity</th></tr><tr><td>1</td><td>30</td><td>30</td></tr><tr><td>1</td><td>61</td><td>30</td></tr><tr><td>1</td><td>64</td><td>30</td></tr><tr><td>1</td><td>68</td><td>30</td></tr><tr><td>1</td><td>106</td><td>30</td></tr><tr><td>1</td><td>109</td><td>30</td></tr><tr><td>1</td><td>188</td><td>30</td></tr><tr><td>1</td><td>193</td><td>30</td></tr><tr><td>1</td><td>219</td><td>30</td></tr><tr><td>1</td><td>292</td><td>30</td></tr></table>"
                    },
                    "metadata": {}
                }
            ],
            "execution_count": 5
        },
        {
            "cell_type": "markdown",
            "source": [
                "### **<mark>SQL động và SQL Injection</mark>**"
            ],
            "metadata": {
                "language": "sql",
                "azdata_cell_guid": "956aea6b-497d-42c3-a294-517390ff0b3b"
            },
            "attachments": {}
        },
        {
            "cell_type": "code",
            "source": [
                "CREATE TABLE sales.tests(id INT);"
            ],
            "metadata": {
                "language": "sql",
                "azdata_cell_guid": "111d6fa8-913c-4953-a03d-ea3bd76095e1"
            },
            "outputs": [
                {
                    "output_type": "display_data",
                    "data": {
                        "text/html": "Commands completed successfully."
                    },
                    "metadata": {}
                },
                {
                    "output_type": "display_data",
                    "data": {
                        "text/html": "Total execution time: 00:00:00.010"
                    },
                    "metadata": {}
                }
            ],
            "execution_count": 8
        },
        {
            "cell_type": "code",
            "source": [
                "EXEC usp_query 'production.brands';"
            ],
            "metadata": {
                "language": "sql",
                "azdata_cell_guid": "3c3d6bf4-94f6-40be-9b99-e91a567e823c"
            },
            "outputs": [
                {
                    "output_type": "display_data",
                    "data": {
                        "text/html": "(9 rows affected)"
                    },
                    "metadata": {}
                },
                {
                    "output_type": "display_data",
                    "data": {
                        "text/html": "Total execution time: 00:00:00.003"
                    },
                    "metadata": {}
                },
                {
                    "output_type": "execute_result",
                    "execution_count": 9,
                    "data": {
                        "application/vnd.dataresource+json": {
                            "schema": {
                                "fields": [
                                    {
                                        "name": "brand_id"
                                    },
                                    {
                                        "name": "brand_name"
                                    }
                                ]
                            },
                            "data": [
                                {
                                    "0": "1",
                                    "1": "Electra"
                                },
                                {
                                    "0": "2",
                                    "1": "Haro"
                                },
                                {
                                    "0": "3",
                                    "1": "Heller"
                                },
                                {
                                    "0": "4",
                                    "1": "Pure Cycles"
                                },
                                {
                                    "0": "5",
                                    "1": "Ritchey"
                                },
                                {
                                    "0": "6",
                                    "1": "Strider"
                                },
                                {
                                    "0": "7",
                                    "1": "Sun Bicycles"
                                },
                                {
                                    "0": "8",
                                    "1": "Surly"
                                },
                                {
                                    "0": "9",
                                    "1": "Trek"
                                }
                            ]
                        },
                        "text/html": "<table><tr><th>brand_id</th><th>brand_name</th></tr><tr><td>1</td><td>Electra</td></tr><tr><td>2</td><td>Haro</td></tr><tr><td>3</td><td>Heller</td></tr><tr><td>4</td><td>Pure Cycles</td></tr><tr><td>5</td><td>Ritchey</td></tr><tr><td>6</td><td>Strider</td></tr><tr><td>7</td><td>Sun Bicycles</td></tr><tr><td>8</td><td>Surly</td></tr><tr><td>9</td><td>Trek</td></tr></table>"
                    },
                    "metadata": {}
                }
            ],
            "execution_count": 9
        },
        {
            "cell_type": "code",
            "source": [
                "CREATE PROC usp_query (\r\n",
                "    @table NVARCHAR(128)\r\n",
                ")\r\n",
                "AS\r\n",
                "BEGIN\r\n",
                "\r\n",
                "    DECLARE @sql NVARCHAR(MAX);\r\n",
                "    -- construct SQL\r\n",
                "    SET @sql = N'SELECT * FROM ' + @table;\r\n",
                "    -- execute the SQL\r\n",
                "    EXEC sp_executesql @sql;\r\n",
                "    \r\n",
                "END;"
            ],
            "metadata": {
                "language": "sql",
                "azdata_cell_guid": "94177dc9-2064-4330-9392-2e1b1f5c266a"
            },
            "outputs": [],
            "execution_count": null
        },
        {
            "cell_type": "code",
            "source": [
                "EXEC usp_query 'production.brands;DROP TABLE sales.tests';"
            ],
            "metadata": {
                "language": "sql",
                "azdata_cell_guid": "6708ec22-b5e5-410e-b0cd-81ca4714af00"
            },
            "outputs": [],
            "execution_count": null
        },
        {
            "cell_type": "markdown",
            "source": [
                "Kỹ thuật này được gọi là SQL injection. Khi câu lệnh được thực thi, bảng sales.tests sẽ bị loại bỏ, vì thủ tục được lưu trữ usp\\_query thực thi cả hai câu lệnh:"
            ],
            "metadata": {
                "language": "sql",
                "azdata_cell_guid": "847fa8ea-5336-478c-b375-e9b5a976e7af"
            },
            "attachments": {}
        },
        {
            "cell_type": "code",
            "source": [
                "SELECT * FROM production.brands;DROP TABLE sales.tests"
            ],
            "metadata": {
                "language": "sql",
                "azdata_cell_guid": "6a75df87-45ba-4c68-8314-1f2f0997af40"
            },
            "outputs": [],
            "execution_count": null
        },
        {
            "cell_type": "markdown",
            "source": [
                "SQL Injection: [SQL Injection - Start (hacksplaining.com)](https://www.hacksplaining.com/exercises/sql-injection#/start)"
            ],
            "metadata": {
                "azdata_cell_guid": "61ec27ca-487b-4f61-a425-58f840853cad"
            },
            "attachments": {}
        },
        {
            "cell_type": "markdown",
            "source": [
                "Để ngăn chặn việc đưa vào SQL này, bạn có thể sử dụng hàm QUOTENAME () như được hiển thị trong truy vấn sau:"
            ],
            "metadata": {
                "language": "sql",
                "azdata_cell_guid": "15eb4321-9bda-4e65-8d88-978c5611b674"
            },
            "attachments": {}
        },
        {
            "cell_type": "markdown",
            "source": [
                "QUOTENAME: [QUOTENAME (Transact-SQL) - SQL Server | Microsoft Docs](https://docs.microsoft.com/en-us/sql/t-sql/functions/quotename-transact-sql?view=sql-server-ver16)"
            ],
            "metadata": {
                "language": "sql",
                "azdata_cell_guid": "19236c09-08f9-4b99-85a2-77db3463264e"
            },
            "attachments": {}
        },
        {
            "cell_type": "code",
            "source": [
                "CREATE OR ALTER PROC usp_query\r\n",
                "(\r\n",
                "    @schema NVARCHAR(128), \r\n",
                "    @table  NVARCHAR(128)\r\n",
                ")\r\n",
                "AS\r\n",
                "    BEGIN\r\n",
                "        DECLARE \r\n",
                "            @sql NVARCHAR(MAX);\r\n",
                "        -- construct SQL\r\n",
                "        SET @sql = N'SELECT * FROM ' \r\n",
                "            + QUOTENAME(@schema) \r\n",
                "            + '.' \r\n",
                "            + QUOTENAME(@table);\r\n",
                "        -- execute the SQL\r\n",
                "        EXEC sp_executesql @sql;\r\n",
                "    END;"
            ],
            "metadata": {
                "language": "sql",
                "azdata_cell_guid": "f4d8af9f-d50c-46d3-a477-89e648c8be81"
            },
            "outputs": [],
            "execution_count": null
        },
        {
            "cell_type": "code",
            "source": [
                "EXEC usp_query 'production','brands';"
            ],
            "metadata": {
                "language": "sql",
                "azdata_cell_guid": "bc369ecb-4c66-4456-af6e-903afb4d096e"
            },
            "outputs": [],
            "execution_count": null
        },
        {
            "cell_type": "code",
            "source": [
                "'production'.'brands'"
            ],
            "metadata": {
                "language": "sql",
                "azdata_cell_guid": "fb9a5f4e-61b4-440c-9bb7-6b3ed7bb6368"
            },
            "outputs": [],
            "execution_count": null
        },
        {
            "cell_type": "code",
            "source": [
                "EXEC usp_query \r\n",
                "        'production',\r\n",
                "        'brands;DROP TABLE sales.tests';"
            ],
            "metadata": {
                "language": "sql",
                "azdata_cell_guid": "ed8d723a-ee23-4729-b59e-789b58aefcee"
            },
            "outputs": [],
            "execution_count": null
        },
        {
            "cell_type": "markdown",
            "source": [
                "### **<mark>Thông tin thêm về thủ tục lưu trữ sp\\_executesql</mark>**"
            ],
            "metadata": {
                "language": "sql",
                "azdata_cell_guid": "7f769225-ff7e-4d92-8ac1-ef3f6bb67918"
            },
            "attachments": {}
        },
        {
            "cell_type": "markdown",
            "source": [
                "```\n",
                "EXEC sp_executesql \n",
                "    sql_statement  \n",
                "    parameter_definition\n",
                "    @param1 = value1,\n",
                "    @param2 = value2,\n",
                "    ...\n",
                "\n",
                "```\n",
                "\n",
                "Trong cú pháp này:\n",
                "\n",
                "- sql\\_statement là một chuỗi Unicode chứa câu lệnh T-SQL. Câu lệnh sql\\_statement có thể chứa các tham số như SELECT \\* FROM table\\_name WHERE id = @ id \n",
                "- parameter\\_definition là một chuỗi chứa định nghĩa của tất cả các tham số được nhúng trong câu lệnh sql\\_statement. Mỗi định nghĩa tham số bao gồm tên tham số và kiểu dữ liệu của nó, ví dụ: @id INT. Các định nghĩa tham số được phân tách bằng dấu phẩy (,). \n",
                "- @ param1 = value1, @ param2 = value2,… chỉ định giá trị cho mọi tham số được xác định trong chuỗi parameter\\_definition."
            ],
            "metadata": {
                "language": "sql",
                "azdata_cell_guid": "fe279a2c-33ff-4be0-8a00-b30887e4c880"
            },
            "attachments": {}
        },
        {
            "cell_type": "code",
            "source": [
                "EXEC sp_executesql\r\n",
                "    N'SELECT *\r\n",
                "        FROM \r\n",
                "            production.products \r\n",
                "        WHERE \r\n",
                "            list_price> @listPrice AND\r\n",
                "            category_id = @categoryId\r\n",
                "        ORDER BY\r\n",
                "            list_price DESC' \r\n",
                "    ,N'@listPrice DECIMAL(10,2),\r\n",
                "    @categoryId INT'\r\n",
                "    ,@listPrice = 100\r\n",
                "    ,@categoryId = 1;"
            ],
            "metadata": {
                "language": "sql",
                "azdata_cell_guid": "1eb73d38-e466-4514-ba24-d9fe2901f785"
            },
            "outputs": [],
            "execution_count": null
        }
    ]
}