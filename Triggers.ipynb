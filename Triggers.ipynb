{
    "metadata": {
        "kernelspec": {
            "name": "SQL",
            "display_name": "SQL",
            "language": "sql"
        },
        "language_info": {
            "name": "sql",
            "version": ""
        }
    },
    "nbformat_minor": 2,
    "nbformat": 4,
    "cells": [
        {
            "cell_type": "markdown",
            "source": [
                "# **<mark>Triggers</mark>**"
            ],
            "metadata": {
                "azdata_cell_guid": "769b5312-0b4b-46d5-9ad3-757c167550c0"
            },
            "attachments": {}
        },
        {
            "cell_type": "markdown",
            "source": [
                "<mark>Triggers (trình kích hoạt tự động)</mark> trên SQL Server là các stored procedure đặc biệt được thực thi tự động để phản hồi đối tượng cơ sở dữ liệu, cơ sở dữ liệu và các sự kiện máy chủ. \n",
                "\n",
                "SQL Server cung cấp ba loại trình kích hoạt:\n",
                "\n",
                "- <mark>Data manipulation language (Ngôn ngữ thao tác dữ liệu - DML) triggers</mark> được gọi tự động để phản hồi các sự kiện INSERT, UPDATE và DELETE so với các bảng.\n",
                "- <mark>Data definition language (Ngôn ngữ định nghĩa dữ liệu - DDL) triggers</mark> để kích hoạt các câu lệnh CREATE, ALTER và DROP. Các trình kích hoạt DDL cũng kích hoạt để đáp ứng với một số thủ tục được lưu trữ trong hệ thống thực hiện các hoạt động giống như DDL.\n",
                "- <mark>LOGON triggers</mark> phản hồi các sự kiện LOGON"
            ],
            "metadata": {
                "azdata_cell_guid": "e163f229-9a25-4558-aeb4-aee21d56c7f7"
            },
            "attachments": {}
        },
        {
            "cell_type": "markdown",
            "source": [
                "## **<mark>CREATE TRIGGER</mark>**"
            ],
            "metadata": {
                "azdata_cell_guid": "e31fa78e-5b9b-4f7d-b6be-c44bdc8ed7f9"
            },
            "attachments": {}
        },
        {
            "cell_type": "markdown",
            "source": [
                "Câu lệnh CREATE TRIGGER cho phép bạn tạo một trình kích hoạt mới được kích hoạt tự động bất cứ khi nào một sự kiện như INSERT, DELETE hoặc UPDATE xảy ra đối với một bảng.\n",
                "\n",
                "```\n",
                "CREATE TRIGGER [schema_name.]trigger_name\n",
                "ON table_name\n",
                "AFTER  {[INSERT],[UPDATE],[DELETE]}\n",
                "[NOT FOR REPLICATION]\n",
                "AS\n",
                "{sql_statements}\n",
                "\n",
                "```\n",
                "\n",
                "Trong cú pháp này:\n",
                "\n",
                "- schema\\_name là tên của lược đồ chứa trình kích hoạt mới. Tên lược đồ là tùy chọn.\n",
                "- trigger\\_name là tên do người dùng xác định cho trình kích hoạt mới.\n",
                "- table\\_name là bảng mà trình kích hoạt áp dụng.\n",
                "- Sự kiện được liệt kê trong mệnh đề AFTER. Sự kiện có thể là INSERT, UPDATE hoặc DELETE. Một trình kích hoạt duy nhất có thể kích hoạt để phản hồi một hoặc nhiều hành động đối với bảng.\n",
                "- Tùy chọn NOT FOR REPLICATION hướng dẫn SQL Server không kích hoạt trình kích hoạt khi sửa đổi dữ liệu được thực hiện như một phần của quá trình sao chép.\n",
                "- Sql\\_statements là một hoặc nhiều Transact-SQL được sử dụng để thực hiện các hành động khi một sự kiện xảy ra."
            ],
            "metadata": {
                "azdata_cell_guid": "45178207-903a-4ae3-a32c-e048594a0b62"
            },
            "attachments": {}
        },
        {
            "cell_type": "markdown",
            "source": [
                "### **<mark>Bảng “ảo” cho trình kích hoạt: INSERTED và DELETED</mark>**"
            ],
            "metadata": {
                "azdata_cell_guid": "1be6fbc0-e76a-409f-9bc0-50826840a26b"
            },
            "attachments": {}
        },
        {
            "cell_type": "markdown",
            "source": [
                "SQL Server cung cấp hai bảng ảo có sẵn đặc biệt cho các trình kích hoạt được gọi là bảng INSERTED và DELETED. SQL Server sử dụng các bảng này để nắm bắt dữ liệu của hàng đã sửa đổi trước và sau khi sự kiện xảy ra.\r\n",
                "\r\n",
                "| DML event | INSERTED table holds | DELETED table holds |\r\n",
                "| --- | --- | --- |\r\n",
                "| INSERT | rows to be inserted | empty |\r\n",
                "| UPDATE | new rows modified by the update | existing rows modified by the update |\r\n",
                "| DELETE | empty | rows to be deleted"
            ],
            "metadata": {
                "azdata_cell_guid": "27b7d7c3-c0c1-4989-8af9-1e5900fb3835"
            },
            "attachments": {}
        },
        {
            "cell_type": "markdown",
            "source": [
                "**<mark>1) Tạo một bảng để ghi lại các thay đổi</mark>**"
            ],
            "metadata": {
                "azdata_cell_guid": "8ff8ce29-33e6-4e87-a2ab-3a392e932c26"
            },
            "attachments": {}
        },
        {
            "cell_type": "code",
            "source": [
                "CREATE TABLE production.product_audits(\r\n",
                "    change_id INT IDENTITY PRIMARY KEY,\r\n",
                "    product_id INT NOT NULL,\r\n",
                "    product_name VARCHAR(255) NOT NULL,\r\n",
                "    brand_id INT NOT NULL,\r\n",
                "    category_id INT NOT NULL,\r\n",
                "    model_year SMALLINT NOT NULL,\r\n",
                "    list_price DEC(10,2) NOT NULL,\r\n",
                "    updated_at DATETIME NOT NULL,\r\n",
                "    operation CHAR(7) NOT NULL,\r\n",
                "    CHECK(operation IN ('INS', 'UPD-NEW', 'UPD-DEL', 'DEL'))\r\n",
                ")"
            ],
            "metadata": {
                "azdata_cell_guid": "53984cdc-e174-4499-8c88-b168712f9c1c",
                "language": "sql",
                "tags": []
            },
            "outputs": [
                {
                    "output_type": "display_data",
                    "data": {
                        "text/html": "Commands completed successfully."
                    },
                    "metadata": {}
                },
                {
                    "output_type": "display_data",
                    "data": {
                        "text/html": "Total execution time: 00:00:00.006"
                    },
                    "metadata": {}
                }
            ],
            "execution_count": 6
        },
        {
            "cell_type": "markdown",
            "source": [
                "**<mark>2) Tạo trình kích hoạt sau DML</mark>**"
            ],
            "metadata": {
                "language": "sql",
                "azdata_cell_guid": "af81532b-77b7-419a-b331-54931e7227a6"
            },
            "attachments": {}
        },
        {
            "cell_type": "markdown",
            "source": [
                "Đầu tiên, để tạo trình kích hoạt mới, bạn chỉ định tên của trình kích hoạt và lược đồ mà trình kích hoạt thuộc về trong mệnh đề CREATE TRIGGER:\n",
                "```\n",
                "CREATE TRIGGER production.trg_product_audit\n",
                "\n",
                "```\n",
                "\n",
                "Tiếp theo, bạn chỉ định tên của bảng, mà trình kích hoạt sẽ kích hoạt khi một sự kiện xảy ra, trong mệnh đề ON:  \n",
                "\n",
                "```\n",
                "ON production.products\n",
                "\n",
                "```\n",
                "\n",
                "Sau đó, bạn liệt kê một hoặc nhiều sự kiện sẽ gọi trình kích hoạt trong mệnh đề AFTER:  \n",
                "\n",
                "```\n",
                "AFTER INSERT, DELETE\n",
                "\n",
                "```\n",
                "\n",
                "Nội dung của trình kích hoạt bắt đầu bằng từ khóa AS:  \n",
                "\n",
                "```\n",
                "AS\n",
                "BEGIN\n",
                "\n",
                "```\n",
                "\n",
                "Sau đó, bên trong phần thân của trình kích hoạt, bạn đặt SET NOCOUNT thành ON để ngăn chặn số lượng hàng bị ảnh hưởng gửi thông báo bất cứ khi nào trình kích hoạt được kích hoạt.  \n",
                "\n",
                "```\n",
                "SET NOCOUNT ON;\n",
                "\n",
                "```\n",
                "\n",
                "Trình kích hoạt sẽ chèn một hàng vào bảng production.product\\_audits bất cứ khi nào một hàng được chèn vào hoặc xóa khỏi bảng production.products. Dữ liệu để chèn được cung cấp từ bảng INSERTED và DELETED thông qua toán tử UNION ALL:  \n",
                "\n",
                "```\n",
                "INSERT INTO\n",
                "    production.product_audits\n",
                "        (\n",
                "            product_id,\n",
                "            product_name,\n",
                "            brand_id,\n",
                "            category_id,\n",
                "            model_year,\n",
                "            list_price,\n",
                "            updated_at,\n",
                "            operation\n",
                "        )\n",
                "SELECT\n",
                "    i.product_id,\n",
                "    product_name,\n",
                "    brand_id,\n",
                "    category_id,\n",
                "    model_year,\n",
                "    i.list_price,\n",
                "    GETDATE(),\n",
                "    'INS'\n",
                "FROM\n",
                "    inserted AS i\n",
                "UNION ALL\n",
                "    SELECT\n",
                "        d.product_id,\n",
                "        product_name,\n",
                "        brand_id,\n",
                "        category_id,\n",
                "        model_year,\n",
                "        d.list_price,\n",
                "        getdate(),\n",
                "        'DEL'\n",
                "    FROM\n",
                "        deleted AS d;\n",
                "\n",
                "```"
            ],
            "metadata": {
                "language": "sql",
                "azdata_cell_guid": "3879adf6-a439-4046-8db9-06e50a704586"
            },
            "attachments": {}
        },
        {
            "cell_type": "code",
            "source": [
                "CREATE TRIGGER [production].[trg_product_audit]\r\n",
                "ON [production].[products]\r\n",
                "AFTER INSERT, DELETE\r\n",
                "AS\r\n",
                "BEGIN\r\n",
                "    SET NOCOUNT ON;\r\n",
                "\r\n",
                "    INSERT INTO [production].[product_audits](\r\n",
                "        [product_id], \r\n",
                "        [product_name],\r\n",
                "        [brand_id],\r\n",
                "        [category_id],\r\n",
                "        [model_year],\r\n",
                "        [list_price], \r\n",
                "        [updated_at], \r\n",
                "        [operation]\r\n",
                "    )\r\n",
                "    SELECT\r\n",
                "        [product_id],\r\n",
                "        [product_name],\r\n",
                "        [brand_id],\r\n",
                "        [category_id],\r\n",
                "        [model_year],\r\n",
                "        [list_price],\r\n",
                "        GETDATE(),\r\n",
                "        'INS'\r\n",
                "    FROM inserted\r\n",
                "    \r\n",
                "    UNION ALL\r\n",
                "\r\n",
                "    SELECT\r\n",
                "        [product_id],\r\n",
                "        [product_name],\r\n",
                "        [brand_id],\r\n",
                "        [category_id],\r\n",
                "        [model_year],\r\n",
                "        [list_price],\r\n",
                "        GETDATE(),\r\n",
                "        'DEL'\r\n",
                "    FROM deleted\r\n",
                "END"
            ],
            "metadata": {
                "language": "sql",
                "azdata_cell_guid": "0e3cca5a-37ee-4fc8-b201-e28b55817629"
            },
            "outputs": [
                {
                    "output_type": "display_data",
                    "data": {
                        "text/html": "Commands completed successfully."
                    },
                    "metadata": {}
                },
                {
                    "output_type": "display_data",
                    "data": {
                        "text/html": "Total execution time: 00:00:00.019"
                    },
                    "metadata": {}
                }
            ],
            "execution_count": 2
        },
        {
            "cell_type": "code",
            "source": [
                "CREATE TRIGGER [production].[trg_product_audit2]\r\n",
                "ON [production].[products]\r\n",
                "AFTER UPDATE\r\n",
                "AS\r\n",
                "BEGIN\r\n",
                "    SET NOCOUNT ON;\r\n",
                "\r\n",
                "    INSERT INTO [production].[product_audits](\r\n",
                "        [product_id], \r\n",
                "        [product_name],\r\n",
                "        [brand_id],\r\n",
                "        [category_id],\r\n",
                "        [model_year],\r\n",
                "        [list_price], \r\n",
                "        [updated_at], \r\n",
                "        [operation]\r\n",
                "    )\r\n",
                "    SELECT\r\n",
                "        [product_id],\r\n",
                "        [product_name],\r\n",
                "        [brand_id],\r\n",
                "        [category_id],\r\n",
                "        [model_year],\r\n",
                "        [list_price],\r\n",
                "        GETDATE(),\r\n",
                "        'UPD-NEW'\r\n",
                "    FROM inserted\r\n",
                "    \r\n",
                "    UNION ALL\r\n",
                "\r\n",
                "    SELECT\r\n",
                "        [product_id],\r\n",
                "        [product_name],\r\n",
                "        [brand_id],\r\n",
                "        [category_id],\r\n",
                "        [model_year],\r\n",
                "        [list_price],\r\n",
                "        GETDATE(),\r\n",
                "        'UPD-DEL'\r\n",
                "    FROM deleted\r\n",
                "END"
            ],
            "metadata": {
                "azdata_cell_guid": "8b43d55d-75a0-46f3-9c76-53e42fd94a48",
                "language": "sql"
            },
            "outputs": [
                {
                    "output_type": "display_data",
                    "data": {
                        "text/html": "Commands completed successfully."
                    },
                    "metadata": {}
                },
                {
                    "output_type": "display_data",
                    "data": {
                        "text/html": "Total execution time: 00:00:00.068"
                    },
                    "metadata": {}
                }
            ],
            "execution_count": 7
        },
        {
            "cell_type": "markdown",
            "source": [
                "**<mark>3) Kiểm tra trình kích hoạt</mark>**"
            ],
            "metadata": {
                "azdata_cell_guid": "1b1bd152-7b7d-430e-82ce-25e627480ab3"
            },
            "attachments": {}
        },
        {
            "cell_type": "code",
            "source": [
                "INSERT INTO [production].[products](\r\n",
                "    [product_name], \r\n",
                "    [brand_id], \r\n",
                "    [category_id], \r\n",
                "    [model_year], \r\n",
                "    [list_price]\r\n",
                ")\r\n",
                "VALUES (\r\n",
                "    'Test product',\r\n",
                "    1,\r\n",
                "    1,\r\n",
                "    2018,\r\n",
                "    599\r\n",
                ")"
            ],
            "metadata": {
                "azdata_cell_guid": "e5b7bf06-5d8f-4732-aa13-bd505c04cbde",
                "language": "sql"
            },
            "outputs": [
                {
                    "output_type": "display_data",
                    "data": {
                        "text/html": "(1 row affected)"
                    },
                    "metadata": {}
                },
                {
                    "output_type": "display_data",
                    "data": {
                        "text/html": "Total execution time: 00:00:00.008"
                    },
                    "metadata": {}
                }
            ],
            "execution_count": 8
        },
        {
            "cell_type": "markdown",
            "source": [
                "Do sự kiện INSERT, trình kích hoạt production.trg\\_product\\_audit của bảng production.products đã được kích hoạt."
            ],
            "metadata": {
                "azdata_cell_guid": "4b2a94d4-f033-470c-b17a-47bf333b72a5"
            },
            "attachments": {}
        },
        {
            "cell_type": "code",
            "source": [
                "SELECT \r\n",
                "    [change_id]\r\n",
                "    ,[product_id]\r\n",
                "    ,[product_name]\r\n",
                "    ,[brand_id]\r\n",
                "    ,[category_id]\r\n",
                "    ,[model_year]\r\n",
                "    ,[list_price]\r\n",
                "    ,[updated_at]\r\n",
                "    ,[operation]\r\n",
                "FROM \r\n",
                "    [production].[product_audits]"
            ],
            "metadata": {
                "azdata_cell_guid": "d11319bc-84ad-45be-b3d7-fda6d1614370",
                "language": "sql"
            },
            "outputs": [
                {
                    "output_type": "display_data",
                    "data": {
                        "text/html": "(1 row affected)"
                    },
                    "metadata": {}
                },
                {
                    "output_type": "display_data",
                    "data": {
                        "text/html": "Total execution time: 00:00:00.013"
                    },
                    "metadata": {}
                },
                {
                    "output_type": "execute_result",
                    "execution_count": 9,
                    "data": {
                        "application/vnd.dataresource+json": {
                            "schema": {
                                "fields": [
                                    {
                                        "name": "change_id"
                                    },
                                    {
                                        "name": "product_id"
                                    },
                                    {
                                        "name": "product_name"
                                    },
                                    {
                                        "name": "brand_id"
                                    },
                                    {
                                        "name": "category_id"
                                    },
                                    {
                                        "name": "model_year"
                                    },
                                    {
                                        "name": "list_price"
                                    },
                                    {
                                        "name": "updated_at"
                                    },
                                    {
                                        "name": "operation"
                                    }
                                ]
                            },
                            "data": [
                                {
                                    "0": "1",
                                    "1": "323",
                                    "2": "Test product",
                                    "3": "1",
                                    "4": "1",
                                    "5": "2018",
                                    "6": "599.00",
                                    "7": "2022-07-23 21:12:21.430",
                                    "8": "INS    "
                                }
                            ]
                        },
                        "text/html": "<table><tr><th>change_id</th><th>product_id</th><th>product_name</th><th>brand_id</th><th>category_id</th><th>model_year</th><th>list_price</th><th>updated_at</th><th>operation</th></tr><tr><td>1</td><td>323</td><td>Test product</td><td>1</td><td>1</td><td>2018</td><td>599.00</td><td>2022-07-23 21:12:21.430</td><td>INS    </td></tr></table>"
                    },
                    "metadata": {}
                }
            ],
            "execution_count": 9
        },
        {
            "cell_type": "code",
            "source": [
                "UPDATE [production].[products]\r\n",
                "SET [product_name] = 'Test Product 2'\r\n",
                "WHERE [product_name] = 'Test product'"
            ],
            "metadata": {
                "language": "sql",
                "azdata_cell_guid": "f4b86a9e-8475-4e3e-8c88-9cb86aa975f9",
                "tags": []
            },
            "outputs": [
                {
                    "output_type": "display_data",
                    "data": {
                        "text/html": "(1 row affected)"
                    },
                    "metadata": {}
                },
                {
                    "output_type": "display_data",
                    "data": {
                        "text/html": "Total execution time: 00:00:00.013"
                    },
                    "metadata": {}
                }
            ],
            "execution_count": 10
        },
        {
            "cell_type": "code",
            "source": [
                "SELECT \r\n",
                "    [change_id]\r\n",
                "    ,[product_id]\r\n",
                "    ,[product_name]\r\n",
                "    ,[brand_id]\r\n",
                "    ,[category_id]\r\n",
                "    ,[model_year]\r\n",
                "    ,[list_price]\r\n",
                "    ,[updated_at]\r\n",
                "    ,[operation]\r\n",
                "FROM \r\n",
                "    [production].[product_audits]"
            ],
            "metadata": {
                "language": "sql",
                "azdata_cell_guid": "63999149-f4e0-49ea-8d5e-bbd1a259623f"
            },
            "outputs": [
                {
                    "output_type": "display_data",
                    "data": {
                        "text/html": "(3 rows affected)"
                    },
                    "metadata": {}
                },
                {
                    "output_type": "display_data",
                    "data": {
                        "text/html": "Total execution time: 00:00:00.009"
                    },
                    "metadata": {}
                },
                {
                    "output_type": "execute_result",
                    "execution_count": 11,
                    "data": {
                        "application/vnd.dataresource+json": {
                            "schema": {
                                "fields": [
                                    {
                                        "name": "change_id"
                                    },
                                    {
                                        "name": "product_id"
                                    },
                                    {
                                        "name": "product_name"
                                    },
                                    {
                                        "name": "brand_id"
                                    },
                                    {
                                        "name": "category_id"
                                    },
                                    {
                                        "name": "model_year"
                                    },
                                    {
                                        "name": "list_price"
                                    },
                                    {
                                        "name": "updated_at"
                                    },
                                    {
                                        "name": "operation"
                                    }
                                ]
                            },
                            "data": [
                                {
                                    "0": "1",
                                    "1": "323",
                                    "2": "Test product",
                                    "3": "1",
                                    "4": "1",
                                    "5": "2018",
                                    "6": "599.00",
                                    "7": "2022-07-23 21:12:21.430",
                                    "8": "INS    "
                                },
                                {
                                    "0": "2",
                                    "1": "323",
                                    "2": "Test Product 2",
                                    "3": "1",
                                    "4": "1",
                                    "5": "2018",
                                    "6": "599.00",
                                    "7": "2022-07-23 21:12:32.620",
                                    "8": "UPD-NEW"
                                },
                                {
                                    "0": "3",
                                    "1": "323",
                                    "2": "Test product",
                                    "3": "1",
                                    "4": "1",
                                    "5": "2018",
                                    "6": "599.00",
                                    "7": "2022-07-23 21:12:32.620",
                                    "8": "UPD-DEL"
                                }
                            ]
                        },
                        "text/html": "<table><tr><th>change_id</th><th>product_id</th><th>product_name</th><th>brand_id</th><th>category_id</th><th>model_year</th><th>list_price</th><th>updated_at</th><th>operation</th></tr><tr><td>1</td><td>323</td><td>Test product</td><td>1</td><td>1</td><td>2018</td><td>599.00</td><td>2022-07-23 21:12:21.430</td><td>INS    </td></tr><tr><td>2</td><td>323</td><td>Test Product 2</td><td>1</td><td>1</td><td>2018</td><td>599.00</td><td>2022-07-23 21:12:32.620</td><td>UPD-NEW</td></tr><tr><td>3</td><td>323</td><td>Test product</td><td>1</td><td>1</td><td>2018</td><td>599.00</td><td>2022-07-23 21:12:32.620</td><td>UPD-DEL</td></tr></table>"
                    },
                    "metadata": {}
                }
            ],
            "execution_count": 11
        },
        {
            "cell_type": "code",
            "source": [
                "DELETE FROM \r\n",
                "    [production].[products]\r\n",
                "WHERE \r\n",
                "    [product_name] = 'Test Product 2';\r\n",
                ""
            ],
            "metadata": {
                "language": "sql",
                "azdata_cell_guid": "b330f77f-1af0-4257-b94b-97dc5469bfd7"
            },
            "outputs": [
                {
                    "output_type": "display_data",
                    "data": {
                        "text/html": "(1 row affected)"
                    },
                    "metadata": {}
                },
                {
                    "output_type": "display_data",
                    "data": {
                        "text/html": "Total execution time: 00:00:00.006"
                    },
                    "metadata": {}
                }
            ],
            "execution_count": 12
        },
        {
            "cell_type": "code",
            "source": [
                "SELECT \r\n",
                "    [change_id]\r\n",
                "    ,[product_id]\r\n",
                "    ,[product_name]\r\n",
                "    ,[brand_id]\r\n",
                "    ,[category_id]\r\n",
                "    ,[model_year]\r\n",
                "    ,[list_price]\r\n",
                "    ,[updated_at]\r\n",
                "    ,[operation]\r\n",
                "FROM \r\n",
                "    [production].[product_audits]"
            ],
            "metadata": {
                "language": "sql",
                "azdata_cell_guid": "18576983-5ec5-4b63-a91e-2039eebb19ec"
            },
            "outputs": [
                {
                    "output_type": "display_data",
                    "data": {
                        "text/html": "(4 rows affected)"
                    },
                    "metadata": {}
                },
                {
                    "output_type": "display_data",
                    "data": {
                        "text/html": "Total execution time: 00:00:00.012"
                    },
                    "metadata": {}
                },
                {
                    "output_type": "execute_result",
                    "execution_count": 13,
                    "data": {
                        "application/vnd.dataresource+json": {
                            "schema": {
                                "fields": [
                                    {
                                        "name": "change_id"
                                    },
                                    {
                                        "name": "product_id"
                                    },
                                    {
                                        "name": "product_name"
                                    },
                                    {
                                        "name": "brand_id"
                                    },
                                    {
                                        "name": "category_id"
                                    },
                                    {
                                        "name": "model_year"
                                    },
                                    {
                                        "name": "list_price"
                                    },
                                    {
                                        "name": "updated_at"
                                    },
                                    {
                                        "name": "operation"
                                    }
                                ]
                            },
                            "data": [
                                {
                                    "0": "1",
                                    "1": "323",
                                    "2": "Test product",
                                    "3": "1",
                                    "4": "1",
                                    "5": "2018",
                                    "6": "599.00",
                                    "7": "2022-07-23 21:12:21.430",
                                    "8": "INS    "
                                },
                                {
                                    "0": "2",
                                    "1": "323",
                                    "2": "Test Product 2",
                                    "3": "1",
                                    "4": "1",
                                    "5": "2018",
                                    "6": "599.00",
                                    "7": "2022-07-23 21:12:32.620",
                                    "8": "UPD-NEW"
                                },
                                {
                                    "0": "3",
                                    "1": "323",
                                    "2": "Test product",
                                    "3": "1",
                                    "4": "1",
                                    "5": "2018",
                                    "6": "599.00",
                                    "7": "2022-07-23 21:12:32.620",
                                    "8": "UPD-DEL"
                                },
                                {
                                    "0": "4",
                                    "1": "323",
                                    "2": "Test Product 2",
                                    "3": "1",
                                    "4": "1",
                                    "5": "2018",
                                    "6": "599.00",
                                    "7": "2022-07-23 21:13:14.977",
                                    "8": "DEL    "
                                }
                            ]
                        },
                        "text/html": "<table><tr><th>change_id</th><th>product_id</th><th>product_name</th><th>brand_id</th><th>category_id</th><th>model_year</th><th>list_price</th><th>updated_at</th><th>operation</th></tr><tr><td>1</td><td>323</td><td>Test product</td><td>1</td><td>1</td><td>2018</td><td>599.00</td><td>2022-07-23 21:12:21.430</td><td>INS    </td></tr><tr><td>2</td><td>323</td><td>Test Product 2</td><td>1</td><td>1</td><td>2018</td><td>599.00</td><td>2022-07-23 21:12:32.620</td><td>UPD-NEW</td></tr><tr><td>3</td><td>323</td><td>Test product</td><td>1</td><td>1</td><td>2018</td><td>599.00</td><td>2022-07-23 21:12:32.620</td><td>UPD-DEL</td></tr><tr><td>4</td><td>323</td><td>Test Product 2</td><td>1</td><td>1</td><td>2018</td><td>599.00</td><td>2022-07-23 21:13:14.977</td><td>DEL    </td></tr></table>"
                    },
                    "metadata": {}
                }
            ],
            "execution_count": 13
        },
        {
            "cell_type": "markdown",
            "source": [
                "## **<mark>DISABLE TRIGGER</mark>**"
            ],
            "metadata": {
                "azdata_cell_guid": "64caf662-b9df-4aa5-88f9-bcdf489a991f"
            },
            "attachments": {}
        },
        {
            "cell_type": "markdown",
            "source": [
                "Đôi khi, vì mục đích khắc phục sự cố hoặc khôi phục dữ liệu, bạn có thể muốn tắt tạm thời một trình kích hoạt. Để thực hiện việc này, bạn sử dụng câu lệnh DISABLE TRIGGER:\n",
                "\n",
                "```\n",
                "DISABLE TRIGGER [schema_name.][trigger_name] \n",
                "ON [object_name | DATABASE | ALL SERVER]\n",
                "\n",
                "```\n",
                "\n",
                "Trong cú pháp này:\n",
                "\n",
                "- Đầu tiên, chỉ định tên của lược đồ chứa trình kích hoạt và tên của trình kích hoạt mà bạn muốn vô hiệu hóa sau các từ khóa DISABLE TRIGGER.\n",
                "- Thứ hai, chỉ định tên bảng hoặc dạng xem mà trình kích hoạt được liên kết với nếu trình kích hoạt là trình kích hoạt DML. Sử dụng DATABASE nếu trình kích hoạt là trình kích hoạt có phạm vi cơ sở dữ liệu DDL hoặc ALL SERVER nếu trình kích hoạt là trình kích hoạt có phạm vi máy chủ DDL."
            ],
            "metadata": {
                "azdata_cell_guid": "f9b84ce6-1c8f-40bf-b6af-a428102716d9"
            },
            "attachments": {}
        },
        {
            "cell_type": "code",
            "source": [
                "CREATE TABLE [sales].[members] (\r\n",
                "    [member_id] INT IDENTITY PRIMARY KEY,\r\n",
                "    [customer_id] INT NOT NULL,\r\n",
                "    [member_level] CHAR(10) NOT NULL\r\n",
                ")"
            ],
            "metadata": {
                "azdata_cell_guid": "ec11997f-a2ba-4927-b439-f34cbc3ecdec",
                "language": "sql"
            },
            "outputs": [],
            "execution_count": null
        },
        {
            "cell_type": "code",
            "source": [
                "CREATE TRIGGER [sales].[trg_members_insert]\r\n",
                "ON [sales].[members]\r\n",
                "AFTER INSERT\r\n",
                "AS\r\n",
                "BEGIN\r\n",
                "    PRINT 'A new member has been inserted'\r\n",
                "END;"
            ],
            "metadata": {
                "language": "sql",
                "azdata_cell_guid": "0c91db3d-87d4-4c1f-afd2-ebe62f1aa633"
            },
            "outputs": [],
            "execution_count": null
        },
        {
            "cell_type": "code",
            "source": [
                "INSERT INTO [sales].[members]([customer_id], [member_level])\r\n",
                "VALUES(1,'Silver')"
            ],
            "metadata": {
                "language": "sql",
                "azdata_cell_guid": "9c59938d-233e-4a2c-872d-3eaedf6c9684"
            },
            "outputs": [],
            "execution_count": null
        },
        {
            "cell_type": "code",
            "source": [
                "DISABLE TRIGGER [sales].[trg_members_insert]\r\n",
                "ON [sales].[members]"
            ],
            "metadata": {
                "language": "sql",
                "azdata_cell_guid": "33f290cf-84dc-468d-a122-bbc80a3ce490"
            },
            "outputs": [],
            "execution_count": null
        },
        {
            "cell_type": "code",
            "source": [
                "INSERT INTO [sales].[members]([customer_id], [member_level])\r\n",
                "VALUES(2,'Gold')"
            ],
            "metadata": {
                "language": "sql",
                "azdata_cell_guid": "689a6ada-4d5c-4760-9d73-c7ea85884fc9"
            },
            "outputs": [],
            "execution_count": null
        },
        {
            "cell_type": "markdown",
            "source": [
                "**<mark>Tắt tất cả trình kích hoạt trên bảng</mark>**"
            ],
            "metadata": {
                "language": "sql",
                "azdata_cell_guid": "c2b7f7c1-c00a-4645-8580-1e9f4d5fd3de"
            },
            "attachments": {}
        },
        {
            "cell_type": "markdown",
            "source": [
                "Để tắt tất cả các trình kích hoạt trên bảng, bạn sử dụng câu lệnh sau:\n",
                "\n",
                "```\n",
                "DISABLE TRIGGER ALL ON table_name;\n",
                "\n",
                "```\n",
                "\n",
                "Trong câu lệnh này, bạn chỉ cần chỉ định tên của bảng để vô hiệu hóa tất cả các trình kích hoạt thuộc về bảng đó."
            ],
            "metadata": {
                "language": "sql",
                "azdata_cell_guid": "f9c85dec-a3e2-41d5-989b-f14f92357233"
            },
            "attachments": {}
        },
        {
            "cell_type": "code",
            "source": [
                "CREATE TRIGGER [sales].[trg_members_delete]\r\n",
                "ON [sales].[members]\r\n",
                "AFTER DELETE\r\n",
                "AS\r\n",
                "BEGIN\r\n",
                "    PRINT 'A new member has been deleted';\r\n",
                "END"
            ],
            "metadata": {
                "language": "sql",
                "azdata_cell_guid": "46789cea-5348-4d6a-a6bd-eb0503ceaf2b"
            },
            "outputs": [],
            "execution_count": null
        },
        {
            "cell_type": "code",
            "source": [
                "DISABLE TRIGGER ALL ON [sales].[members]"
            ],
            "metadata": {
                "language": "sql",
                "azdata_cell_guid": "a636eb42-6b15-4266-ae18-1a01abe4316c"
            },
            "outputs": [],
            "execution_count": null
        },
        {
            "cell_type": "markdown",
            "source": [
                "**<mark>Tắt tất cả các trình kích hoạt trên cơ sở dữ liệu</mark>**"
            ],
            "metadata": {
                "language": "sql",
                "azdata_cell_guid": "b8ea89c3-7bde-4a70-8eba-e4ca72907fdc"
            },
            "attachments": {}
        },
        {
            "cell_type": "markdown",
            "source": [
                "Để tắt tất cả các trình kích hoạt trên cơ sở dữ liệu hiện tại, bạn sử dụng câu lệnh sau:\n",
                "```\n",
                "DISABLE TRIGGER ALL ON DATABASE;\n",
                "```"
            ],
            "metadata": {
                "language": "sql",
                "azdata_cell_guid": "0b037144-6407-48ea-a52a-735e23fd981a"
            },
            "attachments": {}
        },
        {
            "cell_type": "markdown",
            "source": [
                "## **<mark>ENABLE TRIGGER</mark>**"
            ],
            "metadata": {
                "language": "sql",
                "azdata_cell_guid": "94d75390-f3fd-44fc-816b-294afc4feefd"
            },
            "attachments": {}
        },
        {
            "cell_type": "markdown",
            "source": [
                "Câu lệnh <mark>ENABLE TRIGGER</mark> cho phép bạn bật một trình kích hoạt để trình kích hoạt có thể được kích hoạt bất cứ khi nào một sự kiện xảy ra.\n",
                "\n",
                "Sau đây minh họa cú pháp của câu lệnh ENABLE TRIGGER:\n",
                "\n",
                "```\n",
                "ENABLE TRIGGER [schema_name.][trigger_name] \n",
                "ON [object_name | DATABASE | ALL SERVER]\n",
                "\n",
                "```\n",
                "\n",
                "Trong cú pháp này:\n",
                "\n",
                "- Đầu tiên, chỉ định tên của trình kích hoạt mà bạn muốn kích hoạt. Theo tùy chọn, bạn có thể chỉ định tên của lược đồ chứa trình kích hoạt.\n",
                "- Thứ hai, chỉ định bảng chứa trình kích hoạt nếu trình kích hoạt là trình kích hoạt DML. Sử dụng DATABASE nếu trình kích hoạt là trình kích hoạt có phạm vi cơ sở dữ liệu DDL hoặc ALL SERVER nếu trình kích hoạt là trình kích hoạt có phạm vi máy chủ DDL."
            ],
            "metadata": {
                "language": "sql",
                "azdata_cell_guid": "91f8fa6b-4dbf-46fd-96f1-0db93a113171"
            },
            "attachments": {}
        },
        {
            "cell_type": "code",
            "source": [
                "ENABLE TRIGGER [sales].[trg_members_insert]\r\n",
                "ON [sales].[members]"
            ],
            "metadata": {
                "language": "sql",
                "azdata_cell_guid": "e736d1f0-f3d1-4f70-ae22-1f3c9fd47858"
            },
            "outputs": [],
            "execution_count": null
        },
        {
            "cell_type": "markdown",
            "source": [
                "**<mark>Bật tất cả các trình kích hoạt của một bảng</mark>**"
            ],
            "metadata": {
                "language": "sql",
                "azdata_cell_guid": "4e977edd-138f-4c17-9b0b-d1fc1fe99a1d"
            },
            "attachments": {}
        },
        {
            "cell_type": "markdown",
            "source": [
                "Để bật tất cả các trình kích hoạt của một bảng, bạn sử dụng câu lệnh sau:\n",
                "\n",
                "```\n",
                "ENABLE TRIGGER ALL ON table_name;\n",
                "\n",
                "```"
            ],
            "metadata": {
                "language": "sql",
                "azdata_cell_guid": "1db9a2c2-87dd-4e92-8f7c-eef639b1206e"
            },
            "attachments": {}
        },
        {
            "cell_type": "code",
            "source": [
                "ENABLE TRIGGER ALL ON [sales].[members]"
            ],
            "metadata": {
                "language": "sql",
                "azdata_cell_guid": "f13bf2e4-e765-4958-8f43-3f5d78ce0420"
            },
            "outputs": [],
            "execution_count": null
        },
        {
            "cell_type": "markdown",
            "source": [
                "**<mark>Bật tất cả các trình kích hoạt của cơ sở dữ liệu</mark>**"
            ],
            "metadata": {
                "language": "sql",
                "azdata_cell_guid": "e1697184-eac3-4006-a6f3-e094e43aa5e8"
            },
            "attachments": {}
        },
        {
            "cell_type": "markdown",
            "source": [
                "Để bật tất cả các trình kích hoạt trên cơ sở dữ liệu hiện tại, bạn sử dụng câu lệnh sau:\n",
                "```\n",
                "ENABLE TRIGGER ALL ON DATABASE; \n",
                "\n",
                "```"
            ],
            "metadata": {
                "language": "sql",
                "azdata_cell_guid": "d5674593-363e-40ab-9c60-20f3993a2034"
            },
            "attachments": {}
        },
        {
            "cell_type": "markdown",
            "source": [
                "## **<mark>Xem định nghĩa về trình kích hoạt</mark>**"
            ],
            "metadata": {
                "language": "sql",
                "azdata_cell_guid": "ad0cbc96-b7ff-4b98-a882-cc854c3f049a"
            },
            "attachments": {}
        },
        {
            "cell_type": "markdown",
            "source": [
                "**<mark>Nhận định nghĩa trình kích hoạt bằng cách truy vấn từ chế độ xem hệ thống</mark>**"
            ],
            "metadata": {
                "language": "sql",
                "azdata_cell_guid": "936fa0df-3b3e-4b88-ba33-4a2e18a6a2bd"
            },
            "attachments": {}
        },
        {
            "cell_type": "markdown",
            "source": [
                "Trong truy vấn này, bạn chuyển tên của trình kích hoạt mà bạn muốn lấy định nghĩa cho hàm <mark>OBJECT\\_ID ()</mark> trong mệnh đề WHERE."
            ],
            "metadata": {
                "language": "sql",
                "azdata_cell_guid": "1e6145bc-fd03-4883-b330-12e2fd0de0ce"
            },
            "attachments": {}
        },
        {
            "cell_type": "code",
            "source": [
                "SELECT \r\n",
                "    [definition]  \r\n",
                "FROM \r\n",
                "    [sys].[sql_modules]  \r\n",
                "WHERE \r\n",
                "    [object_id] = OBJECT_ID('sales.trg_members_delete')"
            ],
            "metadata": {
                "language": "sql",
                "azdata_cell_guid": "dd2ee540-bef8-480e-909e-0853b053fb2e"
            },
            "outputs": [
                {
                    "output_type": "display_data",
                    "data": {
                        "text/html": "(0 rows affected)"
                    },
                    "metadata": {}
                },
                {
                    "output_type": "display_data",
                    "data": {
                        "text/html": "Total execution time: 00:00:00.003"
                    },
                    "metadata": {}
                },
                {
                    "output_type": "execute_result",
                    "execution_count": 10,
                    "data": {
                        "application/vnd.dataresource+json": {
                            "schema": {
                                "fields": [
                                    {
                                        "name": "definition"
                                    }
                                ]
                            },
                            "data": []
                        },
                        "text/html": "<table><tr><th>definition</th></tr></table>"
                    },
                    "metadata": {}
                }
            ],
            "execution_count": 10
        },
        {
            "cell_type": "markdown",
            "source": [
                "**<mark>Nhận định nghĩa trình kích hoạt bằng cách sử dụng hàm OBJECT\\_DEFINITION</mark>**"
            ],
            "metadata": {
                "language": "sql",
                "azdata_cell_guid": "17bedb16-1fdd-4aad-8f9e-8bead699d6b1"
            },
            "attachments": {}
        },
        {
            "cell_type": "markdown",
            "source": [
                "Trong truy vấn này, bạn chuyển tên trình kích hoạt cho hàm <mark>OBJECT\\_ID</mark> để lấy <mark>ID của trình kích hoạt</mark>. Sau đó, bạn sử dụng hàm <mark>OBJECT\\_DEFINITION ()</mark> để lấy văn bản nguồn <mark>Transact-SQL</mark> về định nghĩa của một trình kích hoạt dựa trên <mark>ID</mark> của nó."
            ],
            "metadata": {
                "language": "sql",
                "azdata_cell_guid": "ceda4750-8e00-4cfc-be8e-a7bfa4a9680a"
            },
            "attachments": {}
        },
        {
            "cell_type": "code",
            "source": [
                "SELECT \r\n",
                "    OBJECT_DEFINITION (\r\n",
                "        OBJECT_ID(\r\n",
                "            'production.trg_product_audit'\r\n",
                "        )\r\n",
                "    ) AS trigger_definition"
            ],
            "metadata": {
                "language": "sql",
                "azdata_cell_guid": "64f39bf7-322c-4efe-adb4-f8d7ae3c0f88"
            },
            "outputs": [
                {
                    "output_type": "display_data",
                    "data": {
                        "text/html": "(1 row affected)"
                    },
                    "metadata": {}
                },
                {
                    "output_type": "display_data",
                    "data": {
                        "text/html": "Total execution time: 00:00:00.008"
                    },
                    "metadata": {}
                },
                {
                    "output_type": "execute_result",
                    "execution_count": 11,
                    "data": {
                        "application/vnd.dataresource+json": {
                            "schema": {
                                "fields": [
                                    {
                                        "name": "trigger_definition"
                                    }
                                ]
                            },
                            "data": [
                                {
                                    "0": "CREATE TRIGGER production.trg_product_audit\r\nON production.products\r\nAFTER INSERT, UPDATE, DELETE\r\nAS\r\nBEGIN\r\n    SET NOCOUNT ON;\r\n    INSERT INTO production.product_audits(\r\n        product_id, \r\n        product_name,\r\n        brand_id,\r\n        category_id,\r\n        model_year,\r\n        list_price, \r\n        updated_at, \r\n        operation\r\n    )\r\n    SELECT\r\n        i.product_id,\r\n        product_name,\r\n        brand_id,\r\n        category_id,\r\n        model_year,\r\n        i.list_price,\r\n        GETDATE(),\r\n        'INS'\r\n    FROM\r\n        inserted i\r\n    UNION ALL\r\n    SELECT\r\n        i.product_id,\r\n        product_name,\r\n        brand_id,\r\n        category_id,\r\n        model_year,\r\n        i.list_price,\r\n        GETDATE(),\r\n        'UPD'\r\n    FROM\r\n        inserted i\r\n    UNION ALL\r\n    SELECT\r\n        d.product_id,\r\n        product_name,\r\n        brand_id,\r\n        category_id,\r\n        model_year,\r\n        d.list_price,\r\n        GETDATE(),\r\n        'DEL'\r\n    FROM\r\n        deleted d;\r\nEND"
                                }
                            ]
                        },
                        "text/html": "<table><tr><th>trigger_definition</th></tr><tr><td>CREATE TRIGGER production.trg_product_audit\r\nON production.products\r\nAFTER INSERT, UPDATE, DELETE\r\nAS\r\nBEGIN\r\n    SET NOCOUNT ON;\r\n    INSERT INTO production.product_audits(\r\n        product_id, \r\n        product_name,\r\n        brand_id,\r\n        category_id,\r\n        model_year,\r\n        list_price, \r\n        updated_at, \r\n        operation\r\n    )\r\n    SELECT\r\n        i.product_id,\r\n        product_name,\r\n        brand_id,\r\n        category_id,\r\n        model_year,\r\n        i.list_price,\r\n        GETDATE(),\r\n        'INS'\r\n    FROM\r\n        inserted i\r\n    UNION ALL\r\n    SELECT\r\n        i.product_id,\r\n        product_name,\r\n        brand_id,\r\n        category_id,\r\n        model_year,\r\n        i.list_price,\r\n        GETDATE(),\r\n        'UPD'\r\n    FROM\r\n        inserted i\r\n    UNION ALL\r\n    SELECT\r\n        d.product_id,\r\n        product_name,\r\n        brand_id,\r\n        category_id,\r\n        model_year,\r\n        d.list_price,\r\n        GETDATE(),\r\n        'DEL'\r\n    FROM\r\n        deleted d;\r\nEND</td></tr></table>"
                    },
                    "metadata": {}
                }
            ],
            "execution_count": 11
        },
        {
            "cell_type": "markdown",
            "source": [
                "**<mark>Nhận định nghĩa trình kích hoạt bằng cách sử dụng quy trình lưu trữ sp\\_helptext</mark>**"
            ],
            "metadata": {
                "language": "sql",
                "azdata_cell_guid": "04290f0e-012b-44bc-a659-fd97fc3beed0"
            },
            "attachments": {}
        },
        {
            "cell_type": "code",
            "source": [
                "EXEC sp_helptext 'sales.trg_members_delete'"
            ],
            "metadata": {
                "language": "sql",
                "azdata_cell_guid": "657314a6-e6f7-4f86-92cb-60a863b5ce5a"
            },
            "outputs": [],
            "execution_count": null
        },
        {
            "cell_type": "markdown",
            "source": [
                "## **<mark>Liệt kê tất cả các trình kích hoạt</mark>**"
            ],
            "metadata": {
                "language": "sql",
                "azdata_cell_guid": "425a63dc-ca28-4291-b75a-4dfa0d6882cb"
            },
            "attachments": {}
        },
        {
            "cell_type": "code",
            "source": [
                "SELECT  \r\n",
                "    [name],\r\n",
                "    [is_instead_of_trigger]\r\n",
                "FROM \r\n",
                "    [sys].[triggers]\r\n",
                "WHERE \r\n",
                "    [type] = 'TR'"
            ],
            "metadata": {
                "language": "sql",
                "azdata_cell_guid": "d9ad0566-bcf8-4b94-98af-5ded106ad364"
            },
            "outputs": [],
            "execution_count": null
        },
        {
            "cell_type": "markdown",
            "source": [
                "## **<mark>DROP TRIGGER</mark>**"
            ],
            "metadata": {
                "language": "sql",
                "azdata_cell_guid": "a6f83fd6-eb59-4b9a-adc0-fd8f2414b1d1"
            },
            "attachments": {}
        },
        {
            "cell_type": "markdown",
            "source": [
                "Câu lệnh SQL Server DROP TRIGGER loại bỏ một hoặc nhiều trình kích hoạt khỏi cơ sở dữ liệu. Phần sau minh họa cú pháp của câu lệnh DROP TRIGGER loại bỏ các trình kích hoạt DML:\n",
                "\n",
                "```\n",
                "DROP TRIGGER [ IF EXISTS ] [schema_name.]trigger_name [ ,...n ];\n",
                "\n",
                "```\n",
                "\n",
                "Trong cú pháp này:\n",
                "\n",
                "- IF EXISTS chỉ loại bỏ trình kích hoạt có điều kiện khi nó đã tồn tại.\n",
                "- schema\\_name là tên của lược đồ chứa trình kích hoạt DML.\n",
                "- trigger\\_name là tên của trình kích hoạt mà bạn muốn loại bỏ."
            ],
            "metadata": {
                "language": "sql",
                "azdata_cell_guid": "ade4f9a4-d5ec-497e-a2da-05319fa515f6"
            },
            "attachments": {}
        },
        {
            "cell_type": "code",
            "source": [
                "DROP TRIGGER IF EXISTS [sales].[trg_member_insert]"
            ],
            "metadata": {
                "language": "sql",
                "azdata_cell_guid": "7072366d-32f7-4746-96cc-da3540d1d365"
            },
            "outputs": [],
            "execution_count": null
        }
    ]
}