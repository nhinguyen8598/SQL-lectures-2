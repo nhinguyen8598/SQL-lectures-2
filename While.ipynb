{
    "metadata": {
        "kernelspec": {
            "name": "SQL",
            "display_name": "SQL",
            "language": "sql"
        },
        "language_info": {
            "name": "sql",
            "version": ""
        }
    },
    "nbformat_minor": 2,
    "nbformat": 4,
    "cells": [
        {
            "cell_type": "markdown",
            "source": [
                "## **<mark>WHILE</mark>**"
            ],
            "metadata": {
                "azdata_cell_guid": "18685c3f-c158-42b2-b8b2-1e1aa6599588"
            },
            "attachments": {}
        },
        {
            "cell_type": "markdown",
            "source": [
                "## **Giới thiệu**"
            ],
            "metadata": {
                "azdata_cell_guid": "a30c82e2-4be6-40be-9470-b737493f2ca4"
            },
            "attachments": {}
        },
        {
            "cell_type": "markdown",
            "source": [
                "**<mark>Câu lệnh WHILE là một câu lệnh điều khiển luồng cho phép bạn thực hiện lặp lại một khối câu lệnh miễn là một điều kiện được chỉ định là ĐÚNG.</mark>**\n",
                "\n",
                "<mark>Cú pháp:</mark>\n",
                "\n",
                "```\n",
                "WHILE Boolean_expression   \n",
                "     { sql_statement | statement_block}  \n",
                "\n",
                "```\n",
                "\n",
                "<span style=\"font-size:14px;\">Trong cú pháp này:</span>\n",
                "\n",
                "- <span style=\"font-size:14px;\">Đầu tiên, Boolean_expression là một biểu thức đánh giá là TRUE hoặc FALSE.</span>\n",
                "- Thứ hai, sql\\_statement | statement\\_block là bất kỳ câu lệnh Transact-SQL nào hoặc một tập hợp các câu lệnh Transact-SQL. Một khối câu lệnh được định nghĩa bằng cách sử dụng câu lệnh BEGIN ... END.\n",
                "\n",
                "Nếu biểu thức Boolean\\_expression đánh giá là FALSE khi vào vòng lặp, sẽ không có câu lệnh nào bên trong vòng lặp WHILE được thực thi.\n",
                "\n",
                "Lưu ý rằng nếu Boolean\\_expression chứa câu lệnh SELECT thì nó phải được đặt trong dấu ngoặc đơn.\n",
                "\n",
                "![Loop1](.\\flow-chart-of-the-sql-while-loop.png)"
            ],
            "metadata": {
                "azdata_cell_guid": "815169de-6508-4bba-aba4-4e42c89b641b"
            },
            "attachments": {}
        },
        {
            "cell_type": "markdown",
            "source": [
                "Demo:"
            ],
            "metadata": {
                "language": "sql",
                "azdata_cell_guid": "0be78296-dea4-408c-b8b8-a96a0d81e425"
            },
            "attachments": {}
        },
        {
            "cell_type": "code",
            "source": [
                "DECLARE @Counter INT\r\n",
                "\r\n",
                "SET @Counter = 1\r\n",
                "\r\n",
                "WHILE (@Counter <= 10)\r\n",
                "BEGIN\r\n",
                "    PRINT 'The counter value is = ' + CONVERT(VARCHAR,@Counter)\r\n",
                "    \r\n",
                "    SET @Counter = @Counter + 1\r\n",
                "END"
            ],
            "metadata": {
                "azdata_cell_guid": "9dfccb0d-d7ae-43b7-8257-fe1bb66bc8b3",
                "language": "sql"
            },
            "outputs": [],
            "execution_count": null
        },
        {
            "cell_type": "markdown",
            "source": [
                "![Example1](sql-while-loop-example-flowchart.png)"
            ],
            "metadata": {
                "language": "sql",
                "azdata_cell_guid": "a10cf871-8dee-42e3-b6f9-648f0901c282"
            },
            "attachments": {}
        },
        {
            "cell_type": "markdown",
            "source": [
                "## **<mark>Vòng lặp WHILE vô hạn</mark>**"
            ],
            "metadata": {
                "azdata_cell_guid": "8231c90c-6b35-4e04-b28c-f2dc84425801"
            },
            "attachments": {}
        },
        {
            "cell_type": "markdown",
            "source": [
                "<mark><span style=\"font-size: 14px;\">Trong vòng lặp vô hạn, kết quả điều kiện sẽ không bao giờ sai, vì vậy vòng lặp không bao giờ kết thúc và có thể hoạt động mãi mãi. Hãy tưởng tượng rằng chúng ta có một vòng lặp WHILE và chúng ta không tăng giá trị của biến. Trong trường hợp này, vòng lặp chạy liên tục và không bao giờ kết thúc.</span>  \n",
                "</mark>\n",
                "\n",
                "<mark>Bên trong vòng lặp WHILE, bạn phải thay đổi một số biến để làm cho biểu thức Boolean\\_expression trả về FALSE tại một số điểm.</mark>"
            ],
            "metadata": {
                "azdata_cell_guid": "7270e965-1f60-4c34-9e6a-10905ed968cf"
            },
            "attachments": {}
        },
        {
            "cell_type": "code",
            "source": [
                "DECLARE @Counter INT\r\n",
                "\r\n",
                "SET @Counter = 1\r\n",
                "\r\n",
                "WHILE (@Counter <= 10)\r\n",
                "BEGIN\r\n",
                "    PRINT 'Somebody stops me!'\r\n",
                "END"
            ],
            "metadata": {
                "azdata_cell_guid": "10f35782-37da-4b3d-9446-44543d7076f6",
                "language": "sql"
            },
            "outputs": [],
            "execution_count": null
        },
        {
            "cell_type": "markdown",
            "source": [
                "![Example2](infinite-sql-while-loop-flowchart.png)"
            ],
            "metadata": {
                "language": "sql",
                "azdata_cell_guid": "46c48595-96bb-446f-98e4-f0edf715d82e"
            },
            "attachments": {}
        },
        {
            "cell_type": "markdown",
            "source": [
                "### **<mark>BREAK</mark>**"
            ],
            "metadata": {
                "language": "sql",
                "azdata_cell_guid": "0cdbec4d-fcd6-42a3-9d86-6fc1347a3d3b"
            },
            "attachments": {}
        },
        {
            "cell_type": "markdown",
            "source": [
                "**<mark>Để thoát khỏi sự lặp lại hiện tại của một vòng lặp, bạn sử dụng câu lệnh BREAK.</mark>**\n",
                "\n",
                "<mark>Cú pháp:</mark>\n",
                "\n",
                "```\n",
                "WHILE Boolean_expression\n",
                "BEGIN\n",
                "    -- statements\n",
                "   IF condition\n",
                "        BREAK;\n",
                "    -- other statements    \n",
                "END\n",
                "\n",
                "```\n",
                "\n",
                "<span style=\"font-size:14px;\">Trong cú pháp này, câu lệnh <span style=\"background-color: yellow;\">BREAK</span> thoát khỏi vòng lặp<span style=\"background-color: yellow;\"> WHILE </span>ngay lập tức khi điều kiện được chỉ định trong câu lệnh IF được đáp ứng. Tất cả các câu lệnh giữa từ khóa<span style=\"background-color: yellow;\"> BREAK</span> và <span style=\"background-color: yellow;\">END</span> đều bị bỏ qua.</span>"
            ],
            "metadata": {
                "language": "sql",
                "azdata_cell_guid": "791ab5c7-dd69-4b59-9e97-fe0143c19fac"
            },
            "attachments": {}
        },
        {
            "cell_type": "code",
            "source": [
                "DECLARE @Counter INT \r\n",
                "SET @Counter = 1\r\n",
                "WHILE (@Counter <= 10)\r\n",
                "BEGIN\r\n",
                "    PRINT 'The counter value is = ' + CONVERT(VARCHAR, @Counter)\r\n",
                "    IF @Counter >= 7\r\n",
                "        BEGIN\r\n",
                "            BREAK\r\n",
                "        END\r\n",
                "    SET @Counter = @Counter + 1\r\n",
                "END"
            ],
            "metadata": {
                "language": "sql",
                "azdata_cell_guid": "75b9658f-ca6b-4ee6-a9da-7ae65199fc8b"
            },
            "outputs": [],
            "execution_count": null
        },
        {
            "cell_type": "markdown",
            "source": [
                "![Example3](flow-chart-of-the-sql-while-loop-with-break-statem.png)"
            ],
            "metadata": {
                "language": "sql",
                "azdata_cell_guid": "77314ed5-f8d1-43fc-bdaa-006af49961d5"
            },
            "attachments": {}
        },
        {
            "cell_type": "markdown",
            "source": [
                "<span style=\"font-size: 14px; background-color: yellow;\"><b>Giả sử chúng ta có một vòng lặp WHILE được lồng bên trong một vòng lặp WHILE khác:</b></span>\n",
                "\n",
                "```\n",
                "WHILE Boolean_expression1\n",
                "BEGIN\n",
                "    -- statement\n",
                "    WHILE Boolean_expression2\n",
                "    BEGIN\n",
                "        IF condition\n",
                "            BREAK;\n",
                "    END\n",
                "END\n",
                "\n",
                "```\n",
                "\n",
                "<span style=\"font-size:14px;\">Trong trường hợp này, câu lệnh BREAK chỉ thoát khỏi vòng lặp của câu lệnh WHILE bên trong.</span>"
            ],
            "metadata": {
                "language": "sql",
                "azdata_cell_guid": "657332fb-2135-4e71-9934-c49b5433410d"
            },
            "attachments": {}
        },
        {
            "cell_type": "code",
            "source": [
                "DECLARE @counter INT = 0\r\n",
                "\r\n",
                "WHILE @counter <= 5\r\n",
                "BEGIN\r\n",
                "    SET @counter = @counter + 1\r\n",
                "    IF @counter = 4\r\n",
                "        BREAK\r\n",
                "    PRINT @counter\r\n",
                "END"
            ],
            "metadata": {
                "language": "sql",
                "azdata_cell_guid": "7c7e52a1-9516-4ef2-82f2-f68c3dc6c6b7"
            },
            "outputs": [],
            "execution_count": null
        },
        {
            "cell_type": "markdown",
            "source": [
                "### **<mark>CONTINUE</mark>**"
            ],
            "metadata": {
                "language": "sql",
                "azdata_cell_guid": "91cc0039-b11d-4a3d-8d82-7c156194ac0d"
            },
            "attachments": {}
        },
        {
            "cell_type": "markdown",
            "source": [
                "**<mark>Câu lệnh CONTINUE dừng lần lặp hiện tại của vòng lặp và bắt đầu vòng lặp mới.</mark>**\n",
                "\n",
                "<mark>Cú pháp:</mark>\n",
                "\n",
                "```\n",
                "WHILE Boolean_expression\n",
                "BEGIN\n",
                "    -- code to be executed\n",
                "    IF condition\n",
                "        CONTINUE;\n",
                "    -- code will be skipped if the condition is met\n",
                "END\n",
                "\n",
                "```\n",
                "\n",
                "<span style=\"font-size:14px;\">Trong cú pháp này, quá trình lặp hiện tại của vòng lặp bị dừng lại khi điều kiện đánh giá là TRUE. Lần lặp tiếp theo của vòng lặp sẽ tiếp tục cho đến khi Boolean_expression đánh giá là FALSE.</span>\n",
                "\n",
                "<span style=\"font-size:14px;\">Tương tự như câu lệnh BREAK, câu lệnh CONTINUE thường được sử dụng cùng với câu lệnh IF.<span style=\"background-color: yellow;\"> Lưu ý rằng điều này không bắt buộc.</span></span>"
            ],
            "metadata": {
                "language": "sql",
                "azdata_cell_guid": "960e05b9-ce87-438a-b5c3-ff9ce1570f22"
            },
            "attachments": {}
        },
        {
            "cell_type": "code",
            "source": [
                "DECLARE @Counter INT\r\n",
                "\r\n",
                "SET @Counter = 1\r\n",
                "\r\n",
                "WHILE (@Counter <= 20)\r\n",
                "BEGIN\r\n",
                "    IF @Counter % 2 = 1\r\n",
                "\r\n",
                "    BEGIN\r\n",
                "        SET @Counter = @Counter  + 1\r\n",
                "        CONTINUE\r\n",
                "    END\r\n",
                "\r\n",
                "    PRINT 'The counter value is = ' + CONVERT(VARCHAR, @Counter)\r\n",
                "    \r\n",
                "    SET @Counter = @Counter  + 1\r\n",
                "END"
            ],
            "metadata": {
                "language": "sql",
                "azdata_cell_guid": "d548c6ba-23e7-4524-afb0-670ee154f281"
            },
            "outputs": [],
            "execution_count": null
        },
        {
            "cell_type": "markdown",
            "source": [
                "![Example4](flow-chart-of-the-sql-while-loop-with-continue-sta.png)"
            ],
            "metadata": {
                "language": "sql",
                "azdata_cell_guid": "96062d00-2834-4796-8bb3-400627a803e3"
            },
            "attachments": {}
        }
    ]
}