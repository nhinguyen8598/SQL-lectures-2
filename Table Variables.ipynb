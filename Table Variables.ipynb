{
    "metadata": {
        "kernelspec": {
            "name": "SQL",
            "display_name": "SQL",
            "language": "sql"
        },
        "language_info": {
            "name": "sql",
            "version": ""
        }
    },
    "nbformat_minor": 2,
    "nbformat": 4,
    "cells": [
        {
            "cell_type": "markdown",
            "source": [
                "## **<mark>Table Variables</mark>**"
            ],
            "metadata": {
                "azdata_cell_guid": "fa8a6379-b284-4229-a11d-9fd14dafc5fa"
            },
            "attachments": {}
        },
        {
            "cell_type": "markdown",
            "source": [
                "Biến bảng (table variables) là loại biến cho phép bạn chứa các hàng dữ liệu, tương tự như các bảng tạm thời (temporary tables).\n",
                "\n",
                "Để khai báo một biến bảng, bạn sử dụng câu lệnh <mark>DECLARE</mark> như sau:\n",
                "\n",
                "```\n",
                "DECLARE @table_variable_name TABLE (\n",
                "    column_list\n",
                ");\n",
                "\n",
                "```\n",
                "\n",
                "Trong cú pháp này, bạn chỉ định tên của biến bảng giữa từ khóa DECLARE và TABLE. Tên của các biến bảng phải bắt đầu bằng ký hiệu @.\n",
                "\n",
                "Sau từ khóa TABLE, bạn xác định cấu trúc của biến bảng tương tự như cấu trúc của bảng thông thường bao gồm định nghĩa cột, kiểu dữ liệu, kích thước, ràng buộc tùy chọn, v.v."
            ],
            "metadata": {
                "azdata_cell_guid": "99f8588f-2d95-4142-991d-dad647fe9248"
            },
            "attachments": {}
        },
        {
            "cell_type": "markdown",
            "source": [
                "**<mark>Phạm vi của các biến bảng</mark>**"
            ],
            "metadata": {
                "azdata_cell_guid": "05e6c88b-4fd4-4d7e-a849-3141091f186d"
            },
            "attachments": {}
        },
        {
            "cell_type": "markdown",
            "source": [
                "Tương tự như các biến cục bộ, các biến bảng nằm ngoài phạm vi một **batch**. \n",
                "\n",
                "<mark>\\* batch processing : xử lý tuần tự  # parallel processing  : xử lý song song</mark> \n",
                "\n",
                "<mark>liên tưởng đến create database abc use abc : báo lỗi</mark> \n",
                "\n",
                "<mark>1 bộ xử lý được gọi là 1 batch</mark> \n",
                "\n",
                "Nếu bạn xác định một biến bảng trong một thủ tục được lưu trữ hoặc hàm do người dùng xác định, biến bảng sẽ không còn tồn tại sau khi thủ tục được lưu trữ hoặc hàm do người dùng xác định thoát."
            ],
            "metadata": {
                "azdata_cell_guid": "494e0075-8bca-4a84-853c-b3ed1eec08ca"
            },
            "attachments": {}
        },
        {
            "cell_type": "code",
            "source": [
                "DECLARE @product_table TABLE (\r\n",
                "    product_name VARCHAR(MAX) NOT NULL,\r\n",
                "    brand_id INT NOT NULL,\r\n",
                "    list_price DEC(11,2) NOT NULL\r\n",
                ");"
            ],
            "metadata": {
                "azdata_cell_guid": "fd1d99e8-a9f2-44ce-a935-6b8e894350fa",
                "language": "sql"
            },
            "outputs": [
                {
                    "output_type": "display_data",
                    "data": {
                        "text/html": "Commands completed successfully."
                    },
                    "metadata": {}
                },
                {
                    "output_type": "display_data",
                    "data": {
                        "text/html": "Total execution time: 00:00:00.002"
                    },
                    "metadata": {}
                }
            ],
            "execution_count": 5
        },
        {
            "cell_type": "code",
            "source": [
                "INSERT INTO @product_table\r\n",
                "SELECT\r\n",
                "    product_name,\r\n",
                "    brand_id,\r\n",
                "    list_price\r\n",
                "FROM\r\n",
                "    production.products\r\n",
                "WHERE\r\n",
                "    category_id = 1;"
            ],
            "metadata": {
                "language": "sql",
                "azdata_cell_guid": "1cb9c000-ce0c-498f-a76c-28d27c17ac80"
            },
            "outputs": [
                {
                    "output_type": "error",
                    "ename": "",
                    "evalue": "Msg 1087, Level 15, State 2, Line 1\r\nMust declare the table variable \"@product_table\".",
                    "traceback": []
                },
                {
                    "output_type": "display_data",
                    "data": {
                        "text/html": "Total execution time: 00:00:00"
                    },
                    "metadata": {}
                }
            ],
            "execution_count": 6
        },
        {
            "cell_type": "code",
            "source": [
                "SELECT\r\n",
                "    product_name,\r\n",
                "    brand_id,\r\n",
                "    list_price\r\n",
                "FROM\r\n",
                "    @product_table;"
            ],
            "metadata": {
                "language": "sql",
                "azdata_cell_guid": "9e8d16b0-738f-4d89-aaf9-114cca10e4ee"
            },
            "outputs": [],
            "execution_count": null
        },
        {
            "cell_type": "code",
            "source": [
                "DECLARE @product_table TABLE (\r\n",
                "    product_name VARCHAR(MAX) NOT NULL,\r\n",
                "    brand_id INT NOT NULL,\r\n",
                "    list_price DEC(11,2) NOT NULL\r\n",
                ");\r\n",
                "\r\n",
                "INSERT INTO @product_table\r\n",
                "SELECT\r\n",
                "    product_name,\r\n",
                "    brand_id,\r\n",
                "    list_price\r\n",
                "FROM\r\n",
                "    production.products\r\n",
                "WHERE\r\n",
                "    category_id = 1;\r\n",
                "\r\n",
                "SELECT\r\n",
                "    *\r\n",
                "FROM\r\n",
                "    @product_table;\r\n",
                "GO"
            ],
            "metadata": {
                "language": "sql",
                "azdata_cell_guid": "37d5d171-7751-42b1-bd9c-a828a5d2ea0e"
            },
            "outputs": [
                {
                    "output_type": "display_data",
                    "data": {
                        "text/html": "(59 rows affected)"
                    },
                    "metadata": {}
                },
                {
                    "output_type": "display_data",
                    "data": {
                        "text/html": "(59 rows affected)"
                    },
                    "metadata": {}
                },
                {
                    "output_type": "display_data",
                    "data": {
                        "text/html": "Total execution time: 00:00:00.020"
                    },
                    "metadata": {}
                },
                {
                    "output_type": "execute_result",
                    "execution_count": 7,
                    "data": {
                        "application/vnd.dataresource+json": {
                            "schema": {
                                "fields": [
                                    {
                                        "name": "product_name"
                                    },
                                    {
                                        "name": "brand_id"
                                    },
                                    {
                                        "name": "list_price"
                                    }
                                ]
                            },
                            "data": [
                                {
                                    "0": "Electra Cruiser 1 (24-Inch) - 2016",
                                    "1": "1",
                                    "2": "269.99"
                                },
                                {
                                    "0": "Electra Girl's Hawaii 1 (16-inch) - 2015/2016",
                                    "1": "1",
                                    "2": "269.99"
                                },
                                {
                                    "0": "Electra Girl's Hawaii 1 (20-inch) - 2015/2016",
                                    "1": "1",
                                    "2": "299.99"
                                },
                                {
                                    "0": "Trek Boy's Kickster - 2015/2017",
                                    "1": "9",
                                    "2": "149.99"
                                },
                                {
                                    "0": "Sun Bicycles Lil Kitt'n - 2017",
                                    "1": "7",
                                    "2": "109.99"
                                },
                                {
                                    "0": "Haro Downtown 16 - 2017",
                                    "1": "2",
                                    "2": "329.99"
                                },
                                {
                                    "0": "Trek Girl's Kickster - 2017",
                                    "1": "9",
                                    "2": "149.99"
                                },
                                {
                                    "0": "Trek Precaliber 12 Boys - 2017",
                                    "1": "9",
                                    "2": "189.99"
                                },
                                {
                                    "0": "Trek Precaliber 12 Girls - 2017",
                                    "1": "9",
                                    "2": "189.99"
                                },
                                {
                                    "0": "Trek Precaliber 16 Boys - 2017",
                                    "1": "9",
                                    "2": "209.99"
                                },
                                {
                                    "0": "Trek Precaliber 16 Girls - 2017",
                                    "1": "9",
                                    "2": "209.99"
                                },
                                {
                                    "0": "Trek Precaliber 24 (21-Speed) - Girls - 2017",
                                    "1": "9",
                                    "2": "349.99"
                                },
                                {
                                    "0": "Haro Shredder 20 - 2017",
                                    "1": "2",
                                    "2": "209.99"
                                },
                                {
                                    "0": "Haro Shredder 20 Girls - 2017",
                                    "1": "2",
                                    "2": "209.99"
                                },
                                {
                                    "0": "Haro Shredder Pro 20 - 2017",
                                    "1": "2",
                                    "2": "249.99"
                                },
                                {
                                    "0": "Electra Girl's Hawaii 1 16\" - 2017",
                                    "1": "1",
                                    "2": "299.99"
                                },
                                {
                                    "0": "Electra Moto 3i (20-inch) - Boy's - 2017",
                                    "1": "1",
                                    "2": "349.99"
                                },
                                {
                                    "0": "Electra Savannah 3i (20-inch) - Girl's - 2017",
                                    "1": "1",
                                    "2": "349.99"
                                },
                                {
                                    "0": "Electra Straight 8 3i (20-inch) - Boy's - 2017",
                                    "1": "1",
                                    "2": "489.99"
                                },
                                {
                                    "0": "Electra Sugar Skulls 1 (20-inch) - Girl's - 2017",
                                    "1": "1",
                                    "2": "299.99"
                                },
                                {
                                    "0": "Electra Townie 3i EQ (20-inch) - Boys' - 2017",
                                    "1": "1",
                                    "2": "489.99"
                                },
                                {
                                    "0": "Electra Townie 7D (20-inch) - Boys' - 2017",
                                    "1": "1",
                                    "2": "339.99"
                                },
                                {
                                    "0": "Trek MT 201 - 2018",
                                    "1": "9",
                                    "2": "249.99"
                                },
                                {
                                    "0": "Strider Classic 12 Balance Bike - 2018",
                                    "1": "6",
                                    "2": "89.99"
                                },
                                {
                                    "0": "Strider Sport 16 - 2018",
                                    "1": "6",
                                    "2": "249.99"
                                },
                                {
                                    "0": "Strider Strider 20 Sport - 2018",
                                    "1": "6",
                                    "2": "289.99"
                                },
                                {
                                    "0": "Trek Superfly 20 - 2018",
                                    "1": "9",
                                    "2": "399.99"
                                },
                                {
                                    "0": "Trek Precaliber 12 Girl's - 2018",
                                    "1": "9",
                                    "2": "199.99"
                                },
                                {
                                    "0": "Trek Kickster - 2018",
                                    "1": "9",
                                    "2": "159.99"
                                },
                                {
                                    "0": "Trek Precaliber 12 Boy's - 2018",
                                    "1": "9",
                                    "2": "199.99"
                                },
                                {
                                    "0": "Trek Precaliber 16 Boy's - 2018",
                                    "1": "9",
                                    "2": "209.99"
                                },
                                {
                                    "0": "Trek Precaliber 16 Girl's - 2018",
                                    "1": "9",
                                    "2": "209.99"
                                },
                                {
                                    "0": "Trek Precaliber 20 6-speed Boy's - 2018",
                                    "1": "9",
                                    "2": "289.99"
                                },
                                {
                                    "0": "Trek Precaliber 20 6-speed Girl's - 2018",
                                    "1": "9",
                                    "2": "289.99"
                                },
                                {
                                    "0": "Trek Precaliber 20 Boy's - 2018",
                                    "1": "9",
                                    "2": "229.99"
                                },
                                {
                                    "0": "Trek Precaliber 20 Girl's - 2018",
                                    "1": "9",
                                    "2": "229.99"
                                },
                                {
                                    "0": "Trek Precaliber 24 (7-Speed) - Boys - 2018",
                                    "1": "9",
                                    "2": "319.99"
                                },
                                {
                                    "0": "Trek Precaliber 24 21-speed Boy's - 2018",
                                    "1": "9",
                                    "2": "369.99"
                                },
                                {
                                    "0": "Trek Precaliber 24 21-speed Girl's - 2018",
                                    "1": "9",
                                    "2": "369.99"
                                },
                                {
                                    "0": "Trek Precaliber 24 7-speed Girl's - 2018",
                                    "1": "9",
                                    "2": "319.99"
                                },
                                {
                                    "0": "Trek Superfly 24 - 2017/2018",
                                    "1": "9",
                                    "2": "489.99"
                                },
                                {
                                    "0": "Electra Cruiser 7D (24-Inch) Ladies' - 2016/2018",
                                    "1": "1",
                                    "2": "319.99"
                                },
                                {
                                    "0": "Electra Cyclosaurus 1 (16-inch) - Boy's - 2018",
                                    "1": "1",
                                    "2": "279.99"
                                },
                                {
                                    "0": "Electra Heartchya 1 (20-inch) - Girl's - 2018",
                                    "1": "1",
                                    "2": "319.99"
                                },
                                {
                                    "0": "Electra Savannah 1 (20-inch) - Girl's - 2018",
                                    "1": "1",
                                    "2": "319.99"
                                },
                                {
                                    "0": "Electra Soft Serve 1 (16-inch) - Girl's - 2018",
                                    "1": "1",
                                    "2": "279.99"
                                },
                                {
                                    "0": "Electra Starship 1 16\" - 2018",
                                    "1": "1",
                                    "2": "279.99"
                                },
                                {
                                    "0": "Electra Straight 8 1 (16-inch) - Boy's - 2018",
                                    "1": "1",
                                    "2": "279.99"
                                },
                                {
                                    "0": "Electra Straight 8 1 (20-inch) - Boy's - 2018",
                                    "1": "1",
                                    "2": "389.99"
                                },
                                {
                                    "0": "Electra Superbolt 1 20\" - 2018",
                                    "1": "1",
                                    "2": "319.99"
                                },
                                {
                                    "0": "Electra Superbolt 3i 20\" - 2018",
                                    "1": "1",
                                    "2": "369.99"
                                },
                                {
                                    "0": "Electra Sweet Ride 1 (20-inch) - Girl's - 2018",
                                    "1": "1",
                                    "2": "319.99"
                                },
                                {
                                    "0": "Electra Sweet Ride 3i (20-inch) - Girls' - 2018",
                                    "1": "1",
                                    "2": "369.99"
                                },
                                {
                                    "0": "Electra Tiger Shark 1 (20-inch) - Boys' - 2018",
                                    "1": "1",
                                    "2": "319.99"
                                },
                                {
                                    "0": "Electra Tiger Shark 3i (20-inch) - Boys' - 2018",
                                    "1": "1",
                                    "2": "369.99"
                                },
                                {
                                    "0": "Electra Treasure 1 20\" - 2018",
                                    "1": "1",
                                    "2": "319.99"
                                },
                                {
                                    "0": "Electra Treasure 3i 20\" - 2018",
                                    "1": "1",
                                    "2": "369.99"
                                },
                                {
                                    "0": "Electra Under-The-Sea 1 16\" - 2018",
                                    "1": "1",
                                    "2": "279.99"
                                },
                                {
                                    "0": "Electra Water Lily 1 (16-inch) - Girl's - 2018",
                                    "1": "1",
                                    "2": "279.99"
                                }
                            ]
                        },
                        "text/html": "<table><tr><th>product_name</th><th>brand_id</th><th>list_price</th></tr><tr><td>Electra Cruiser 1 (24-Inch) - 2016</td><td>1</td><td>269.99</td></tr><tr><td>Electra Girl's Hawaii 1 (16-inch) - 2015/2016</td><td>1</td><td>269.99</td></tr><tr><td>Electra Girl's Hawaii 1 (20-inch) - 2015/2016</td><td>1</td><td>299.99</td></tr><tr><td>Trek Boy's Kickster - 2015/2017</td><td>9</td><td>149.99</td></tr><tr><td>Sun Bicycles Lil Kitt'n - 2017</td><td>7</td><td>109.99</td></tr><tr><td>Haro Downtown 16 - 2017</td><td>2</td><td>329.99</td></tr><tr><td>Trek Girl's Kickster - 2017</td><td>9</td><td>149.99</td></tr><tr><td>Trek Precaliber 12 Boys - 2017</td><td>9</td><td>189.99</td></tr><tr><td>Trek Precaliber 12 Girls - 2017</td><td>9</td><td>189.99</td></tr><tr><td>Trek Precaliber 16 Boys - 2017</td><td>9</td><td>209.99</td></tr><tr><td>Trek Precaliber 16 Girls - 2017</td><td>9</td><td>209.99</td></tr><tr><td>Trek Precaliber 24 (21-Speed) - Girls - 2017</td><td>9</td><td>349.99</td></tr><tr><td>Haro Shredder 20 - 2017</td><td>2</td><td>209.99</td></tr><tr><td>Haro Shredder 20 Girls - 2017</td><td>2</td><td>209.99</td></tr><tr><td>Haro Shredder Pro 20 - 2017</td><td>2</td><td>249.99</td></tr><tr><td>Electra Girl's Hawaii 1 16&quot; - 2017</td><td>1</td><td>299.99</td></tr><tr><td>Electra Moto 3i (20-inch) - Boy's - 2017</td><td>1</td><td>349.99</td></tr><tr><td>Electra Savannah 3i (20-inch) - Girl's - 2017</td><td>1</td><td>349.99</td></tr><tr><td>Electra Straight 8 3i (20-inch) - Boy's - 2017</td><td>1</td><td>489.99</td></tr><tr><td>Electra Sugar Skulls 1 (20-inch) - Girl's - 2017</td><td>1</td><td>299.99</td></tr><tr><td>Electra Townie 3i EQ (20-inch) - Boys' - 2017</td><td>1</td><td>489.99</td></tr><tr><td>Electra Townie 7D (20-inch) - Boys' - 2017</td><td>1</td><td>339.99</td></tr><tr><td>Trek MT 201 - 2018</td><td>9</td><td>249.99</td></tr><tr><td>Strider Classic 12 Balance Bike - 2018</td><td>6</td><td>89.99</td></tr><tr><td>Strider Sport 16 - 2018</td><td>6</td><td>249.99</td></tr><tr><td>Strider Strider 20 Sport - 2018</td><td>6</td><td>289.99</td></tr><tr><td>Trek Superfly 20 - 2018</td><td>9</td><td>399.99</td></tr><tr><td>Trek Precaliber 12 Girl's - 2018</td><td>9</td><td>199.99</td></tr><tr><td>Trek Kickster - 2018</td><td>9</td><td>159.99</td></tr><tr><td>Trek Precaliber 12 Boy's - 2018</td><td>9</td><td>199.99</td></tr><tr><td>Trek Precaliber 16 Boy's - 2018</td><td>9</td><td>209.99</td></tr><tr><td>Trek Precaliber 16 Girl's - 2018</td><td>9</td><td>209.99</td></tr><tr><td>Trek Precaliber 20 6-speed Boy's - 2018</td><td>9</td><td>289.99</td></tr><tr><td>Trek Precaliber 20 6-speed Girl's - 2018</td><td>9</td><td>289.99</td></tr><tr><td>Trek Precaliber 20 Boy's - 2018</td><td>9</td><td>229.99</td></tr><tr><td>Trek Precaliber 20 Girl's - 2018</td><td>9</td><td>229.99</td></tr><tr><td>Trek Precaliber 24 (7-Speed) - Boys - 2018</td><td>9</td><td>319.99</td></tr><tr><td>Trek Precaliber 24 21-speed Boy's - 2018</td><td>9</td><td>369.99</td></tr><tr><td>Trek Precaliber 24 21-speed Girl's - 2018</td><td>9</td><td>369.99</td></tr><tr><td>Trek Precaliber 24 7-speed Girl's - 2018</td><td>9</td><td>319.99</td></tr><tr><td>Trek Superfly 24 - 2017/2018</td><td>9</td><td>489.99</td></tr><tr><td>Electra Cruiser 7D (24-Inch) Ladies' - 2016/2018</td><td>1</td><td>319.99</td></tr><tr><td>Electra Cyclosaurus 1 (16-inch) - Boy's - 2018</td><td>1</td><td>279.99</td></tr><tr><td>Electra Heartchya 1 (20-inch) - Girl's - 2018</td><td>1</td><td>319.99</td></tr><tr><td>Electra Savannah 1 (20-inch) - Girl's - 2018</td><td>1</td><td>319.99</td></tr><tr><td>Electra Soft Serve 1 (16-inch) - Girl's - 2018</td><td>1</td><td>279.99</td></tr><tr><td>Electra Starship 1 16&quot; - 2018</td><td>1</td><td>279.99</td></tr><tr><td>Electra Straight 8 1 (16-inch) - Boy's - 2018</td><td>1</td><td>279.99</td></tr><tr><td>Electra Straight 8 1 (20-inch) - Boy's - 2018</td><td>1</td><td>389.99</td></tr><tr><td>Electra Superbolt 1 20&quot; - 2018</td><td>1</td><td>319.99</td></tr><tr><td>Electra Superbolt 3i 20&quot; - 2018</td><td>1</td><td>369.99</td></tr><tr><td>Electra Sweet Ride 1 (20-inch) - Girl's - 2018</td><td>1</td><td>319.99</td></tr><tr><td>Electra Sweet Ride 3i (20-inch) - Girls' - 2018</td><td>1</td><td>369.99</td></tr><tr><td>Electra Tiger Shark 1 (20-inch) - Boys' - 2018</td><td>1</td><td>319.99</td></tr><tr><td>Electra Tiger Shark 3i (20-inch) - Boys' - 2018</td><td>1</td><td>369.99</td></tr><tr><td>Electra Treasure 1 20&quot; - 2018</td><td>1</td><td>319.99</td></tr><tr><td>Electra Treasure 3i 20&quot; - 2018</td><td>1</td><td>369.99</td></tr><tr><td>Electra Under-The-Sea 1 16&quot; - 2018</td><td>1</td><td>279.99</td></tr><tr><td>Electra Water Lily 1 (16-inch) - Girl's - 2018</td><td>1</td><td>279.99</td></tr></table>"
                    },
                    "metadata": {}
                }
            ],
            "execution_count": 7
        }
    ]
}