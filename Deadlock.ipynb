{
    "metadata": {
        "kernelspec": {
            "name": "SQL",
            "display_name": "SQL",
            "language": "sql"
        },
        "language_info": {
            "name": "sql",
            "version": ""
        }
    },
    "nbformat_minor": 2,
    "nbformat": 4,
    "cells": [
        {
            "cell_type": "markdown",
            "source": [
                "# **<mark>Deadlock</mark>**"
            ],
            "metadata": {
                "azdata_cell_guid": "d5864c9b-f152-4890-a1de-473aecbc44d1"
            },
            "attachments": {}
        },
        {
            "cell_type": "markdown",
            "source": [
                "Bế tắc (Deadlock) là một vấn đề đồng thời trong đó hai phiên chặn tiến trình của nhau. Phiên đầu tiên có khóa tài nguyên mà phiên kia muốn truy cập và ngược lại.\n",
                "\n",
                "![Deadlock](.\\SQL-Server-Deadlock.png)\n",
                "\n",
                "Trong hình này, các invoices và invoice\\_items là các bảng.\n",
                "\n",
                "- Đầu tiên, phiên một truy cập vào bảng invoices và khóa nó.\n",
                "- Thứ hai, phiên hai khóa bảng invoice\\_items và khóa nó.\n",
                "- Thứ ba, phiên một muốn truy cập vào bảng invoice\\_items nhưng cần đợi phiên hai hoàn tất. Đồng thời, phiên hai muốn truy cập bảng invoices nhưng cần đợi phiên hai hoàn thành.\n",
                "\n",
                "Do đó, hai phiên đang chờ nhau cho đến khi SQL Server chủ động kết thúc một trong số chúng. Phiên bị kết thúc bởi SQL Server được gọi là nạn nhân của bế tắc (**deadlock victim**)."
            ],
            "metadata": {
                "azdata_cell_guid": "8c790b61-6510-4351-9237-3580fa31b6e7"
            },
            "attachments": {}
        },
        {
            "cell_type": "code",
            "source": [
                "CREATE TABLE invoices (\r\n",
                "  id int IDENTITY PRIMARY KEY,\r\n",
                "  customer_id int NOT NULL,\r\n",
                "  total decimal(10, 2) NOT NULL DEFAULT 0 CHECK (total >= 0)\r\n",
                ")\r\n",
                "\r\n",
                "CREATE TABLE invoice_items (\r\n",
                "  id int,\r\n",
                "  invoice_id int NOT NULL,\r\n",
                "  item_name varchar(100) NOT NULL,\r\n",
                "  amount decimal(10, 2) NOT NULL CHECK (amount >= 0),\r\n",
                "  tax decimal(4, 2) NOT NULL CHECK (tax >= 0),\r\n",
                "  PRIMARY KEY (id, invoice_id),\r\n",
                "  FOREIGN KEY (invoice_id) REFERENCES invoices (id)\r\n",
                "     ON UPDATE CASCADE\r\n",
                "     ON DELETE CASCADE\r\n",
                ")\r\n",
                "\r\n",
                "INSERT INTO invoices (customer_id, total)\r\n",
                "  VALUES (100, 0)\r\n",
                "\r\n",
                "INSERT INTO invoice_items (id, invoice_id, item_name, amount, tax)\r\n",
                "  VALUES (10, 1, 'Keyboard', 70, 0.08),\r\n",
                "  (20, 1, 'Mouse', 50, 0.08)\r\n",
                "\r\n",
                "UPDATE invoices\r\n",
                "SET total = (SELECT\r\n",
                "  SUM(amount * (1 + tax))\r\n",
                "  FROM invoice_items\r\n",
                "  WHERE invoice_id = 1\r\n",
                ")"
            ],
            "metadata": {
                "azdata_cell_guid": "30d42741-1fd3-4242-baa5-bb4913d6c19f",
                "language": "sql"
            },
            "outputs": [
                {
                    "output_type": "display_data",
                    "data": {
                        "text/html": "(1 row affected)"
                    },
                    "metadata": {}
                },
                {
                    "output_type": "display_data",
                    "data": {
                        "text/html": "(2 rows affected)"
                    },
                    "metadata": {}
                },
                {
                    "output_type": "display_data",
                    "data": {
                        "text/html": "(1 row affected)"
                    },
                    "metadata": {}
                },
                {
                    "output_type": "display_data",
                    "data": {
                        "text/html": "Total execution time: 00:00:00.011"
                    },
                    "metadata": {}
                }
            ],
            "execution_count": 1
        },
        {
            "cell_type": "markdown",
            "source": [
                "Chạy lần lượt 2 session theo bảng sau:\r\n",
                "\r\n",
                "![Deadlock-Demo](Deadlock_Sessions.png)"
            ],
            "metadata": {
                "language": "sql",
                "azdata_cell_guid": "5fd7f470-faa4-4d8e-8aac-cdb85135acc8"
            },
            "attachments": {}
        },
        {
            "cell_type": "code",
            "source": [
                "-- Session 1\r\n",
                "BEGIN TRAN\r\n",
                "\r\n",
                "UPDATE invoices\r\n",
                "SET customer_id = 100\r\n",
                "WHERE id = 1\r\n",
                "\r\n",
                "UPDATE invoice_items\r\n",
                "SET item_name = 'Cool Keyboard'\r\n",
                "WHERE id = 10"
            ],
            "metadata": {
                "language": "sql",
                "azdata_cell_guid": "8f564a26-611b-493e-aab5-dcd11f63a0a0",
                "tags": []
            },
            "outputs": [],
            "execution_count": null
        },
        {
            "cell_type": "code",
            "source": [
                "-- Session 2\r\n",
                "BEGIN TRAN\r\n",
                "\r\n",
                "UPDATE invoice_items\r\n",
                "SET amount = 100\r\n",
                "WHERE id = 10\r\n",
                "\r\n",
                "UPDATE invoices\r\n",
                "SET total = (SELECT\r\n",
                "SUM(amount * (1 + tax))\r\n",
                "FROM invoice_items\r\n",
                "WHERE invoice_id = 1)\r\n",
                "WHERE id = 1"
            ],
            "metadata": {
                "language": "sql",
                "azdata_cell_guid": "3230c763-ad87-4cf8-978d-54355b97db60"
            },
            "outputs": [],
            "execution_count": null
        }
    ]
}