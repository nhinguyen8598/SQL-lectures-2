{
    "metadata": {
        "kernelspec": {
            "name": "SQL",
            "display_name": "SQL",
            "language": "sql"
        },
        "language_info": {
            "name": "sql",
            "version": ""
        }
    },
    "nbformat_minor": 2,
    "nbformat": 4,
    "cells": [
        {
            "cell_type": "markdown",
            "source": [
                "# **<mark>Transaction</mark>**"
            ],
            "metadata": {
                "azdata_cell_guid": "a04ca92c-7288-4158-aa1a-241fb2170b75"
            },
            "attachments": {}
        },
        {
            "cell_type": "markdown",
            "source": [
                "Giao dịch (Transaction) là đơn vị công việc logic thực hiện một hoạt động đơn lẻ hoặc nhiều hoạt động trong cơ sở dữ liệu. Các giao dịch có thể bao gồm một thao tác đọc, ghi, xóa hoặc cập nhật hoặc kết hợp các thao tác này."
            ],
            "metadata": {
                "azdata_cell_guid": "0e3f9feb-672b-4980-8895-1fe676be7746"
            },
            "attachments": {}
        },
        {
            "cell_type": "markdown",
            "source": [
                "Giả sử khi chúng ta muốn rút tiền từ máy ATM, ứng dụng ATM sẽ thực hiện thao tác này qua ba bước. Bước đầu tiên, ứng dụng sẽ kiểm tra số dư của tài khoản, sau đó nó sẽ trừ tiền từ tài khoản nguồn. Cùng với hai quy trình này, nó sẽ lưu giữ nhật ký của hoạt động rút tiền này. Hình ảnh sau đây minh họa cơ bản nguyên lý hoạt động của các giao dịch trong hệ thống cơ sở dữ liệu quan hệ.\r\n",
                "\r\n",
                "![Demo](illustration-of-the-transactions-in-sql-server_grey.png)"
            ],
            "metadata": {
                "azdata_cell_guid": "09ec33fe-7101-402c-9ac7-9521a784238d"
            },
            "attachments": {}
        },
        {
            "cell_type": "markdown",
            "source": [
                "Ý tưởng chính của các giao dịch là khi mỗi câu lệnh trả về lỗi, toàn bộ sửa đổi sẽ khôi phục lại để cung cấp tính toàn vẹn của dữ liệu. Mặt khác, nếu tất cả các câu lệnh được hoàn thành thành công, việc sửa đổi dữ liệu sẽ trở thành vĩnh viễn trên cơ sở dữ liệu. Do đó, nếu gặp bất kỳ sự cố mất điện hoặc các sự cố khác trong quá trình rút tiền từ máy ATM, các giao dịch đảm bảo tính nhất quán số dư. Đây sẽ là phương pháp tốt nhất để thực hiện tất cả các bước này thông qua một giao dịch bởi vì bốn thuộc tính chính của giao dịch cho phép tất cả các hoạt động chính xác và nhất quán hơn."
            ],
            "metadata": {
                "azdata_cell_guid": "c163fd5b-a5fb-47a3-9dc6-1ded4a6db158"
            },
            "attachments": {}
        },
        {
            "cell_type": "markdown",
            "source": [
                "Tất cả các thuộc tính này được gọi là **ACID (Atomicity, Consistency, Isolation, Durable)** trong hệ thống cơ sở dữ liệu quan hệ với chữ cái đầu tiên của tên của chúng.\n",
                "\n",
                "- **Atomicity:** Toàn bộ các hoạt động được bao gồm trong giao dịch được thực hiện thành công. Nếu không, tất cả các hoạt động sẽ bị hủy tại điểm xảy ra lỗi và tất cả các hoạt động trước đó được khôi phục lại\n",
                "- **Consistency:** Thuộc tính này đảm bảo rằng tất cả dữ liệu sẽ nhất quán sau khi hoàn thành giao dịch theo các quy tắc, ràng buộc, tầng và trình kích hoạt đã xác định\n",
                "- **Isolation:** Tất cả các giao dịch được cách ly với các giao dịch khác\n",
                "- **Durable:** Việc sửa đổi các giao dịch đã cam kết vẫn tồn tại trong cơ sở dữ liệu"
            ],
            "metadata": {
                "azdata_cell_guid": "8b250f36-a2df-4455-bbfb-2d4d14a24837"
            },
            "attachments": {}
        },
        {
            "cell_type": "code",
            "source": [
                "CREATE TABLE Person (\r\n",
                "    PersonID int PRIMARY KEY IDENTITY(1,1),\r\n",
                "    LastName varchar(255),\r\n",
                "    FirstName varchar(255),\r\n",
                "    Address varchar(255),\r\n",
                "    City varchar(255),\r\n",
                "\tAge INT\r\n",
                ")\r\n",
                " \r\n",
                "GO\r\n",
                " \r\n",
                "INSERT INTO Person VALUES('Hayes', 'Corey','123  Wern Ddu Lane','LUSTLEIGH',23)\r\n",
                "INSERT INTO Person VALUES('Macdonald','Charlie','23  Peachfield Road','CEFN EINION',45)\r\n",
                "INSERT INTO Person VALUES('Frost','Emma','85  Kingsway North','HOLTON',26)\r\n",
                "INSERT INTO Person VALUES('Thomas', 'Tom','59  Dover Road', 'WESTER GRUINARDS',51)\r\n",
                "INSERT INTO Person VALUES('Baxter','Cameron','106  Newmarket Road','HAWTHORPE',46)\r\n",
                "INSERT INTO Person VALUES('Townsend','Imogen ','100  Shannon Way','CHIPPENHAM',20)\r\n",
                "INSERT INTO Person VALUES('Preston','Taylor','14  Pendwyallt Road','BURTON',19)\r\n",
                "INSERT INTO Person VALUES('Townsend','Imogen ','100  Shannon Way','CHIPPENHAM',18)\r\n",
                "INSERT INTO Person VALUES('Khan','Jacob','72  Ballifeary Road','BANCFFOSFELEN',11)"
            ],
            "metadata": {
                "azdata_cell_guid": "a2a38d8d-43eb-4bdc-b147-6948c65b78e4",
                "language": "sql"
            },
            "outputs": [
                {
                    "output_type": "display_data",
                    "data": {
                        "text/html": "Commands completed successfully."
                    },
                    "metadata": {}
                },
                {
                    "output_type": "display_data",
                    "data": {
                        "text/html": "(1 row affected)"
                    },
                    "metadata": {}
                },
                {
                    "output_type": "display_data",
                    "data": {
                        "text/html": "(1 row affected)"
                    },
                    "metadata": {}
                },
                {
                    "output_type": "display_data",
                    "data": {
                        "text/html": "(1 row affected)"
                    },
                    "metadata": {}
                },
                {
                    "output_type": "display_data",
                    "data": {
                        "text/html": "(1 row affected)"
                    },
                    "metadata": {}
                },
                {
                    "output_type": "display_data",
                    "data": {
                        "text/html": "(1 row affected)"
                    },
                    "metadata": {}
                },
                {
                    "output_type": "display_data",
                    "data": {
                        "text/html": "(1 row affected)"
                    },
                    "metadata": {}
                },
                {
                    "output_type": "display_data",
                    "data": {
                        "text/html": "(1 row affected)"
                    },
                    "metadata": {}
                },
                {
                    "output_type": "display_data",
                    "data": {
                        "text/html": "(1 row affected)"
                    },
                    "metadata": {}
                },
                {
                    "output_type": "display_data",
                    "data": {
                        "text/html": "(1 row affected)"
                    },
                    "metadata": {}
                },
                {
                    "output_type": "display_data",
                    "data": {
                        "text/html": "Total execution time: 00:00:00.026"
                    },
                    "metadata": {}
                }
            ],
            "execution_count": 1
        },
        {
            "cell_type": "markdown",
            "source": [
                "## **<mark>Chế độ giao dịch trong SQL Server</mark>**"
            ],
            "metadata": {
                "language": "sql",
                "azdata_cell_guid": "d64ddba5-f94e-4ac5-aca6-e34de47353e6"
            },
            "attachments": {}
        },
        {
            "cell_type": "markdown",
            "source": [
                "SQL Server có thể vận hành 3 chế độ giao dịch khác nhau và đó là:\n",
                "\n",
                "- Chế độ giao dịch tự động gửi (Autocommit Transaction mode) là chế độ giao dịch mặc định cho SQL Server. Trong chế độ này, mỗi câu lệnh T-SQL được đánh giá như một giao dịch và chúng được cam kết thực thi hoặc quay trở lại tùy theo kết quả của chúng. Các câu lệnh thành công được cam kết và các câu lệnh không thành công được khôi phục ngay lập tức\n",
                "- Chế độ giao dịch ngầm định (Implicit transaction mode) cho phép SQL Server bắt đầu một giao dịch ngầm định cho mọi câu lệnh DML nhưng chúng ta cần sử dụng các lệnh cam kết hoặc lệnh quay lại một cách rõ ràng ở cuối các câu lệnh\n",
                "- Chế độ giao dịch rõ ràng (Explicit transaction mode) cung cấp để xác định một giao dịch chính xác với điểm bắt đầu và điểm kết thúc của giao dịch"
            ],
            "metadata": {
                "language": "sql",
                "azdata_cell_guid": "716d5a8f-682c-4560-83f1-05730d57f708"
            },
            "attachments": {}
        },
        {
            "cell_type": "markdown",
            "source": [
                "### **<mark>Cách xác định một giao dịch ngầm định trong SQL Server</mark>**"
            ],
            "metadata": {
                "language": "sql",
                "azdata_cell_guid": "88998230-734f-48d4-9b92-8233c263f2a6"
            },
            "attachments": {}
        },
        {
            "cell_type": "code",
            "source": [
                "SET IMPLICIT_TRANSACTIONS ON\r\n",
                "SELECT * FROM Person\r\n",
                "WHERE PersonID = 2\r\n",
                "\r\n",
                "UPDATE \r\n",
                "    Person \r\n",
                "SET \r\n",
                "    Lastname = 'Sawyer', \r\n",
                "    Firstname = 'Tom' \r\n",
                "WHERE \r\n",
                "    PersonID = 2\r\n",
                "\r\n",
                "SELECT \r\n",
                "    IIF(@@OPTIONS = 5498, \r\n",
                "    'Implicit Transaction Mode ON', \r\n",
                "    'Implicit Transaction Mode OFF'\r\n",
                "    ) AS 'Transaction Mode'\r\n",
                "\r\n",
                "SELECT * FROM Person\r\n",
                "WHERE PersonID = 2\r\n",
                "\r\n",
                "\r\n",
                "SELECT \r\n",
                "    @@TRANCOUNT AS OpenTransactions\r\n",
                "\r\n",
                "ROLLBACK TRAN\r\n",
                "\r\n",
                "SELECT * FROM Person\r\n",
                "WHERE PersonID = 2\r\n",
                "\r\n",
                "SELECT \r\n",
                "    @@TRANCOUNT AS OpenTransactions\r\n",
                "\r\n",
                "COMMIT TRAN\r\n",
                "\r\n",
                "SELECT \r\n",
                "    @@TRANCOUNT AS OpenTransactions"
            ],
            "metadata": {
                "language": "sql",
                "azdata_cell_guid": "737a86bf-0ae6-4be4-9751-44e8f4a8aa4e"
            },
            "outputs": [],
            "execution_count": null
        },
        {
            "cell_type": "markdown",
            "source": [
                "\\- @@OPTIONS: [@@OPTIONS (Transact-SQL) - SQL Server | Microsoft Docs](https://docs.microsoft.com/en-us/sql/t-sql/functions/options-transact-sql?view=sql-server-ver16)\n",
                "\n",
                "\\- Bitwise &: [& (Bitwise AND) (Transact-SQL) - SQL Server | Microsoft Docs](https://docs.microsoft.com/en-us/sql/t-sql/language-elements/bitwise-and-transact-sql?view=sql-server-ver16)\n",
                "\n",
                "\\- @@TRANCOUNT: [@@TRANCOUNT (Transact-SQL) - SQL Server | Microsoft Docs](https://docs.microsoft.com/vi-vn/sql/t-sql/functions/trancount-transact-sql?view=sql-server-2017)"
            ],
            "metadata": {
                "language": "sql",
                "azdata_cell_guid": "ec14f95d-9cd3-42ab-8f5d-cb428e749d2c"
            },
            "attachments": {}
        },
        {
            "cell_type": "markdown",
            "source": [
                "### **<mark>Cách xác định một giao dịch rõ ràng trong SQL Server</mark>**"
            ],
            "metadata": {
                "language": "sql",
                "azdata_cell_guid": "b5721042-48a7-4aa6-a45a-545a61ef9747"
            },
            "attachments": {}
        },
        {
            "cell_type": "markdown",
            "source": [
                "Để xác định một giao dịch rõ ràng, chúng tôi bắt đầu sử dụng lệnh BEGIN TRANSACTION vì câu lệnh này xác định điểm bắt đầu của giao dịch rõ ràng. Nó có cú pháp sau:\n",
                "\n",
                "```\n",
                "BEGIN TRANSACTION [ {transaction_name | @tran_name_variable }    \n",
                "    [WITH MARK ['description']]]\n",
                "\n",
                "```\n",
                "\n",
                "- Tùy chọn transaction\\_name được sử dụng để chỉ định một tên cụ thể cho các giao dịch\n",
                "- Tùy chọn @trans\\_var là một biến do người dùng xác định được sử dụng để giữ tên giao dịch\n",
                "- Tùy chọn WITH MARK cho phép đánh dấu một giao dịch cụ thể trong tệp nhật ký"
            ],
            "metadata": {
                "language": "sql",
                "azdata_cell_guid": "f8c547d8-639d-4e32-b040-49fd1957cf20"
            },
            "attachments": {}
        },
        {
            "cell_type": "markdown",
            "source": [
                "Sau khi xác định một giao dịch rõ ràng thông qua lệnh BEGIN TRANSACTION, các tài nguyên liên quan có được một khóa tùy thuộc vào mức độ cô lập của giao dịch. Vì lý do này, việc sử dụng giao dịch ngắn nhất có thể sẽ giúp giảm thiểu các vấn đề về khóa. Câu lệnh sau đây bắt đầu một giao dịch và sau đó nó sẽ thay đổi tên của một hàng cụ thể trong bảng Person.\n",
                "\n",
                "Câu lệnh COMMIT TRAN áp dụng các thay đổi dữ liệu cho cơ sở dữ liệu và dữ liệu được thay đổi sẽ trở thành vĩnh viễn."
            ],
            "metadata": {
                "language": "sql",
                "azdata_cell_guid": "04126b00-abcd-43eb-a1b2-45c3e2dbe686"
            },
            "attachments": {}
        },
        {
            "cell_type": "code",
            "source": [
                "BEGIN TRAN\r\n",
                "UPDATE Person \r\n",
                "SET    Lastname = 'Lucky', \r\n",
                "        Firstname = 'Luke' \r\n",
                "WHERE  PersonID = 1\r\n",
                "SELECT @@TRANCOUNT AS OpenTransactions \r\n",
                "COMMIT TRAN \r\n",
                "SELECT @@TRANCOUNT AS OpenTransactions"
            ],
            "metadata": {
                "language": "sql",
                "azdata_cell_guid": "1b4e0bad-f6e1-4498-8936-e42a1f9ad068",
                "tags": []
            },
            "outputs": [],
            "execution_count": null
        },
        {
            "cell_type": "markdown",
            "source": [
                "Câu lệnh <mark>**ROLLBACK TRANSACTION**</mark> giúp hoàn tác tất cả các sửa đổi dữ liệu được áp dụng bởi giao dịch."
            ],
            "metadata": {
                "language": "sql",
                "azdata_cell_guid": "d864d7d2-6818-43c0-8680-6e44885b7fd9"
            },
            "attachments": {}
        },
        {
            "cell_type": "code",
            "source": [
                "BEGIN TRAN\r\n",
                "UPDATE Person \r\n",
                "SET    Lastname = 'Donald', \r\n",
                "        Firstname = 'Duck'  WHERE PersonID=2\r\n",
                " \r\n",
                " \r\n",
                "SELECT * FROM Person WHERE PersonID=2\r\n",
                " \r\n",
                "ROLLBACK TRAN \r\n",
                " \r\n",
                "SELECT * FROM Person WHERE PersonID=2"
            ],
            "metadata": {
                "language": "sql",
                "azdata_cell_guid": "5353cf2d-bfc9-48a9-a3e6-320a1f33b7d6"
            },
            "outputs": [],
            "execution_count": null
        },
        {
            "cell_type": "markdown",
            "source": [
                "Bảng sau minh họa cấu trúc của các giao dịch rõ ràng trong SQL Server.\r\n",
                "\r\n",
                "![Demo2](Table1.png)"
            ],
            "metadata": {
                "language": "sql",
                "azdata_cell_guid": "da441cf6-5fad-4e73-af6b-6a41c35a28e6"
            },
            "attachments": {}
        },
        {
            "cell_type": "markdown",
            "source": [
                "### **<mark>Lưu các điểm (vị trí) trong các giao dịch</mark>**"
            ],
            "metadata": {
                "language": "sql",
                "azdata_cell_guid": "f1d9f0ab-f076-4a21-a2bc-4ed6a682dcc5"
            },
            "attachments": {}
        },
        {
            "cell_type": "markdown",
            "source": [
                "Các điểm lưu có thể được sử dụng để khôi phục bất kỳ phần cụ thể nào của giao dịch thay vì toàn bộ giao dịch. Vì vậy, chỉ có thể khôi phục bất kỳ phần nào của giao dịch trong khoảng thời gian từ sau điểm lưu đến trước lệnh khôi phục. Để xác định điểm lưu trong một giao dịch, sử dụng cú pháp SAVE TRANSACTION và sau đó  thêm tên cho điểm lưu."
            ],
            "metadata": {
                "language": "sql",
                "azdata_cell_guid": "ab3dbe97-a0ea-4dd8-9106-1a4ee6de0b89"
            },
            "attachments": {}
        },
        {
            "cell_type": "code",
            "source": [
                "BEGIN TRANSACTION \r\n",
                "INSERT INTO Person \r\n",
                "VALUES('Mouse', 'Micky','500 South Buena Vista Street, Burbank','California',43)\r\n",
                "SAVE TRANSACTION InsertStatement\r\n",
                "DELETE Person WHERE PersonID=3\r\n",
                "SELECT * FROM Person \r\n",
                "ROLLBACK TRANSACTION InsertStatement\r\n",
                "COMMIT\r\n",
                "SELECT * FROM Person"
            ],
            "metadata": {
                "language": "sql",
                "azdata_cell_guid": "be209c36-8a76-46c6-bc19-3f1dd5ef46b0"
            },
            "outputs": [],
            "execution_count": null
        },
        {
            "cell_type": "markdown",
            "source": [
                "## **<mark>Giao dịch tự động khôi phục trong SQL Server</mark>**"
            ],
            "metadata": {
                "language": "sql",
                "azdata_cell_guid": "37018b27-d439-4dc9-9f15-8dfb65a4548f"
            },
            "attachments": {}
        },
        {
            "cell_type": "markdown",
            "source": [
                "Thông thường, các giao dịch bao gồm nhiều hơn một truy vấn. Theo cách này, nếu một trong các câu lệnh SQL trả về lỗi, tất cả các sửa đổi sẽ bị xóa và các câu lệnh còn lại không được thực thi. Quá trình này được gọi là Giao dịch khôi phục tự động trong SQL."
            ],
            "metadata": {
                "language": "sql",
                "azdata_cell_guid": "2d361aab-5068-499c-b96e-a311f06cdeca"
            },
            "attachments": {}
        },
        {
            "cell_type": "code",
            "source": [
                "BEGIN TRAN\r\n",
                "INSERT INTO Person \r\n",
                "VALUES('Bunny', 'Bugs','742 Evergreen Terrace','Springfield',54)\r\n",
                "    \r\n",
                "UPDATE Person SET Age='MiddleAge' WHERE PersonID=7\r\n",
                "SELECT * FROM Person\r\n",
                " \r\n",
                "COMMIT TRAN"
            ],
            "metadata": {
                "language": "sql",
                "azdata_cell_guid": "4a558516-89ec-4068-b457-6ffb49d9caf1"
            },
            "outputs": [],
            "execution_count": null
        }
    ]
}