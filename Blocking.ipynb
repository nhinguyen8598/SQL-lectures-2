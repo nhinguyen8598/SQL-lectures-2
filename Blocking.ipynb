{
    "metadata": {
        "kernelspec": {
            "name": "SQL",
            "display_name": "SQL",
            "language": "sql"
        },
        "language_info": {
            "name": "sql",
            "version": ""
        }
    },
    "nbformat_minor": 2,
    "nbformat": 4,
    "cells": [
        {
            "cell_type": "markdown",
            "source": [
                "# **<mark>Blocking</mark>**"
            ],
            "metadata": {
                "azdata_cell_guid": "1701c3af-82ba-47eb-bd7d-5c3b503a8668"
            },
            "attachments": {}
        },
        {
            "cell_type": "markdown",
            "source": [
                "Một khối (hoặc khối chặn) xảy ra khi hai phiên cố gắng cập nhật cùng một dữ liệu đồng thời. Phiên đầu tiên khóa dữ liệu và phiên thứ hai cần đợi phiên đầu tiên hoàn thành và giải phóng khóa. Do đó, phiên thứ hai bị chặn cập nhật dữ liệu. Sau khi phiên đầu tiên hoàn thành, phiên thứ hai tiếp tục hoạt động. Nói chung, việc chặn xảy ra khi một phiên giữ khóa trên một tài nguyên và phiên thứ hai cố gắng có được kiểu khóa xung đột trên cùng một tài nguyên.\n",
                "\n",
                "![Blocking](SQL-Server-Blocking.png)  \n",
                "\n",
                "  \n",
                "\n",
                "  \n",
                "\n",
                "Thông thường, thời gian trong đó phiên đầu tiên khóa dữ liệu là rất ngắn. Khi nó giải phóng khóa, phiên thứ hai có thể có được khóa của chính nó trên tài nguyên và tiếp tục xử lý.\n",
                "\n",
                "Chặn là một tính năng không thể tránh khỏi và do thiết kế của SQL Server với tính đồng thời dựa trên khóa. Đó là hành vi bình thường và không ảnh hưởng đến hiệu suất của máy chủ."
            ],
            "metadata": {
                "azdata_cell_guid": "f167ac8b-880d-43c8-b168-8ca08481538e"
            },
            "attachments": {}
        },
        {
            "cell_type": "code",
            "source": [
                "DROP DATABASE IF EXISTS HR\r\n",
                "GO \r\n",
                "\r\n",
                "CREATE DATABASE HR\r\n",
                "GO\r\n",
                "\r\n",
                "USE HR\r\n",
                "\r\n",
                "CREATE TABLE People (\r\n",
                "  Id int IDENTITY PRIMARY KEY,\r\n",
                "  FirstName varchar(50) NOT NULL,\r\n",
                "  LastName varchar(50) NOT NULL\r\n",
                ")\r\n",
                "\r\n",
                "\r\n",
                "INSERT INTO People (FirstName, LastName)\r\n",
                "VALUES  ('Jane', 'Doe')\r\n",
                "\r\n",
                "\r\n",
                "SELECT * FROM People"
            ],
            "metadata": {
                "azdata_cell_guid": "e56ff024-12f4-418d-922c-3f8888258448",
                "language": "sql",
                "tags": []
            },
            "outputs": [
                {
                    "output_type": "display_data",
                    "data": {
                        "text/html": "Commands completed successfully."
                    },
                    "metadata": {}
                },
                {
                    "output_type": "display_data",
                    "data": {
                        "text/html": "Commands completed successfully."
                    },
                    "metadata": {}
                },
                {
                    "output_type": "display_data",
                    "data": {
                        "text/html": "(1 row affected)"
                    },
                    "metadata": {}
                },
                {
                    "output_type": "display_data",
                    "data": {
                        "text/html": "(1 row affected)"
                    },
                    "metadata": {}
                },
                {
                    "output_type": "display_data",
                    "data": {
                        "text/html": "Total execution time: 00:00:00.179"
                    },
                    "metadata": {}
                },
                {
                    "output_type": "execute_result",
                    "execution_count": 1,
                    "data": {
                        "application/vnd.dataresource+json": {
                            "schema": {
                                "fields": [
                                    {
                                        "name": "Id"
                                    },
                                    {
                                        "name": "FirstName"
                                    },
                                    {
                                        "name": "LastName"
                                    }
                                ]
                            },
                            "data": [
                                {
                                    "0": "1",
                                    "1": "Jane",
                                    "2": "Doe"
                                }
                            ]
                        },
                        "text/html": "<table><tr><th>Id</th><th>FirstName</th><th>LastName</th></tr><tr><td>1</td><td>Jane</td><td>Doe</td></tr></table>"
                    },
                    "metadata": {}
                }
            ],
            "execution_count": 1
        },
        {
            "cell_type": "markdown",
            "source": [
                "Demo khi chạy song song 2 session bên dưới: (Nên sử dụng SSMS)"
            ],
            "metadata": {
                "language": "sql",
                "azdata_cell_guid": "36a160c7-392c-4cfe-b4f0-07e941f100ec"
            },
            "attachments": {}
        },
        {
            "cell_type": "code",
            "source": [
                "-- Session 1\r\n",
                "BEGIN TRAN\r\n",
                "\r\n",
                "UPDATE People\r\n",
                "SET LastName = 'Smith'\r\n",
                "WHERE Id = 1"
            ],
            "metadata": {
                "language": "sql",
                "azdata_cell_guid": "05943e0b-f05e-42bc-b067-89d958c04cda"
            },
            "outputs": [],
            "execution_count": null
        },
        {
            "cell_type": "code",
            "source": [
                "COMMIT TRAN"
            ],
            "metadata": {
                "language": "sql",
                "azdata_cell_guid": "c93d90c1-8171-492d-8138-b5faff7bfe01"
            },
            "outputs": [],
            "execution_count": null
        },
        {
            "cell_type": "code",
            "source": [
                "-- Session 2\r\n",
                "BEGIN TRAN\r\n",
                "\r\n",
                "UPDATE People\r\n",
                "SET LastName = 'Brown'\r\n",
                "WHERE Id = 1\r\n",
                "\r\n",
                "COMMIT TRAN"
            ],
            "metadata": {
                "language": "sql",
                "azdata_cell_guid": "797969c6-3d12-4d91-865f-595574d36c68"
            },
            "outputs": [],
            "execution_count": null
        },
        {
            "cell_type": "markdown",
            "source": [
                "Để liệt kê tất cả các quy trình hiện được kết nối với SQL Server, bạn sử dụng quy trình lưu trữ **sp\\_who2**."
            ],
            "metadata": {
                "language": "sql",
                "azdata_cell_guid": "b43fac42-e7fb-4451-9b26-692c05779be3"
            },
            "attachments": {}
        },
        {
            "cell_type": "code",
            "source": [
                "EXEC sp_who2"
            ],
            "metadata": {
                "language": "sql",
                "azdata_cell_guid": "a858bdf3-6c48-4398-a090-70655b8e9c34"
            },
            "outputs": [],
            "execution_count": null
        }
    ]
}