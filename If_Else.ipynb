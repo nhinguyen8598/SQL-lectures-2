{
    "metadata": {
        "kernelspec": {
            "name": "SQL",
            "display_name": "SQL",
            "language": "sql"
        },
        "language_info": {
            "name": "sql",
            "version": ""
        }
    },
    "nbformat_minor": 2,
    "nbformat": 4,
    "cells": [
        {
            "cell_type": "markdown",
            "source": [
                "## **IF ELSE**"
            ],
            "metadata": {
                "azdata_cell_guid": "e8307908-65c3-4465-ad5d-ed446a8906e4"
            },
            "attachments": {}
        },
        {
            "cell_type": "markdown",
            "source": [
                "![Diagram](030819_0910_SQLServerIF1.png)"
            ],
            "metadata": {
                "azdata_cell_guid": "26405b7b-15f0-478c-8439-4819c0bd2076"
            },
            "attachments": {}
        },
        {
            "cell_type": "markdown",
            "source": [
                "**<mark><span style=\"font-size:14px;\">Câu lệnh IF ... ELSE là một câu lệnh điều khiển&nbsp;</span> luồng <span style=\"font-size:14px;\">&nbsp;cho phép bạn thực thi hoặc bỏ qua một khối câu lệnh dựa trên một điều kiện được chỉ định.</span></mark>**"
            ],
            "metadata": {
                "azdata_cell_guid": "4fed812d-2619-451a-bf38-b9c51f78403c"
            },
            "attachments": {}
        },
        {
            "cell_type": "markdown",
            "source": [
                "<span style=\"font-size: 14px; background-color: yellow;\"><b>Câu lệnh IF</b></span>"
            ],
            "metadata": {
                "azdata_cell_guid": "2798f1b2-e658-4090-9a47-11cc599aa898"
            },
            "attachments": {}
        },
        {
            "cell_type": "markdown",
            "source": [
                "**<mark>Cú pháp:</mark>**\n",
                "\n",
                "```\n",
                "IF boolean_expression   \n",
                "BEGIN\n",
                "    { statement_block }\n",
                "END\n",
                "\n",
                "```\n",
                "\n",
                "Trong cú pháp này, nếu Boolean\\_expression đánh giá là TRUE thì statement\\_block trong khối BEGIN ... END được thực thi. Nếu không, statement\\_block bị bỏ qua và quyền điều khiển chương trình được chuyển cho câu lệnh sau từ khóa END.\n",
                "\n",
                "Lưu ý rằng nếu biểu thức Boolean chứa câu lệnh SELECT, bạn phải đặt câu lệnh SELECT trong dấu ngoặc đơn."
            ],
            "metadata": {
                "azdata_cell_guid": "18dbe9b6-238e-4263-8f01-15140b56f35a"
            },
            "attachments": {}
        },
        {
            "cell_type": "code",
            "source": [
                "DECLARE @sales INT;\r\n",
                "\r\n",
                "SELECT \r\n",
                "    @sales = SUM(list_price * quantity)\r\n",
                "FROM\r\n",
                "    sales.order_items i\r\n",
                "INNER JOIN sales.orders o \r\n",
                "    ON o.order_id = i.order_id\r\n",
                "WHERE\r\n",
                "    YEAR(order_date) = 2018;\r\n",
                "\r\n",
                "SELECT @sales;\r\n",
                "\r\n",
                "IF @sales > 1000000\r\n",
                "BEGIN\r\n",
                "    PRINT 'Great! The sales amount in 2018 is greater than 1,000,000';\r\n",
                "END"
            ],
            "metadata": {
                "azdata_cell_guid": "304b07d8-fb8b-4791-8cad-715eeb983b7d",
                "language": "sql"
            },
            "outputs": [],
            "execution_count": null
        },
        {
            "cell_type": "markdown",
            "source": [
                "<span style=\"font-size: 14px; background-color: yellow;\"><b>Câu lệnh IF ELSE</b></span>"
            ],
            "metadata": {
                "language": "sql",
                "azdata_cell_guid": "2c6e2c87-7334-449e-bd3c-76dd8a752fdb"
            },
            "attachments": {}
        },
        {
            "cell_type": "markdown",
            "source": [
                "<mark>Cú pháp:</mark>\n",
                "\n",
                "```\n",
                "IF Boolean_expression\n",
                "BEGIN\n",
                "    -- Statement block executes when the Boolean expression is TRUE\n",
                "END\n",
                "ELSE\n",
                "BEGIN\n",
                "    -- Statement block executes when the Boolean expression is FALSE\n",
                "END\n",
                "\n",
                "```\n",
                "\n",
                "<span style=\"font-size:14px;\">Mỗi câu lệnh <span style=\"background-color: yellow;\">IF</span> có một điều kiện. Nếu điều kiện đánh giá là <span style=\"background-color: yellow;\">TRUE</span> thì khối câu lệnh trong mệnh đề IF <span style=\"background-color: yellow;\">được thực thi</span>. Nếu điều kiện là <span style=\"background-color: yellow;\">FALSE</span>, thì khối mã trong mệnh đề <span style=\"background-color: yellow;\">ELSE </span>được <span style=\"background-color: yellow;\">thực thi.</span></span>"
            ],
            "metadata": {
                "language": "sql",
                "azdata_cell_guid": "9b997c05-a3a0-4043-af34-65fd0c976af5"
            },
            "attachments": {}
        },
        {
            "cell_type": "code",
            "source": [
                "DECLARE @sales INT;\r\n",
                "\r\n",
                "SELECT \r\n",
                "    @sales = SUM(list_price * quantity)\r\n",
                "FROM\r\n",
                "    sales.order_items i\r\n",
                "INNER JOIN sales.orders o \r\n",
                "    ON o.order_id = i.order_id\r\n",
                "WHERE\r\n",
                "    YEAR(order_date) = 2017;\r\n",
                "\r\n",
                "SELECT @sales;\r\n",
                "\r\n",
                "IF @sales > 10000000\r\n",
                "BEGIN\r\n",
                "    PRINT 'Great! The sales amount in 2018 is greater than 10,000,000';\r\n",
                "END\r\n",
                "ELSE\r\n",
                "BEGIN\r\n",
                "    PRINT 'Sales amount in 2017 did not reach 10,000,000';\r\n",
                "END"
            ],
            "metadata": {
                "language": "sql",
                "azdata_cell_guid": "fb898d69-b630-4fc5-8455-71e81a419dd4"
            },
            "outputs": [],
            "execution_count": null
        },
        {
            "cell_type": "markdown",
            "source": [
                "<span style=\"font-size: 14px; background-color: yellow;\"><b>Trường hợp IF...ELSE lồng nhau:</b></span>"
            ],
            "metadata": {
                "language": "sql",
                "azdata_cell_guid": "5bf9a738-d70b-4f22-8bcf-8e811124368b"
            },
            "attachments": {}
        },
        {
            "cell_type": "code",
            "source": [
                "DECLARE @x INT = 10,\r\n",
                "        @y INT = 20;\r\n",
                "\r\n",
                "IF (@x > 0)\r\n",
                "BEGIN\r\n",
                "    IF (@x < @y)\r\n",
                "        PRINT 'x > 0 and x < y';\r\n",
                "    ELSE\r\n",
                "        PRINT 'x > 0 and x >= y';\r\n",
                "END"
            ],
            "metadata": {
                "language": "sql",
                "azdata_cell_guid": "7acc6437-60fe-4f8b-af2d-fec4ded0560e"
            },
            "outputs": [],
            "execution_count": null
        }
    ]
}