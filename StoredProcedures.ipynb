{
    "metadata": {
        "kernelspec": {
            "name": "SQL",
            "display_name": "SQL",
            "language": "sql"
        },
        "language_info": {
            "name": "sql",
            "version": ""
        }
    },
    "nbformat_minor": 2,
    "nbformat": 4,
    "cells": [
        {
            "cell_type": "markdown",
            "source": [
                "## **<mark>\\*Stored Procedures</mark>**"
            ],
            "metadata": {
                "azdata_cell_guid": "7fddb479-d200-4aab-85de-19146a617f6d"
            },
            "attachments": {}
        },
        {
            "cell_type": "markdown",
            "source": [
                "Các thủ tục được lưu trữ <mark>(stored procedures)</mark> trong SQL Server được sử dụng <mark>để nhóm một hoặc nhiều câu lệnh Transact-SQL</mark> thành các đơn vị logic. Stored Procedures được lưu trữ dưới dạng một đối tượng được đặt tên trong Máy chủ cơ sở dữ liệu SQL Server.\n",
                "\n",
                "Khi bạn gọi một Stored Procedures lần đầu tiên, SQL Server sẽ tạo một kế hoạch thực thi và lưu trữ nó trong bộ đệm ẩn. Trong các lần thực thi tiếp theo của Stored Procedures, SQL Server sử dụng lại kế hoạch để thực thi Stored Procedures rất nhanh với hiệu suất đáng tin cậy.\n",
                "\n",
                "<mark>\\*DDL</mark> :  CREATE , ALTER AND DROP\n",
                "\n",
                "<mark>\\*DML</mark> : INSERT, UPDATE, DELETE, SELECT : ngôn ngữ chỉnh sửa"
            ],
            "metadata": {
                "azdata_cell_guid": "f2f652cf-e2a0-4a7a-9714-97c02d6bc123"
            },
            "attachments": {}
        },
        {
            "cell_type": "markdown",
            "source": [
                "**<mark>Tạo một thủ tục lưu trữ đơn giản</mark>**"
            ],
            "metadata": {
                "azdata_cell_guid": "56566ca2-b7ee-4ea8-b7e8-c59e5118e9d2"
            },
            "attachments": {}
        },
        {
            "cell_type": "markdown",
            "source": [
                "Để tạo một thủ tục được lưu trữ bao bọc truy vấn này, bạn sử dụng câu lệnh **<mark>CREATE PROCEDURE</mark>** như sau:"
            ],
            "metadata": {
                "azdata_cell_guid": "96ec7202-cc78-496c-8d7d-4fe7af781f05"
            },
            "attachments": {}
        },
        {
            "cell_type": "code",
            "source": [
                "CREATE PROCEDURE uspProductList\r\n",
                "AS\r\n",
                "BEGIN\r\n",
                "    SELECT \r\n",
                "        product_name, \r\n",
                "        list_price\r\n",
                "    FROM \r\n",
                "        production.products\r\n",
                "    ORDER BY \r\n",
                "        product_name;\r\n",
                "END;"
            ],
            "metadata": {
                "azdata_cell_guid": "396114c9-abde-4bf8-9656-6b41f42025ad",
                "language": "sql",
                "tags": []
            },
            "outputs": [],
            "execution_count": null
        },
        {
            "cell_type": "markdown",
            "source": [
                "<span style=\"font-size: 16px;\">Trong cú pháp này:</span>\n",
                "\n",
                "- <span style=\"font-size: 16px;\">UspProductList là tên của thủ tục được lưu trữ.</span>\n",
                "- <span style=\"font-size: 16px;\">Từ khóa AS phân tách phần đầu và phần thân của thủ tục được lưu trữ.</span>\n",
                "- <span style=\"font-size: 16px;\">Nếu thủ tục được lưu trữ có một câu lệnh, các từ khóa BEGIN và END xung quanh câu lệnh là tùy chọn. Tuy nhiên, bạn nên đưa chúng vào để làm cho mã rõ ràng.</span>\n",
                "\n",
                "<span style=\"font-size: 16px;\">Lưu ý rằng ngoài các từ khóa CREATE PROCEDURE, bạn có thể sử dụng các từ khóa CREATE PROC để làm cho câu lệnh ngắn hơn.</span>"
            ],
            "metadata": {
                "language": "sql",
                "azdata_cell_guid": "fd5f18fb-9a66-4152-b954-52459e042ea2"
            },
            "attachments": {}
        },
        {
            "cell_type": "markdown",
            "source": [
                "**<mark>Thực thi một thủ tục được lưu trữ</mark>**"
            ],
            "metadata": {
                "azdata_cell_guid": "0554b523-da3c-49e5-a999-6acbcba2be0b"
            },
            "attachments": {}
        },
        {
            "cell_type": "markdown",
            "source": [
                "Để thực hiện một thủ tục được lưu trữ, bạn sử dụng câu lệnh <mark>EXECUTE</mark> hoặc <mark>EXEC</mark> theo sau là tên của thủ tục được lưu trữ:\n",
                "\n",
                "```\n",
                "EXECUTE sp_name;\n",
                "\n",
                "```\n",
                "\n",
                "Hoặc\n",
                "\n",
                "```\n",
                "EXEC sp_name;\n",
                "\n",
                "```\n",
                "\n",
                "trong đó sp\\_name là tên của thủ tục được lưu trữ mà bạn muốn thực thi."
            ],
            "metadata": {
                "azdata_cell_guid": "64eab8af-9c62-4702-869f-2c343ef40da6"
            },
            "attachments": {}
        },
        {
            "cell_type": "code",
            "source": [
                "EXEC uspProductList;"
            ],
            "metadata": {
                "azdata_cell_guid": "7f3cae03-9de9-4455-89a7-f658b599a0c7",
                "language": "sql"
            },
            "outputs": [],
            "execution_count": null
        },
        {
            "cell_type": "markdown",
            "source": [
                "**<mark>Sửa đổi một thủ tục được lưu trữ</mark>**"
            ],
            "metadata": {
                "language": "sql",
                "azdata_cell_guid": "0814a4dd-f01c-41c6-b11b-2daed8c62327"
            },
            "attachments": {}
        },
        {
            "cell_type": "markdown",
            "source": [
                "Để sửa đổi một thủ tục được lưu trữ hiện có, bạn sử dụng câu lệnh <mark>ALTER PROCEDURE</mark>."
            ],
            "metadata": {
                "language": "sql",
                "azdata_cell_guid": "eaea6424-b9dd-4d37-82e4-caa7c664df84"
            },
            "attachments": {}
        },
        {
            "cell_type": "code",
            "source": [
                "ALTER PROCEDURE uspProductList\r\n",
                "AS\r\n",
                "BEGIN\r\n",
                "    SELECT \r\n",
                "        product_name, \r\n",
                "        list_price\r\n",
                "    FROM \r\n",
                "        production.products\r\n",
                "    ORDER BY \r\n",
                "        list_price \r\n",
                "END;\r\n",
                ""
            ],
            "metadata": {
                "language": "sql",
                "azdata_cell_guid": "84d82277-2434-43c1-ad6a-74b1cf4fccb0"
            },
            "outputs": [],
            "execution_count": null
        },
        {
            "cell_type": "markdown",
            "source": [
                "**<mark>Xóa thủ tục được lưu trữ</mark>**"
            ],
            "metadata": {
                "language": "sql",
                "azdata_cell_guid": "2c3cbd55-24b1-43f4-b76c-6dbc227c896b"
            },
            "attachments": {}
        },
        {
            "cell_type": "markdown",
            "source": [
                "Để xóa một thủ tục được lưu trữ, bạn sử dụng câu lệnh <mark>DROP PROCEDURE</mark> hoặc <mark>DROP PROC</mark>:\n",
                "\n",
                "```\n",
                "DROP PROCEDURE sp_name;\n",
                "\n",
                "```\n",
                "\n",
                "hoặc\n",
                "\n",
                "```\n",
                "DROP PROC sp_name;    \n",
                "\n",
                "```\n",
                "\n",
                "trong đó sp\\_name là tên của thủ tục được lưu trữ mà bạn muốn xóa."
            ],
            "metadata": {
                "language": "sql",
                "azdata_cell_guid": "bf2c1e40-d76b-4deb-998c-280230b1a3fc"
            },
            "attachments": {}
        },
        {
            "cell_type": "code",
            "source": [
                "DROP PROCEDURE uspProductList;"
            ],
            "metadata": {
                "language": "sql",
                "azdata_cell_guid": "5d02f644-6a62-4f06-99d3-234430a53e98"
            },
            "outputs": [],
            "execution_count": null
        },
        {
            "cell_type": "markdown",
            "source": [
                "## **<mark>Stored Procedure Parameters</mark>**"
            ],
            "metadata": {
                "language": "sql",
                "azdata_cell_guid": "769205f5-466c-4723-9314-bb34654bc44c"
            },
            "attachments": {}
        },
        {
            "cell_type": "markdown",
            "source": [
                "**<mark>Tạo một thủ tục được lưu trữ với một tham số (parameter)</mark>**"
            ],
            "metadata": {
                "language": "sql",
                "azdata_cell_guid": "05fe6207-f20f-4920-94b2-a8991cd824f2"
            },
            "attachments": {}
        },
        {
            "cell_type": "code",
            "source": [
                "CREATE PROCEDURE uspFindProducts\r\n",
                "AS\r\n",
                "BEGIN\r\n",
                "    SELECT\r\n",
                "        product_name,\r\n",
                "        list_price\r\n",
                "    FROM \r\n",
                "        production.products\r\n",
                "    ORDER BY\r\n",
                "        list_price;\r\n",
                "END;"
            ],
            "metadata": {
                "language": "sql",
                "azdata_cell_guid": "24713df3-c4a6-4010-8ac2-7403441f033b"
            },
            "outputs": [],
            "execution_count": null
        },
        {
            "cell_type": "markdown",
            "source": [
                "Tuy nhiên, lần này chúng ta có thể thêm một tham số vào quy trình được lưu trữ để tìm các sản phẩm có giá niêm yết lớn hơn giá đầu vào:"
            ],
            "metadata": {
                "language": "sql",
                "azdata_cell_guid": "d10c57b6-d9ea-423d-8b6a-97a3f8b599c7"
            },
            "attachments": {}
        },
        {
            "cell_type": "code",
            "source": [
                "ALTER PROCEDURE uspFindProducts(@min_list_price AS DECIMAL)\r\n",
                "AS\r\n",
                "BEGIN\r\n",
                "    SELECT\r\n",
                "        product_name,\r\n",
                "        list_price\r\n",
                "    FROM \r\n",
                "        production.products\r\n",
                "    WHERE\r\n",
                "        list_price >= @min_list_price\r\n",
                "    ORDER BY\r\n",
                "        list_price;\r\n",
                "END;"
            ],
            "metadata": {
                "language": "sql",
                "azdata_cell_guid": "b6c7ff0f-3d5a-4375-8b20-d8c8a253759e"
            },
            "outputs": [],
            "execution_count": null
        },
        {
            "cell_type": "markdown",
            "source": [
                "Trong ví dụ này:\n",
                "\n",
                "- Đầu tiên, thêm một tham số có tên @min\\_list\\_price vào thủ tục lưu trữ uspFindProducts. Mọi tham số phải bắt đầu bằng dấu @. Các từ khóa AS DECIMAL chỉ định kiểu dữ liệu của tham số @min\\_list\\_price. Tham số phải được bao quanh bởi dấu ngoặc mở và đóng.\n",
                "- Thứ hai, sử dụng tham số @min\\_list\\_price trong mệnh đề WHERE của câu lệnh SELECT để chỉ lọc các sản phẩm có giá niêm yết lớn hơn hoặc bằng @min\\_list\\_price."
            ],
            "metadata": {
                "language": "sql",
                "azdata_cell_guid": "17447ebf-c455-4003-b580-83306e8108f6"
            },
            "attachments": {}
        },
        {
            "cell_type": "markdown",
            "source": [
                "**<mark>Thực thi một thủ tục được lưu trữ với một tham số</mark>**"
            ],
            "metadata": {
                "language": "sql",
                "azdata_cell_guid": "f0be1c5a-947d-4b5a-b83d-186f7fc4b9d1"
            },
            "attachments": {}
        },
        {
            "cell_type": "markdown",
            "source": [
                "Để thực hiện thủ tục được lưu trữ uspFindProducts, bạn truyền vào một đối số (argument) cho nó như sau:"
            ],
            "metadata": {
                "language": "sql",
                "azdata_cell_guid": "18b9a0c3-c71a-497f-8002-3dc58810a489"
            },
            "attachments": {}
        },
        {
            "cell_type": "code",
            "source": [
                "EXEC uspFindProducts 100;"
            ],
            "metadata": {
                "language": "sql",
                "azdata_cell_guid": "7c1eb4cd-d4a1-4bdd-bd56-459c28b1ab1f"
            },
            "outputs": [],
            "execution_count": null
        },
        {
            "cell_type": "code",
            "source": [
                "EXEC uspFindProducts 200;"
            ],
            "metadata": {
                "language": "sql",
                "azdata_cell_guid": "0a03baf2-e9b3-49b6-a74d-b7c22d5c30d2"
            },
            "outputs": [],
            "execution_count": null
        },
        {
            "cell_type": "markdown",
            "source": [
                "**<mark>Tạo một thủ tục được lưu trữ với nhiều tham số</mark>**"
            ],
            "metadata": {
                "language": "sql",
                "azdata_cell_guid": "4f294793-5bf3-4fb9-9b1a-761802f6f40a"
            },
            "attachments": {}
        },
        {
            "cell_type": "markdown",
            "source": [
                "Các thủ tục được lưu trữ có thể nhận một hoặc nhiều tham số. Các tham số được phân tách bằng dấu phẩy."
            ],
            "metadata": {
                "language": "sql",
                "azdata_cell_guid": "5adcc076-77b5-4301-beb4-4d9fdf1e55e8"
            },
            "attachments": {}
        },
        {
            "cell_type": "code",
            "source": [
                "ALTER PROCEDURE uspFindProducts(\r\n",
                "    @min_list_price AS DECIMAL\r\n",
                "    ,@max_list_price AS DECIMAL\r\n",
                ")\r\n",
                "AS\r\n",
                "BEGIN\r\n",
                "    SELECT\r\n",
                "        product_name,\r\n",
                "        list_price\r\n",
                "    FROM \r\n",
                "        production.products\r\n",
                "    WHERE\r\n",
                "        list_price >= @min_list_price AND\r\n",
                "        list_price <= @max_list_price\r\n",
                "    ORDER BY\r\n",
                "        list_price;\r\n",
                "END;"
            ],
            "metadata": {
                "language": "sql",
                "azdata_cell_guid": "d535ac89-6e05-4d1c-b0c6-e85c48592d0f"
            },
            "outputs": [],
            "execution_count": null
        },
        {
            "cell_type": "markdown",
            "source": [
                "Khi thủ tục đã lưu trữ được sửa đổi thành công, bạn có thể thực thi nó bằng cách truyền vào hai đối số, một cho @min\\_list\\_price và một cho @max\\_list\\_price:"
            ],
            "metadata": {
                "language": "sql",
                "azdata_cell_guid": "226fb004-b551-4565-8718-4f08d074b221"
            },
            "attachments": {}
        },
        {
            "cell_type": "code",
            "source": [
                "EXECUTE uspFindProducts 900, 1000;"
            ],
            "metadata": {
                "language": "sql",
                "azdata_cell_guid": "7bab6a3e-e473-4d7e-bf21-0688f215f1e6"
            },
            "outputs": [],
            "execution_count": null
        },
        {
            "cell_type": "markdown",
            "source": [
                "**<mark>Sử dụng các tham số được đặt tên</mark>**"
            ],
            "metadata": {
                "language": "sql",
                "azdata_cell_guid": "f9f6eb73-9366-4ec0-92b0-0c81ec0620b4"
            },
            "attachments": {}
        },
        {
            "cell_type": "markdown",
            "source": [
                "Trong trường hợp các thủ tục được lưu trữ có nhiều tham số, cách tốt hơn và rõ ràng hơn là thực thi các thủ tục được lưu trữ bằng cách sử dụng các tham số được đặt tên."
            ],
            "metadata": {
                "language": "sql",
                "azdata_cell_guid": "f36fc4b1-bd87-4f0d-a934-3576b2b9f7ee"
            },
            "attachments": {}
        },
        {
            "cell_type": "code",
            "source": [
                "EXECUTE uspFindProducts \r\n",
                "    @min_list_price = 900, \r\n",
                "    @max_list_price = 1000;"
            ],
            "metadata": {
                "language": "sql",
                "azdata_cell_guid": "854e53e9-a093-48df-9fd6-fbad1350138e"
            },
            "outputs": [],
            "execution_count": null
        },
        {
            "cell_type": "markdown",
            "source": [
                "**<mark>Tạo thông số dạng văn bản</mark>**"
            ],
            "metadata": {
                "language": "sql",
                "azdata_cell_guid": "db4b25da-9877-428d-989d-16258be4ef23"
            },
            "attachments": {}
        },
        {
            "cell_type": "code",
            "source": [
                "ALTER PROCEDURE uspFindProducts(\r\n",
                "    @min_list_price AS DECIMAL\r\n",
                "    ,@max_list_price AS DECIMAL\r\n",
                "    ,@name AS VARCHAR(max)\r\n",
                ")\r\n",
                "AS\r\n",
                "BEGIN\r\n",
                "    SELECT\r\n",
                "        product_name,\r\n",
                "        list_price\r\n",
                "    FROM \r\n",
                "        production.products\r\n",
                "    WHERE\r\n",
                "        list_price >= @min_list_price AND\r\n",
                "        list_price <= @max_list_price AND\r\n",
                "        product_name LIKE '%' + @name + '%'\r\n",
                "    ORDER BY\r\n",
                "        list_price;\r\n",
                "END;"
            ],
            "metadata": {
                "language": "sql",
                "azdata_cell_guid": "ee4eb0a8-2bac-4e0f-ab77-4a8bd72cabed"
            },
            "outputs": [],
            "execution_count": null
        },
        {
            "cell_type": "code",
            "source": [
                "EXECUTE uspFindProducts \r\n",
                "    @min_list_price = 900, \r\n",
                "    @max_list_price = 1000,\r\n",
                "    @name = 'Trek';"
            ],
            "metadata": {
                "language": "sql",
                "azdata_cell_guid": "f7f7f60d-ea34-4e9c-acbc-2fce64a58cda"
            },
            "outputs": [],
            "execution_count": null
        },
        {
            "cell_type": "markdown",
            "source": [
                "**<mark>Tạo các thông số tùy chọn</mark>**"
            ],
            "metadata": {
                "language": "sql",
                "azdata_cell_guid": "497db3f8-b789-468f-baa7-cc1c374e489b"
            },
            "attachments": {}
        },
        {
            "cell_type": "markdown",
            "source": [
                "Khi bạn thực thi thủ tục lưu trữ uspFindProducts, bạn phải chuyển cả ba đối số tương ứng với ba tham số.\n",
                "\n",
                "  \n",
                "\n",
                "SQL Server cho phép bạn chỉ định các giá trị mặc định cho các tham số để khi bạn gọi các thủ tục được lưu trữ, bạn có thể bỏ qua các tham số có giá trị mặc định."
            ],
            "metadata": {
                "language": "sql",
                "azdata_cell_guid": "fbb9785e-3dfd-4b98-91a1-75241b90f774"
            },
            "attachments": {}
        },
        {
            "cell_type": "code",
            "source": [
                "ALTER PROCEDURE uspFindProducts(\r\n",
                "    @min_list_price AS DECIMAL = 0\r\n",
                "    ,@max_list_price AS DECIMAL = 999999\r\n",
                "    ,@name AS VARCHAR(max)\r\n",
                ")\r\n",
                "AS\r\n",
                "BEGIN\r\n",
                "    SELECT\r\n",
                "        product_name,\r\n",
                "        list_price\r\n",
                "    FROM \r\n",
                "        production.products\r\n",
                "    WHERE\r\n",
                "        list_price >= @min_list_price AND\r\n",
                "        list_price <= @max_list_price AND\r\n",
                "        product_name LIKE '%' + @name + '%'\r\n",
                "    ORDER BY\r\n",
                "        list_price;\r\n",
                "END;"
            ],
            "metadata": {
                "language": "sql",
                "azdata_cell_guid": "86d25619-b6b3-4e4e-88b9-2607d7371a50"
            },
            "outputs": [],
            "execution_count": null
        },
        {
            "cell_type": "markdown",
            "source": [
                "Trong thủ tục được lưu trữ này, ta đã gán 0 làm giá trị mặc định cho tham số @min\\_list\\_price và 999,999 làm giá trị mặc định cho tham số @max\\_list\\_price.\n",
                "\n",
                "Sau khi thủ tục được lưu trữ được biên dịch, bạn có thể thực thi nó mà không cần chuyển các đối số cho các tham số @min\\_list\\_price và @max\\_list\\_price:"
            ],
            "metadata": {
                "language": "sql",
                "azdata_cell_guid": "3baf1d86-c6ca-44e8-8c47-2d4435a62fbd"
            },
            "attachments": {}
        },
        {
            "cell_type": "code",
            "source": [
                "EXECUTE uspFindProducts \r\n",
                "    @name = 'Trek';"
            ],
            "metadata": {
                "language": "sql",
                "azdata_cell_guid": "7be6810b-5af0-4fc7-a1e4-6a98d8edffbd"
            },
            "outputs": [],
            "execution_count": null
        },
        {
            "cell_type": "markdown",
            "source": [
                "Tất nhiên, bạn cũng có thể truyền các đối số cho các tham số tùy chọn"
            ],
            "metadata": {
                "language": "sql",
                "azdata_cell_guid": "5fa7854e-31f8-4255-b3a8-b9dcca87370d"
            },
            "attachments": {}
        },
        {
            "cell_type": "code",
            "source": [
                "EXECUTE uspFindProducts \r\n",
                "    @min_list_price = 6000,\r\n",
                "    @name = 'Trek';"
            ],
            "metadata": {
                "language": "sql",
                "azdata_cell_guid": "f6f53f0d-be10-46c3-a041-fe280bc7faa7"
            },
            "outputs": [],
            "execution_count": null
        },
        {
            "cell_type": "markdown",
            "source": [
                "**<mark>Sử dụng NULL làm giá trị mặc định</mark>**"
            ],
            "metadata": {
                "language": "sql",
                "azdata_cell_guid": "b484cf41-3f09-4bdf-958b-5faf46d4e611"
            },
            "attachments": {}
        },
        {
            "cell_type": "markdown",
            "source": [
                "Trong quy trình lưu trữ uspFindProducts, chúng ta đã sử dụng 999.999 làm giá niêm yết tối đa mặc định. Điều này chưa tổng quát vì trong tương lai bạn có thể có sản phẩm với giá niêm yết cao hơn thế.\n",
                "\n",
                "Một kỹ thuật điển hình để tránh điều này là sử dụng NULL làm giá trị mặc định cho các tham số:"
            ],
            "metadata": {
                "language": "sql",
                "azdata_cell_guid": "60b6d3a0-bf1d-474d-b985-e76fc3eee5d2"
            },
            "attachments": {}
        },
        {
            "cell_type": "code",
            "source": [
                "ALTER PROCEDURE uspFindProducts(\r\n",
                "    @min_list_price AS DECIMAL = 0\r\n",
                "    ,@max_list_price AS DECIMAL = NULL\r\n",
                "    ,@name AS VARCHAR(max)\r\n",
                ")\r\n",
                "AS\r\n",
                "BEGIN\r\n",
                "    SELECT\r\n",
                "        product_name,\r\n",
                "        list_price\r\n",
                "    FROM \r\n",
                "        production.products\r\n",
                "    WHERE\r\n",
                "        list_price >= @min_list_price AND\r\n",
                "        (@max_list_price IS NULL OR list_price <= @max_list_price) AND\r\n",
                "        product_name LIKE '%' + @name + '%'\r\n",
                "    ORDER BY\r\n",
                "        list_price;\r\n",
                "END;"
            ],
            "metadata": {
                "language": "sql",
                "azdata_cell_guid": "a0dabb49-2a37-4889-b440-d544fde56c7d"
            },
            "outputs": [],
            "execution_count": null
        },
        {
            "cell_type": "code",
            "source": [
                "EXECUTE uspFindProducts \r\n",
                "    @min_list_price = 500,\r\n",
                "    @name = 'Haro';"
            ],
            "metadata": {
                "language": "sql",
                "azdata_cell_guid": "dc230225-93e7-4b89-8849-c2386b656001"
            },
            "outputs": [],
            "execution_count": null
        },
        {
            "cell_type": "markdown",
            "source": [
                "## **<mark>Các thông số đầu ra quy trình được lưu trữ (Stored Procedure Output Parameters)</mark>**"
            ],
            "metadata": {
                "language": "sql",
                "azdata_cell_guid": "050eb0aa-980e-469c-8d73-d16001155ec7"
            },
            "attachments": {}
        },
        {
            "cell_type": "markdown",
            "source": [
                "**<mark>Tạo thông số đầu ra</mark>**"
            ],
            "metadata": {
                "language": "sql",
                "azdata_cell_guid": "7e3b3a19-1b27-4c59-8148-7d117f6fa418"
            },
            "attachments": {}
        },
        {
            "cell_type": "markdown",
            "source": [
                "Để tạo một tham số đầu ra cho một thủ tục được lưu trữ, bạn sử dụng cú pháp sau:\n",
                "```\n",
                "parameter_name data_type OUTPUT\n",
                "\n",
                "```\n",
                "\n",
                "Một thủ tục được lưu trữ có thể có nhiều tham số đầu ra. Ngoài ra, các tham số đầu ra có thể ở bất kỳ kiểu dữ liệu hợp lệ nào, ví dụ: số nguyên, ngày tháng và ký tự khác nhau."
            ],
            "metadata": {
                "language": "sql",
                "azdata_cell_guid": "f3624be0-fc4a-4e24-b59e-c6923a07f4ad"
            },
            "attachments": {}
        },
        {
            "cell_type": "code",
            "source": [
                "CREATE PROCEDURE uspFindProductByModel (\r\n",
                "    @model_year SMALLINT,\r\n",
                "    @product_count INT OUTPUT\r\n",
                ") AS\r\n",
                "BEGIN\r\n",
                "    SELECT \r\n",
                "        product_name,\r\n",
                "        list_price\r\n",
                "    FROM\r\n",
                "        production.products\r\n",
                "    WHERE\r\n",
                "        model_year = @model_year;\r\n",
                "\r\n",
                "    SELECT @product_count = @@ROWCOUNT;\r\n",
                "END;"
            ],
            "metadata": {
                "language": "sql",
                "azdata_cell_guid": "5df41021-6ac4-4c06-b944-7fe2cd3eed34"
            },
            "outputs": [],
            "execution_count": null
        },
        {
            "cell_type": "markdown",
            "source": [
                "**<mark>Gọi các thủ tục được lưu trữ với các tham số đầu ra</mark>**"
            ],
            "metadata": {
                "language": "sql",
                "azdata_cell_guid": "bdcbd7c7-25cc-41d9-94da-cc9cbfec38dd"
            },
            "attachments": {}
        },
        {
            "cell_type": "markdown",
            "source": [
                "Để gọi một thủ tục được lưu trữ với các tham số đầu ra, bạn làm theo các bước sau:\n",
                "\n",
                "- Đầu tiên, khai báo các biến để giữ các giá trị được trả về bởi các tham số đầu ra\n",
                "- Thứ hai, sử dụng các biến này trong lệnh gọi thủ tục được lưu trữ."
            ],
            "metadata": {
                "language": "sql",
                "azdata_cell_guid": "e966f807-28c4-40ef-aae7-9f8b19022c00"
            },
            "attachments": {}
        },
        {
            "cell_type": "code",
            "source": [
                "DECLARE @count INT;\r\n",
                "\r\n",
                "EXEC uspFindProductByModel\r\n",
                "    @model_year = 2018,\r\n",
                "    @product_count = @count OUTPUT;\r\n",
                "\r\n",
                "SELECT @count AS 'Number of products found';"
            ],
            "metadata": {
                "language": "sql",
                "azdata_cell_guid": "985d0962-1fc7-46c8-9050-7c6037929663"
            },
            "outputs": [],
            "execution_count": null
        },
        {
            "cell_type": "code",
            "source": [
                "DECLARE @count INT;\r\n",
                "\r\n",
                "EXEC uspFindProductByModel 2018, @count OUTPUT;"
            ],
            "metadata": {
                "language": "sql",
                "azdata_cell_guid": "bcb945fa-dd6b-43e6-bc58-1f38597942e5"
            },
            "outputs": [],
            "execution_count": null
        },
        {
            "cell_type": "markdown",
            "source": [
                "<mark>Lưu ý rằng nếu bạn quên từ khóa OUTPUT sau biến @count, thì biến @count sẽ là NULL.</mark>"
            ],
            "metadata": {
                "language": "sql",
                "azdata_cell_guid": "10717fe7-5bdd-4c04-b26c-d14a42d6fe69"
            },
            "attachments": {}
        }
    ]
}