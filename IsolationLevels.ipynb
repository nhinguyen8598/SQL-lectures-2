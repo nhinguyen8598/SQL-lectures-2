{
    "metadata": {
        "kernelspec": {
            "name": "SQL",
            "display_name": "SQL",
            "language": "sql"
        },
        "language_info": {
            "name": "sql",
            "version": ""
        }
    },
    "nbformat_minor": 2,
    "nbformat": 4,
    "cells": [
        {
            "cell_type": "markdown",
            "source": [
                "# **<mark>Isolation Levels</mark>**"
            ],
            "metadata": {
                "azdata_cell_guid": "deb7f4df-7687-4637-8b22-5516859d2e35"
            },
            "attachments": {}
        },
        {
            "cell_type": "markdown",
            "source": [
                "## **<mark>Các tác động có thể gây ra khi truy cập đồng thời</mark>**"
            ],
            "metadata": {
                "azdata_cell_guid": "a8e8bb94-d526-4cfb-a8c6-712730a1b91e"
            },
            "attachments": {}
        },
        {
            "cell_type": "markdown",
            "source": [
                "Người dùng thao tác dữ liệu có thể gây ảnh hưởng tới những người khác đang thao tác đồng thời trên dữ liệu này. Nếu hệ thống không kiểm soát tốt, người dùng có thể gặp 1 số tác động sau:\n",
                "\n",
                "- **Lost update:** Trường hợp này xảy ra khi 2 hoặc nhiều transacetion cùng update 1 row từ giá trị ban đầu của nó, Update cuối cùng sẽ ghi đè các update bởi các transaction khác dẫn đến mất dữ liệu. \n",
                "- **Uncommitted dependency (dirty read):** Tác động này xảy ra khi 1 transaction A đọc 1 row khi nó đang được update bởi 1 transaction B khác và chưa được commit. Transaction A sẽ đọc dữ liệu vẫn chưa được commit. Ví dụ 1 người A trong tài khoản có 3 triệu và đang thực hiện 1 giao dịch để nạp vào 2 triệu cho tài khoản. Transaction đã chạy update xong tài khoản lên 5 triệu nhưng vẫn còn 1 số thao tác chưa chạy tới và dữ liệu này vẫn chưa được commit. 1 người B khác dùng chung tài khoản thực hiện kiểm tra số dư, và kết quả trả về là 5 triệu. Giao dịch của người A xảy ra sự cố và báo lỗi, dữ liệu được roll back về 3 triệu. Như vậy người B đang nhận được dữ liệu sai. \n",
                "- **Inconsistent analysis (nonrepeatable read):** Trường hợp này xảy ra khi 1 transaction A đọc 1 đơn vị dữ liệu nhiều lần và kết quả khác nhau giữa các lần do giữa thời gian đọc của các lân đó, dữ liệu bị 1 transaction khác commit thay đổi.\n",
                "- **Phantom reads:** xảy ra khi 2 queries giống hết nhau được thực hiện nhưng list rows kết quả trả về lại khác nhau. Ví dụ, có 2 transaction được thực thi cùng lúc. Hai câu lệnh SELECT trong transaction đầu tiên có thể trả về các kết quả khác nhau vì câu lệnh INSERT trong transaction thứ hai thay đổi dữ liệu được sử dụng bởi cả hai."
            ],
            "metadata": {
                "azdata_cell_guid": "6156b96d-c5c8-49f3-ab63-154aa7431c39"
            },
            "attachments": {}
        },
        {
            "cell_type": "markdown",
            "source": [
                "## **<mark>Isolation Levels / Mức độ độc lập</mark>**"
            ],
            "metadata": {
                "azdata_cell_guid": "057ff693-2da3-43d1-ac83-c81e40eab9a5"
            },
            "attachments": {}
        },
        {
            "cell_type": "markdown",
            "source": [
                "Isolation levels là các mức cô lập dữ liệu. Mỗi transaction được chỉ định 1 isolation level để chỉ định mức độ mà nó phải được cách ly khỏi các sự sửa đổi dữ liệu được thực hiện bởi các transaction khác. \n",
                "\n",
                "Mức độ cô lập dữ liệu thấp giúp tăng khả năng xử lý đồng thời từ đó hiệu suất cũng tăng theo nhưng nó sẽ làm tăng nguy cơ xảy ra các tác động xấu đã nêu ở phần trước. Tùy từng hoàn cảnh, môi trường và yêu cầu của ứng dụng, ta chọn lựa các mức cô lập dữ liệu phù hợp nhất. \n",
                "\n",
                "SQL cung cấp các mức isolation levels sau xếp theo thứ tự tăng dần của mức độ cô lập của dữ liệu: **Read Uncommitted, Read Commited, Repeatable Read, Serializable, Snapshot**"
            ],
            "metadata": {
                "azdata_cell_guid": "10b00111-f96a-48a7-8a7a-a29b719e428f"
            },
            "attachments": {}
        },
        {
            "cell_type": "markdown",
            "source": [
                "**Read uncommitted**\n",
                "\n",
                "- Đây là mức cô lập thấp nhất. Khi transaction thực hiện ở mức này, các truy vấn vẫn có thể truy nhập vào các bản ghi đang được cập nhật bởi một transaction khác và nhận được dữ liệu tại thời điểm đó mặc dù dữ liệu đó chưa được commit (uncommited data). Điều này sẽ dẫn đến có thể xảy ra _Dirty read_"
            ],
            "metadata": {
                "azdata_cell_guid": "5e4faa87-b340-4a5d-9dca-3bda6931ddcf"
            },
            "attachments": {}
        },
        {
            "cell_type": "markdown",
            "source": [
                "**Read commited**\n",
                "\n",
                "- Đây là mức isolation <mark>mặc định</mark>, nếu bạn không đặt gì cả thì transaction sẽ hoạt động ở mức này. Transaction sẽ không đọc được dữ liệu đang được cập nhật mà phải đợi đến khi việc cập nhật thực hiện xong. Vì thế nó tránh được _dirty read_ như ở mức trên nhưng có thể xảy ra _phantom read_"
            ],
            "metadata": {
                "azdata_cell_guid": "642e2be1-6793-4fd7-8702-51eb909942dc"
            },
            "attachments": {}
        },
        {
            "cell_type": "markdown",
            "source": [
                "**Repeatable read**\n",
                "\n",
                "- Mức isolation này hoạt động như mức _read commited_ nhưng nâng thêm một nấc nữa bằng cách ngăn không cho transaction ghi vào dữ liệu đang được đọc bởi một transaction khác cho đến khi transaction khác đó hoàn tất\n",
                "- Mức isolation này đảm bảo các lệnh đọc trong cùng một transaction cho cùng kết quả, nói cách khác dữ liệu đang được đọc sẽ được bảo vệ khỏi cập nhật bởi các transaction khác. Tuy nhiên nó không bảo vệ được dữ liệu khỏi insert hoặc delete: nếu bạn thay lệnh update ở cửa sổ thứ hai bằng lệnh insert, hai lệnh select ở cửa sổ đầu sẽ cho kết quả khác nhau. Vì thế nó vẫn không tránh được hiện tượng _phantom read_"
            ],
            "metadata": {
                "azdata_cell_guid": "ae4c70c7-17fb-4970-bcf3-c648d9d4872e"
            },
            "attachments": {}
        },
        {
            "cell_type": "markdown",
            "source": [
                "**Serializable**\n",
                "\n",
                "- Đây là mức cô lập cao nhất, các transactions hoàn toàn tách biệt với nhau, SQL đặt read + write lock trên dữ liệu cho tới khi transaction kết thúc. Vì thế hiện tượng _phantom read_ sẽ không còn ở mức này."
            ],
            "metadata": {
                "azdata_cell_guid": "a26ebe3e-d832-4751-aab6-c9e8b3c77f9b"
            },
            "attachments": {}
        },
        {
            "cell_type": "markdown",
            "source": [
                "**Snapshot**\n",
                "\n",
                "- Mức độ này chỉ có thể sử dụng khi row versioning được bật.\n",
                "- Mức độ này cũng đảm bảo độ cô lập tương đương với Serializable, nhưng nó hơi khác ở phương thức hoạt động. Khi transaction đang select các bản ghi, nó không khóa các bản ghi này lại mà tạo một bản sao (snapshot) và select trên đó. Vì vậy các transaction khác insert/update lên các bản ghi đó không gây ảnh hưởng đến transaction ban đầu. Tác dụng của nó là giảm blocking giữa các transaction mà vẫn đảm bảo tính toàn vẹn dữ liệu. Tuy nhiên cái giá kèm theo là cần thêm bộ nhớ để lưu bản sao của các bản ghi, và phần bộ nhớ này là cần cho mỗi transaction do đó có thể tăng lên rất lớn"
            ],
            "metadata": {
                "azdata_cell_guid": "2eaad553-03b9-47ce-96eb-247eceab9611"
            },
            "attachments": {}
        },
        {
            "cell_type": "markdown",
            "source": [
                "### **Phạm vi các tác động do truy cập đồng thời đối với mỗi isolation level**"
            ],
            "metadata": {
                "azdata_cell_guid": "d418b733-f383-4017-9c41-46f3628b0d78"
            },
            "attachments": {}
        },
        {
            "cell_type": "markdown",
            "source": [
                "![IsolationLevel](Isolation_Levels.png)"
            ],
            "metadata": {
                "azdata_cell_guid": "c56e07fb-f30d-4c5b-92ed-e85c7b3dae8d"
            },
            "attachments": {}
        },
        {
            "cell_type": "markdown",
            "source": [
                "## **Demo**"
            ],
            "metadata": {
                "azdata_cell_guid": "12a5ff9a-5864-4e5b-979c-06731e011114"
            },
            "attachments": {}
        },
        {
            "cell_type": "code",
            "source": [
                "USE master\r\n",
                "GO\r\n",
                "\r\n",
                "CREATE DATABASE TestDB\r\n",
                "GO\r\n",
                "\r\n",
                "USE TestDB\r\n",
                "GO\r\n",
                "\r\n",
                "CREATE TABLE IsolationTests\r\n",
                "(\r\n",
                "    Id INT IDENTITY,\r\n",
                "    Col1 INT,\r\n",
                "    Col2 INT,\r\n",
                "    Col3 INT\r\n",
                ")\r\n",
                "\r\n",
                "INSERT INTO IsolationTests(Col1,Col2,Col3)\r\n",
                "SELECT 1,2,3\r\n",
                "UNION ALL SELECT 1,2,3\r\n",
                "UNION ALL SELECT 1,2,3\r\n",
                "UNION ALL SELECT 1,2,3\r\n",
                "UNION ALL SELECT 1,2,3\r\n",
                "UNION ALL SELECT 1,2,3\r\n",
                "UNION ALL SELECT 1,2,3"
            ],
            "metadata": {
                "azdata_cell_guid": "f128ffba-72d0-45bf-82c8-7fb9dd49dd8a",
                "language": "sql",
                "tags": []
            },
            "outputs": [],
            "execution_count": null
        },
        {
            "cell_type": "markdown",
            "source": [
                "Nếu bạn muốn kiểm tra mức độ cách ly mà bạn đang chạy, bạn có thể chạy \"DBCC useroptions\". Hãy nhớ rằng các mức cách ly là Kết nối / Giao dịch cụ thể nên các truy vấn khác nhau trên cùng một cơ sở dữ liệu thường được chạy dưới các mức cách ly khác nhau."
            ],
            "metadata": {
                "language": "sql",
                "azdata_cell_guid": "d72388bf-1b63-4651-81a3-3cc96a8df242"
            },
            "attachments": {}
        },
        {
            "cell_type": "code",
            "source": [
                "DBCC useroptions"
            ],
            "metadata": {
                "language": "sql",
                "azdata_cell_guid": "37d64f0e-6dbc-490f-9164-a7ea5e98f25f"
            },
            "outputs": [],
            "execution_count": null
        },
        {
            "cell_type": "markdown",
            "source": [
                "**Read Uncommitted**"
            ],
            "metadata": {
                "language": "sql",
                "azdata_cell_guid": "5e176b68-d795-4527-be05-7f2a4c567d72"
            },
            "attachments": {}
        },
        {
            "cell_type": "code",
            "source": [
                "-- Query 1\r\n",
                "BEGIN TRAN\r\n",
                "UPDATE IsolationTests SET Col1 = 2\r\n",
                "--Simulate having some intensive processing here with a wait\r\n",
                "WAITFOR DELAY '00:00:10'\r\n",
                "ROLLBACK"
            ],
            "metadata": {
                "language": "sql",
                "azdata_cell_guid": "d691a4aa-5faf-4752-8ae7-e3d592b16801"
            },
            "outputs": [],
            "execution_count": null
        },
        {
            "cell_type": "code",
            "source": [
                "SET TRANSACTION ISOLATION LEVEL READ UNCOMMITTED\r\n",
                "SELECT * FROM IsolationTests\r\n",
                "\r\n",
                "--SELECT * FROM IsolationTests WITH(NOLOCK)"
            ],
            "metadata": {
                "language": "sql",
                "azdata_cell_guid": "52b89f83-95fa-4797-bfe1-2bae85b86fd8"
            },
            "outputs": [],
            "execution_count": null
        },
        {
            "cell_type": "markdown",
            "source": [
                "**Read Committed**"
            ],
            "metadata": {
                "language": "sql",
                "azdata_cell_guid": "0b22603b-a8a5-4d20-ab4e-457c4336424c"
            },
            "attachments": {}
        },
        {
            "cell_type": "code",
            "source": [
                "-- Query 1\r\n",
                "BEGIN TRAN\r\n",
                "UPDATE IsolationTests SET Col1 = 2\r\n",
                "--Simulate having some intensive processing here with a wait\r\n",
                "WAITFOR DELAY '00:00:10'\r\n",
                "ROLLBACK"
            ],
            "metadata": {
                "language": "sql",
                "azdata_cell_guid": "54c62ffe-e1d0-4992-9d85-82397978380a"
            },
            "outputs": [],
            "execution_count": null
        },
        {
            "cell_type": "code",
            "source": [
                "-- Query 2\r\n",
                "SELECT * FROM IsolationTests"
            ],
            "metadata": {
                "language": "sql",
                "azdata_cell_guid": "896fe63c-00fd-4447-bcc6-fbe6a6da97b5"
            },
            "outputs": [],
            "execution_count": null
        },
        {
            "cell_type": "code",
            "source": [
                "-- Non-repeatable read\r\n",
                "--Query 1\r\n",
                "USE TestDB\r\n",
                "GO\r\n",
                "\r\n",
                "--Transaction isolation level is default - READ COMMITTED\r\n",
                "BEGIN TRANSACTION Transaction1\r\n",
                "\r\n",
                " SELECT *\r\n",
                " FROM [dbo].[IsolationTests]\r\n",
                " WHERE [Col1] = 1\r\n",
                " GO\r\n",
                "\r\n",
                " WAITFOR DELAY '00:00:10' \r\n",
                "\r\n",
                " SELECT *\r\n",
                " FROM [dbo].[IsolationTests]\r\n",
                " WHERE [Col1] = 1\r\n",
                "\r\n",
                "COMMIT"
            ],
            "metadata": {
                "azdata_cell_guid": "b57d9c7d-77cb-4edb-b5fc-2b8f4c0f9688",
                "language": "sql"
            },
            "outputs": [],
            "execution_count": null
        },
        {
            "cell_type": "code",
            "source": [
                "--Query 2\r\n",
                "\r\n",
                "USE TestDB\r\n",
                "GO\r\n",
                "\r\n",
                "UPDATE [dbo].[IsolationTests]\r\n",
                "SET [Col1] = 1\r\n",
                "WHERE [Id] = 8"
            ],
            "metadata": {
                "language": "sql",
                "azdata_cell_guid": "a115fc82-6a3c-4895-8c6c-d6af2540faab"
            },
            "outputs": [],
            "execution_count": null
        },
        {
            "cell_type": "markdown",
            "source": [
                "**Repeatable Read**"
            ],
            "metadata": {
                "language": "sql",
                "azdata_cell_guid": "68ec2d32-15f5-4c37-a526-45af3e93b4a6"
            },
            "attachments": {}
        },
        {
            "cell_type": "code",
            "source": [
                "-- Query 1\r\n",
                "SET TRANSACTION ISOLATION LEVEL REPEATABLE READ\r\n",
                "BEGIN TRAN\r\n",
                "SELECT * FROM IsolationTests\r\n",
                "WAITFOR DELAY '00:00:10'\r\n",
                "SELECT * FROM IsolationTests\r\n",
                "ROLLBACK"
            ],
            "metadata": {
                "language": "sql",
                "azdata_cell_guid": "36b34283-8add-44b1-9f34-e1f6ff30de86"
            },
            "outputs": [],
            "execution_count": null
        },
        {
            "cell_type": "code",
            "source": [
                "-- Query 2\r\n",
                "UPDATE IsolationTests SET Col1 = -1"
            ],
            "metadata": {
                "language": "sql",
                "azdata_cell_guid": "27ce5406-ba22-488e-9714-a59d2bd1f1d7"
            },
            "outputs": [],
            "execution_count": null
        },
        {
            "cell_type": "markdown",
            "source": [
                "**Serializable**"
            ],
            "metadata": {
                "language": "sql",
                "azdata_cell_guid": "1dd348db-1566-4030-be84-88143627a4ef"
            },
            "attachments": {}
        },
        {
            "cell_type": "code",
            "source": [
                "-- Query 1\r\n",
                "SET TRANSACTION ISOLATION LEVEL SERIALIZABLE\r\n",
                "BEGIN TRAN\r\n",
                "SELECT * FROM IsolationTests\r\n",
                "WAITFOR DELAY '00:00:10'\r\n",
                "SELECT * FROM IsolationTests\r\n",
                "ROLLBACK"
            ],
            "metadata": {
                "language": "sql",
                "azdata_cell_guid": "d206b9bf-3828-482a-9a14-7d01211ccaec"
            },
            "outputs": [],
            "execution_count": null
        },
        {
            "cell_type": "code",
            "source": [
                "-- Query 2\r\n",
                "INSERT INTO IsolationTests(Col1,Col2,Col3)\r\n",
                "VALUES (100,100,100)"
            ],
            "metadata": {
                "language": "sql",
                "azdata_cell_guid": "90623b41-2c4d-4ce6-ad71-ef442a6abd1e"
            },
            "outputs": [],
            "execution_count": null
        }
    ]
}