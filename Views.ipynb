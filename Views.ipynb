{
    "metadata": {
        "kernelspec": {
            "name": "SQL",
            "display_name": "SQL",
            "language": "sql"
        },
        "language_info": {
            "name": "sql",
            "version": ""
        }
    },
    "nbformat_minor": 2,
    "nbformat": 4,
    "cells": [
        {
            "cell_type": "markdown",
            "source": [
                "# **<mark>Views</mark>**"
            ],
            "metadata": {
                "azdata_cell_guid": "94a8e62b-6a97-4fe0-b9eb-4882fea7a870"
            },
            "attachments": {}
        },
        {
            "cell_type": "code",
            "source": [
                "SELECT\r\n",
                "    product_name, \r\n",
                "    brand_name, \r\n",
                "    list_price\r\n",
                "FROM\r\n",
                "    production.products p\r\n",
                "INNER JOIN production.brands b \r\n",
                "        ON b.brand_id = p.brand_id"
            ],
            "metadata": {
                "azdata_cell_guid": "508c4d0e-c1c6-46bd-ae85-c06295e4dfae",
                "language": "sql"
            },
            "outputs": [],
            "execution_count": null
        },
        {
            "cell_type": "markdown",
            "source": [
                "<span style=\"font-size: 14px;\">SQL Server cung cấp một cách tốt hơn để lưu truy vấn này trong danh mục cơ sở dữ liệu thông qua một dạng xem.</span>\n",
                "\n",
                "<span style=\"font-size: 14px;\">Dạng xem (Views) là một truy vấn được đặt tên được lưu trữ trong danh mục cơ sở dữ liệu cho phép bạn tham khảo nó sau này.</span>\n",
                "\n",
                "<span style=\"font-size: 14px;\">Vì vậy, truy vấn ở trên có thể được lưu trữ dưới dạng một dạng xem bằng cách sử dụng câu lệnh CREATE VIEW như sau:</span>"
            ],
            "metadata": {
                "language": "sql",
                "azdata_cell_guid": "1e3908b8-31e9-4123-9dfb-4fb00fb4bd9c"
            },
            "attachments": {}
        },
        {
            "cell_type": "code",
            "source": [
                "CREATE VIEW sales.vw_product_info\r\n",
                "AS\r\n",
                "SELECT\r\n",
                "    product_name, \r\n",
                "    brand_name, \r\n",
                "    list_price\r\n",
                "FROM\r\n",
                "    production.products p\r\n",
                "INNER JOIN production.brands b \r\n",
                "        ON b.brand_id = p.brand_id"
            ],
            "metadata": {
                "language": "sql",
                "azdata_cell_guid": "e983020f-3cff-4976-a0a1-03ff6ca50e97"
            },
            "outputs": [],
            "execution_count": null
        },
        {
            "cell_type": "code",
            "source": [
                "SELECT * FROM sales.vw_product_info"
            ],
            "metadata": {
                "language": "sql",
                "azdata_cell_guid": "4086355d-d0e2-42f2-bfdb-64f97404630c"
            },
            "outputs": [],
            "execution_count": null
        },
        {
            "cell_type": "markdown",
            "source": [
                "<span style=\"font-size: 14px;\">Khi nhận được truy vấn này, SQL Server thực hiện truy vấn sau:</span>"
            ],
            "metadata": {
                "language": "sql",
                "azdata_cell_guid": "c98c6ce7-6e02-4bf0-a9a4-380c55e7e1ea"
            },
            "attachments": {}
        },
        {
            "cell_type": "code",
            "source": [
                "SELECT \r\n",
                "    *\r\n",
                "FROM (\r\n",
                "    SELECT\r\n",
                "        product_name, \r\n",
                "        brand_name, \r\n",
                "        list_price\r\n",
                "    FROM\r\n",
                "        production.products p\r\n",
                "    INNER JOIN production.brands b \r\n",
                "        ON b.brand_id = p.brand_id\r\n",
                ") a"
            ],
            "metadata": {
                "language": "sql",
                "azdata_cell_guid": "a043f5dd-b9d3-461b-b2b9-b7da2a840d58"
            },
            "outputs": [],
            "execution_count": null
        },
        {
            "cell_type": "markdown",
            "source": [
                "<span style=\"font-size: 14px;\">Theo định nghĩa, các view không lưu trữ dữ liệu ngoại trừ indexed views.</span>\n",
                "\n",
                "<span style=\"font-size: 14px;\">Một dạng xem có thể bao gồm các cột từ nhiều bảng sử dụng các phép nối hoặc chỉ một tập hợp con các cột của một bảng duy nhất. Điều này làm cho các khung nhìn hữu ích cho việc trừu tượng hóa hoặc ẩn các truy vấn phức tạp.</span>\n",
                "\n",
                "<span style=\"font-size: 14px;\">Hình ảnh sau đây minh họa dạng xem bao gồm các cột từ nhiều bảng:</span>\n",
                "\n",
                "![Views](SQL-Server-Views.png)"
            ],
            "metadata": {
                "language": "sql",
                "azdata_cell_guid": "2d363050-9a84-4519-a218-eda28756d217"
            },
            "attachments": {}
        },
        {
            "cell_type": "markdown",
            "source": [
                "<span style=\"font-size: 14px;\"><b>Ưu điểm của views</b></span>"
            ],
            "metadata": {
                "language": "sql",
                "azdata_cell_guid": "a0a9d1b9-0f15-4adb-b718-da4bfa6b07da"
            },
            "attachments": {}
        },
        {
            "cell_type": "markdown",
            "source": [
                "<span style=\"font-size: 14px;\"><b>Bảo mật</b></span>\n",
                "\n",
                "- <span style=\"font-size: 14px;\">Bạn có thể hạn chế người dùng truy cập trực tiếp vào bảng và cho phép họ truy cập vào một tập hợp con dữ liệu thông qua các dạng xem.</span>\n",
                "    \n",
                "- <span style=\"font-size: 14px;\">Ví dụ: bạn có thể cho phép người dùng truy cập tên, điện thoại, email của khách hàng qua một chế độ xem nhưng hạn chế họ truy cập vào tài khoản ngân hàng và các thông tin nhạy cảm khác.</span>\n",
                "    \n",
                "\n",
                "<span style=\"font-size: 14px;\"><b>Sự đơn giản</b></span>\n",
                "\n",
                "- <span style=\"font-size: 14px;\">Cơ sở dữ liệu quan hệ có thể có nhiều bảng với các mối quan hệ phức tạp, ví dụ: một-một và một-nhiều gây khó khăn cho việc điều hướng.</span>\n",
                "\n",
                "- <span style=\"font-size: 14px;\">Tuy nhiên, bạn có thể đơn giản hóa các truy vấn phức tạp với các phép nối và điều kiện bằng cách sử dụng một tập hợp các dạng xem.</span>\n",
                "\n",
                "<span style=\"font-size: 14px;\"><b>Tính nhất quán</b></span>\n",
                "\n",
                "- <span style=\"font-size: 14px;\">Đôi khi, bạn cần viết một công thức hoặc logic phức tạp trong mọi truy vấn.</span>\n",
                "- <span style=\"font-size: 14px;\">Để làm cho nó nhất quán, bạn có thể ẩn các tính toán và logic truy vấn phức tạp trong các dạng xem.</span>\n",
                "- <span style=\"font-size: 14px;\">Sau khi các dạng xem được xác định, bạn có thể tham chiếu logic từ các dạng xem thay vì viết lại nó trong các truy vấn riêng biệt.</span>"
            ],
            "metadata": {
                "language": "sql",
                "azdata_cell_guid": "d13a408b-7b76-487a-b274-8262abc38aeb"
            },
            "attachments": {}
        },
        {
            "cell_type": "markdown",
            "source": [
                "## **<mark>CREATE VIEW</mark>**"
            ],
            "metadata": {
                "language": "sql",
                "azdata_cell_guid": "74357d20-5f7b-46bc-9279-b40583b5840e"
            },
            "attachments": {}
        },
        {
            "cell_type": "markdown",
            "source": [
                "<span style=\"font-size: 14px;\">Để tạo một dạng xem mới trong SQL Server, bạn sử dụng câu lệnh CREATE VIEW như được hiển thị bên dưới:</span>\n",
                "```\n",
                "CREATE VIEW [OR ALTER] schema_name.view_name [(column_list)]\n",
                "AS\n",
                "    select_statement;\n",
                "\n",
                "```\n",
                "\n",
                "<span style=\"font-size: 14px;\">Trong cú pháp này:</span>\n",
                "\n",
                "- <span style=\"font-size: 14px;\">Đầu tiên, chỉ định tên của chế độ xem sau các từ khóa CREATE VIEW. Schema_name là tên của lược đồ mà chế độ xem thuộc về.</span>\n",
                "- <span style=\"font-size: 14px;\">Thứ hai, chỉ định một câu lệnh SELECT (select_statement) xác định chế độ xem sau từ khóa AS. Câu lệnh SELECT có thể tham chiếu đến một hoặc nhiều bảng.</span>\n",
                "\n",
                "<span style=\"font-size: 14px;\">Nếu bạn không chỉ định rõ ràng danh sách các cột cho dạng xem, SQL Server sẽ sử dụng danh sách cột bắt nguồn từ câu lệnh SELECT.</span>\n",
                "\n",
                "<span style=\"font-size: 14px;\">Trong trường hợp bạn muốn xác định lại chế độ xem, ví dụ: thêm nhiều cột vào chế độ xem hoặc xóa một số cột khỏi chế độ xem, bạn có thể sử dụng từ khóa OR ALTER sau từ khóa CREATE VIEW.</span>"
            ],
            "metadata": {
                "language": "sql",
                "azdata_cell_guid": "57f5723b-e06e-458a-bf01-5253839db633"
            },
            "attachments": {}
        },
        {
            "cell_type": "code",
            "source": [
                "CREATE VIEW sales.daily_sales\r\n",
                "AS\r\n",
                "SELECT\r\n",
                "    year(order_date) AS y,\r\n",
                "    month(order_date) AS m,\r\n",
                "    day(order_date) AS d,\r\n",
                "    p.product_id,\r\n",
                "    product_name,\r\n",
                "    quantity * i.list_price AS sales\r\n",
                "FROM\r\n",
                "    sales.orders AS o\r\n",
                "INNER JOIN sales.order_items AS i\r\n",
                "    ON o.order_id = i.order_id\r\n",
                "INNER JOIN production.products AS p\r\n",
                "    ON p.product_id = i.product_id"
            ],
            "metadata": {
                "language": "sql",
                "azdata_cell_guid": "da48373b-95ea-41b5-a91e-ae4df9216601"
            },
            "outputs": [],
            "execution_count": null
        },
        {
            "cell_type": "code",
            "source": [
                "SELECT \r\n",
                "    * \r\n",
                "FROM \r\n",
                "    sales.daily_sales\r\n",
                "ORDER BY\r\n",
                "    y, m, d, product_name"
            ],
            "metadata": {
                "language": "sql",
                "azdata_cell_guid": "1ebe4560-6d2f-483e-a377-336091785383"
            },
            "outputs": [],
            "execution_count": null
        },
        {
            "cell_type": "code",
            "source": [
                "CREATE OR ALTER VIEW sales.daily_sales (\r\n",
                "    year,\r\n",
                "    month,\r\n",
                "    day,\r\n",
                "    customer_name,\r\n",
                "    product_id,\r\n",
                "    product_name,\r\n",
                "    sales\r\n",
                ")\r\n",
                "AS\r\n",
                "SELECT\r\n",
                "    year(order_date),\r\n",
                "    month(order_date),\r\n",
                "    day(order_date),\r\n",
                "    concat(\r\n",
                "        first_name,\r\n",
                "        ' ',\r\n",
                "        last_name\r\n",
                "    ),\r\n",
                "    p.product_id,\r\n",
                "    product_name,\r\n",
                "    quantity * i.list_price\r\n",
                "FROM\r\n",
                "    sales.orders AS o\r\n",
                "    INNER JOIN\r\n",
                "        sales.order_items AS i\r\n",
                "    ON o.order_id = i.order_id\r\n",
                "    INNER JOIN\r\n",
                "        production.products AS p\r\n",
                "    ON p.product_id = i.product_id\r\n",
                "    INNER JOIN sales.customers AS c\r\n",
                "    ON c.customer_id = o.customer_id;\r\n",
                ""
            ],
            "metadata": {
                "language": "sql",
                "azdata_cell_guid": "43dd9894-5f40-456e-bd6a-4458fd2b0dd2"
            },
            "outputs": [],
            "execution_count": null
        },
        {
            "cell_type": "code",
            "source": [
                "SELECT \r\n",
                "    * \r\n",
                "FROM \r\n",
                "    sales.daily_sales\r\n",
                ""
            ],
            "metadata": {
                "language": "sql",
                "azdata_cell_guid": "d736491f-c7ce-4597-be7f-bee6cf6a3794"
            },
            "outputs": [],
            "execution_count": null
        },
        {
            "cell_type": "code",
            "source": [
                "CREATE VIEW sales.staff_sales (\r\n",
                "        first_name, \r\n",
                "        last_name,\r\n",
                "        year, \r\n",
                "        amount\r\n",
                ")\r\n",
                "AS \r\n",
                "    SELECT \r\n",
                "        first_name,\r\n",
                "        last_name,\r\n",
                "        YEAR(order_date),\r\n",
                "        SUM(list_price * quantity) amount\r\n",
                "    FROM\r\n",
                "        sales.order_items i\r\n",
                "    INNER JOIN sales.orders o\r\n",
                "        ON i.order_id = o.order_id\r\n",
                "    INNER JOIN sales.staffs s\r\n",
                "        ON s.staff_id = o.staff_id\r\n",
                "    GROUP BY \r\n",
                "        first_name, \r\n",
                "        last_name, \r\n",
                "        YEAR(order_date)"
            ],
            "metadata": {
                "language": "sql",
                "azdata_cell_guid": "b549de7e-5760-4c6f-8f55-e2ce0f3b38f6"
            },
            "outputs": [],
            "execution_count": null
        },
        {
            "cell_type": "code",
            "source": [
                "SELECT  \r\n",
                "    * \r\n",
                "FROM \r\n",
                "    sales.staff_sales\r\n",
                "ORDER BY \r\n",
                "\tfirst_name,\r\n",
                "\tlast_name,\r\n",
                "\tyear"
            ],
            "metadata": {
                "language": "sql",
                "azdata_cell_guid": "dfd97cc1-d2a9-4abf-af7d-dd422c7eab1d"
            },
            "outputs": [],
            "execution_count": null
        },
        {
            "cell_type": "markdown",
            "source": [
                "## **<mark>List Views</mark>**"
            ],
            "metadata": {
                "language": "sql",
                "azdata_cell_guid": "f3114613-f812-465c-b51c-434d9197144d"
            },
            "attachments": {}
        },
        {
            "cell_type": "code",
            "source": [
                "SELECT \r\n",
                "\tOBJECT_SCHEMA_NAME(v.object_id) schema_name,\r\n",
                "\tv.name\r\n",
                "FROM \r\n",
                "\tsys.views as v"
            ],
            "metadata": {
                "language": "sql",
                "azdata_cell_guid": "7ac11dd6-53db-4433-87be-be320e08d76e"
            },
            "outputs": [],
            "execution_count": null
        },
        {
            "cell_type": "markdown",
            "source": [
                "## **<mark>DROP VIEW</mark>**"
            ],
            "metadata": {
                "language": "sql",
                "azdata_cell_guid": "894f0716-7548-495f-b56c-a5831be12944"
            },
            "attachments": {}
        },
        {
            "cell_type": "markdown",
            "source": [
                "<span style=\"font-size: 14px;\">Để xóa một dạng xem khỏi cơ sở dữ liệu, bạn sử dụng câu lệnh DROP VIEW như sau:</span>\n",
                "```\n",
                "DROP VIEW [IF EXISTS] schema_name.view_name\n",
                "\n",
                "```\n",
                "\n",
                "<span style=\"font-size: 14px;\">Trong cú pháp này, bạn chỉ định tên của chế độ xem mà bạn muốn thả sau các từ khóa DROP VIEW. Nếu chế độ xem thuộc về một lược đồ, bạn cũng phải chỉ định rõ ràng tên của lược đồ mà chế độ xem thuộc về.</span>\n",
                "\n",
                "<span style=\"font-size: 14px;\">Nếu bạn cố gắng loại bỏ một dạng xem không tồn tại, SQL Server sẽ xuất hiện lỗi. Mệnh đề IF EXISTS ngăn lỗi xảy ra khi bạn xóa một dạng xem không tồn tại.</span>\n",
                "\n",
                "<span style=\"font-size: 14px;\">Để loại bỏ nhiều chế độ xem, bạn sử dụng cú pháp sau:</span>\n",
                "\n",
                "```\n",
                "DROP VIEW [IF EXISTS] \n",
                "    schema_name.view_name1, \n",
                "    schema_name.view_name2,\n",
                "    ...\n",
                "```"
            ],
            "metadata": {
                "language": "sql",
                "azdata_cell_guid": "77db6f9c-39d3-4874-b13f-0c94679b3293"
            },
            "attachments": {}
        },
        {
            "cell_type": "code",
            "source": [
                "DROP VIEW IF EXISTS sales.daily_sales"
            ],
            "metadata": {
                "language": "sql",
                "azdata_cell_guid": "51717749-1ebc-430d-be28-5677388f9cfd"
            },
            "outputs": [],
            "execution_count": null
        },
        {
            "cell_type": "code",
            "source": [
                "CREATE VIEW sales.product_catalog\r\n",
                "AS\r\n",
                "SELECT \r\n",
                "    product_name, \r\n",
                "    category_name, \r\n",
                "\tbrand_name,\r\n",
                "    list_price\r\n",
                "FROM \r\n",
                "    production.products p\r\n",
                "INNER JOIN production.categories c \r\n",
                "    ON c.category_id = p.category_id\r\n",
                "INNER JOIN production.brands b\r\n",
                "\tON b.brand_id = p.brand_id"
            ],
            "metadata": {
                "language": "sql",
                "azdata_cell_guid": "29445d6a-8828-4a6f-847b-e32320087896"
            },
            "outputs": [],
            "execution_count": null
        },
        {
            "cell_type": "code",
            "source": [
                "DROP VIEW IF EXISTS \r\n",
                "    sales.staff_sales, \r\n",
                "    sales.product_catalogs"
            ],
            "metadata": {
                "language": "sql",
                "azdata_cell_guid": "fc25633d-4ce2-4584-9d51-7f1af34adec2"
            },
            "outputs": [],
            "execution_count": null
        }
    ]
}