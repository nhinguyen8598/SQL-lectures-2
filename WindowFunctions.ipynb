{
    "metadata": {
        "kernelspec": {
            "name": "SQL",
            "display_name": "SQL",
            "language": "sql"
        },
        "language_info": {
            "name": "sql",
            "version": ""
        }
    },
    "nbformat_minor": 2,
    "nbformat": 4,
    "cells": [
        {
            "cell_type": "markdown",
            "source": [
                "# **<mark>Window Functions</mark>**"
            ],
            "metadata": {
                "azdata_cell_guid": "0b5b71fd-cdf8-44f1-9cc8-e8208d35577d"
            },
            "attachments": {}
        },
        {
            "cell_type": "markdown",
            "source": [
                "![WindowFunctions-1](Window_Functions_Cheat_Sheet_page_1.png)"
            ],
            "metadata": {
                "azdata_cell_guid": "c31a2856-ed52-43a2-87bd-5f95569506c6"
            },
            "attachments": {}
        },
        {
            "cell_type": "markdown",
            "source": [
                "![WindowFunctions-2](Window_Functions_Cheat_Sheet_page_2.png)"
            ],
            "metadata": {
                "azdata_cell_guid": "029284df-7f84-4ee2-b1c4-d50785031a7d"
            },
            "attachments": {}
        }
    ]
}