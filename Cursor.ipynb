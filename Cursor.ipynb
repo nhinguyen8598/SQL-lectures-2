{
    "metadata": {
        "kernelspec": {
            "name": "SQL",
            "display_name": "SQL",
            "language": "sql"
        },
        "language_info": {
            "name": "sql",
            "version": ""
        }
    },
    "nbformat_minor": 2,
    "nbformat": 4,
    "cells": [
        {
            "cell_type": "markdown",
            "source": [
                "# **<mark>CURSOR</mark>**"
            ],
            "metadata": {
                "azdata_cell_guid": "e116896f-0929-444f-ad4f-78263a63dcad"
            },
            "attachments": {}
        },
        {
            "cell_type": "markdown",
            "source": [
                "SQL hoạt động dựa trên tập hợp, ví dụ: câu lệnh SELECT trả về một tập hợp các hàng được gọi là tập kết quả. Tuy nhiên, đôi khi, bạn có thể muốn xử lý tập dữ liệu trên cơ sở từng hàng. Đây là lúc con trỏ (cursor) phát huy tác dụng.\n",
                "\n",
                "Con trỏ cơ sở dữ liệu là một đối tượng cho phép duyệt qua các hàng của tập kết quả. Nó cho phép bạn xử lý từng hàng được trả về bởi một truy vấn.\n",
                "\n",
                "**<mark>GIỐNG WHILE NHƯNG KHÁC WHILE CẦN KHAI BÁO VÀ CẦN CÓ DKIEN DỪNG</mark>**"
            ],
            "metadata": {
                "azdata_cell_guid": "34c17587-f8b8-48c9-ad6e-e4308c2959b4"
            },
            "attachments": {}
        },
        {
            "cell_type": "markdown",
            "source": [
                "### **<mark>Vòng đời con trỏ SQL Server</mark>**"
            ],
            "metadata": {
                "azdata_cell_guid": "d7ccfc6d-79b3-421a-9b23-d8a4ab80116e"
            },
            "attachments": {}
        },
        {
            "cell_type": "markdown",
            "source": [
                "![alt text](SQL-Server-Cursor.png)"
            ],
            "metadata": {
                "azdata_cell_guid": "276b6c2b-a9ef-484b-9969-ef736c2cece9"
            },
            "attachments": {}
        },
        {
            "cell_type": "markdown",
            "source": [
                "DEALLOCATE cursor\\_name; \n",
                "\n",
                "```\n",
                "Đầu tiên, khai báo một con trỏ.\n",
                "\n",
                "```\n",
                "```\n",
                "DECLARE cursor_name CURSOR\n",
                "    FOR select_statement;\n",
                "\n",
                "```\n",
                "\n",
                "Để khai báo một con trỏ, bạn chỉ định tên của nó sau từ khóa DECLARE với kiểu dữ liệu CURSOR và cung cấp câu lệnh SELECT xác định tập hợp kết quả cho con trỏ.\n",
                "\n",
                "Tiếp theo, mở và điền con trỏ bằng cách thực hiện câu lệnh SELECT:\n",
                "\n",
                "```\n",
                "OPEN cursor_name;\n",
                "\n",
                "```\n",
                "\n",
                "Sau đó, tìm nạp một hàng từ con trỏ vào một hoặc nhiều biến:\n",
                "\n",
                "```\n",
                "FETCH NEXT FROM cursor INTO variable_list;\n",
                "\n",
                "```\n",
                "\n",
                "SQL Server cung cấp hàm @@ FETCHSTATUS trả về trạng thái của câu lệnh FETCH con trỏ cuối cùng được thực thi đối với con trỏ; Nếu @@ FETCHSTATUS trả về 0, nghĩa là câu lệnh FETCH đã thành công. Bạn có thể sử dụng câu lệnh WHILE để tìm nạp tất cả các hàng từ con trỏ như được hiển thị trong đoạn mã sau:\n",
                "\n",
                "```\n",
                "WHILE @@FETCH_STATUS = 0  \n",
                "    BEGIN\n",
                "        FETCH NEXT FROM cursor_name;  \n",
                "    END;\n",
                "\n",
                "```\n",
                "\n",
                "@@FETCHSTATUS: [FETCH\\_STATUS (Transact-SQL) - SQL Server | Microsoft Docs](https://docs.microsoft.com/en-us/sql/t-sql/functions/fetch-status-transact-sql?view=sql-server-ver16)\n",
                "\n",
                "Sau đó, đóng con trỏ:\n",
                "\n",
                "```\n",
                "CLOSE cursor_name;\n",
                "\n",
                "```\n",
                "\n",
                "Cuối cùng, định vị con trỏ:\n",
                "\n",
                "```\n",
                "DEALLOCATE cursor_name;\n",
                "\n",
                "```"
            ],
            "metadata": {
                "azdata_cell_guid": "a1c19650-700e-45d6-9068-b85a86dd9d16"
            },
            "attachments": {}
        },
        {
            "cell_type": "code",
            "source": [
                "DECLARE \r\n",
                "    @product_name VARCHAR(MAX), \r\n",
                "    @list_price   DECIMAL;\r\n",
                "\r\n",
                "DECLARE cursor_product CURSOR\r\n",
                "FOR SELECT \r\n",
                "        product_name, \r\n",
                "        list_price\r\n",
                "    FROM \r\n",
                "        production.products;\r\n",
                "\r\n",
                "OPEN cursor_product;\r\n",
                "\r\n",
                "FETCH NEXT FROM cursor_product INTO \r\n",
                "    @product_name, \r\n",
                "    @list_price;\r\n",
                "\r\n",
                "WHILE @@FETCH_STATUS = 0\r\n",
                "    BEGIN\r\n",
                "        PRINT @product_name + CAST(@list_price AS varchar);\r\n",
                "        FETCH NEXT FROM cursor_product INTO \r\n",
                "            @product_name, \r\n",
                "            @list_price;\r\n",
                "    END;\r\n",
                "\r\n",
                "CLOSE cursor_product;\r\n",
                "\r\n",
                "DEALLOCATE cursor_product;"
            ],
            "metadata": {
                "azdata_cell_guid": "f9d86973-4c84-4f0d-a804-ec414d40008b",
                "language": "sql"
            },
            "outputs": [
                {
                    "output_type": "display_data",
                    "data": {
                        "text/html": "Trek 820 - 2016380"
                    },
                    "metadata": {}
                },
                {
                    "output_type": "display_data",
                    "data": {
                        "text/html": "Ritchey Timberwolf Frameset - 2016750"
                    },
                    "metadata": {}
                },
                {
                    "output_type": "display_data",
                    "data": {
                        "text/html": "Surly Wednesday Frameset - 20161000"
                    },
                    "metadata": {}
                },
                {
                    "output_type": "display_data",
                    "data": {
                        "text/html": "Trek Fuel EX 8 29 - 20162900"
                    },
                    "metadata": {}
                },
                {
                    "output_type": "display_data",
                    "data": {
                        "text/html": "Heller Shagamaw Frame - 20161321"
                    },
                    "metadata": {}
                },
                {
                    "output_type": "display_data",
                    "data": {
                        "text/html": "Surly Ice Cream Truck Frameset - 2016470"
                    },
                    "metadata": {}
                },
                {
                    "output_type": "display_data",
                    "data": {
                        "text/html": "Trek Slash 8 27.5 - 20164000"
                    },
                    "metadata": {}
                },
                {
                    "output_type": "display_data",
                    "data": {
                        "text/html": "Trek Remedy 29 Carbon Frameset - 20161800"
                    },
                    "metadata": {}
                },
                {
                    "output_type": "display_data",
                    "data": {
                        "text/html": "Trek Conduit+ - 20163000"
                    },
                    "metadata": {}
                },
                {
                    "output_type": "display_data",
                    "data": {
                        "text/html": "Surly Straggler - 20161549"
                    },
                    "metadata": {}
                },
                {
                    "output_type": "display_data",
                    "data": {
                        "text/html": "Surly Straggler 650b - 20161681"
                    },
                    "metadata": {}
                },
                {
                    "output_type": "display_data",
                    "data": {
                        "text/html": "Electra Townie Original 21D - 2016550"
                    },
                    "metadata": {}
                },
                {
                    "output_type": "display_data",
                    "data": {
                        "text/html": "Electra Cruiser 1 (24-Inch) - 2016270"
                    },
                    "metadata": {}
                },
                {
                    "output_type": "display_data",
                    "data": {
                        "text/html": "Electra Girl's Hawaii 1 (16-inch) - 2015/2016270"
                    },
                    "metadata": {}
                },
                {
                    "output_type": "display_data",
                    "data": {
                        "text/html": "Electra Moto 1 - 2016530"
                    },
                    "metadata": {}
                },
                {
                    "output_type": "display_data",
                    "data": {
                        "text/html": "Electra Townie Original 7D EQ - 2016600"
                    },
                    "metadata": {}
                },
                {
                    "output_type": "display_data",
                    "data": {
                        "text/html": "Pure Cycles Vine 8-Speed - 2016429"
                    },
                    "metadata": {}
                },
                {
                    "output_type": "display_data",
                    "data": {
                        "text/html": "Pure Cycles Western 3-Speed - Women's - 2015/2016449"
                    },
                    "metadata": {}
                },
                {
                    "output_type": "display_data",
                    "data": {
                        "text/html": "Pure Cycles William 3-Speed - 2016449"
                    },
                    "metadata": {}
                },
                {
                    "output_type": "display_data",
                    "data": {
                        "text/html": "Electra Townie Original 7D EQ - Women's - 2016600"
                    },
                    "metadata": {}
                },
                {
                    "output_type": "display_data",
                    "data": {
                        "text/html": "Electra Cruiser 1 (24-Inch) - 2016270"
                    },
                    "metadata": {}
                },
                {
                    "output_type": "display_data",
                    "data": {
                        "text/html": "Electra Girl's Hawaii 1 (16-inch) - 2015/2016270"
                    },
                    "metadata": {}
                },
                {
                    "output_type": "display_data",
                    "data": {
                        "text/html": "Electra Girl's Hawaii 1 (20-inch) - 2015/2016300"
                    },
                    "metadata": {}
                },
                {
                    "output_type": "display_data",
                    "data": {
                        "text/html": "Electra Townie Original 21D - 2016550"
                    },
                    "metadata": {}
                },
                {
                    "output_type": "display_data",
                    "data": {
                        "text/html": "Electra Townie Original 7D - 2015/2016500"
                    },
                    "metadata": {}
                },
                {
                    "output_type": "display_data",
                    "data": {
                        "text/html": "Electra Townie Original 7D EQ - 2016600"
                    },
                    "metadata": {}
                },
                {
                    "output_type": "display_data",
                    "data": {
                        "text/html": "Surly Big Dummy Frameset - 20171000"
                    },
                    "metadata": {}
                },
                {
                    "output_type": "display_data",
                    "data": {
                        "text/html": "Surly Karate Monkey 27.5+ Frameset - 20172500"
                    },
                    "metadata": {}
                },
                {
                    "output_type": "display_data",
                    "data": {
                        "text/html": "Trek X-Caliber 8 - 20171000"
                    },
                    "metadata": {}
                },
                {
                    "output_type": "display_data",
                    "data": {
                        "text/html": "Surly Ice Cream Truck Frameset - 20171000"
                    },
                    "metadata": {}
                },
                {
                    "output_type": "display_data",
                    "data": {
                        "text/html": "Surly Wednesday - 20171633"
                    },
                    "metadata": {}
                },
                {
                    "output_type": "display_data",
                    "data": {
                        "text/html": "Trek Farley Alloy Frameset - 2017470"
                    },
                    "metadata": {}
                },
                {
                    "output_type": "display_data",
                    "data": {
                        "text/html": "Surly Wednesday Frameset - 2017470"
                    },
                    "metadata": {}
                },
                {
                    "output_type": "display_data",
                    "data": {
                        "text/html": "Trek Session DH 27.5 Carbon Frameset - 2017470"
                    },
                    "metadata": {}
                },
                {
                    "output_type": "display_data",
                    "data": {
                        "text/html": "Sun Bicycles Spider 3i - 2017833"
                    },
                    "metadata": {}
                },
                {
                    "output_type": "display_data",
                    "data": {
                        "text/html": "Surly Troll Frameset - 2017833"
                    },
                    "metadata": {}
                },
                {
                    "output_type": "display_data",
                    "data": {
                        "text/html": "Haro Flightline One ST - 2017380"
                    },
                    "metadata": {}
                },
                {
                    "output_type": "display_data",
                    "data": {
                        "text/html": "Haro Flightline Two 26 Plus - 2017550"
                    },
                    "metadata": {}
                },
                {
                    "output_type": "display_data",
                    "data": {
                        "text/html": "Trek Stache 5 - 20171500"
                    },
                    "metadata": {}
                },
                {
                    "output_type": "display_data",
                    "data": {
                        "text/html": "Trek Fuel EX 9.8 29 - 20175000"
                    },
                    "metadata": {}
                },
                {
                    "output_type": "display_data",
                    "data": {
                        "text/html": "Haro Shift R3 - 20171470"
                    },
                    "metadata": {}
                },
                {
                    "output_type": "display_data",
                    "data": {
                        "text/html": "Trek Fuel EX 5 27.5 Plus - 20172300"
                    },
                    "metadata": {}
                },
                {
                    "output_type": "display_data",
                    "data": {
                        "text/html": "Trek Fuel EX 9.8 27.5 Plus - 20175300"
                    },
                    "metadata": {}
                },
                {
                    "output_type": "display_data",
                    "data": {
                        "text/html": "Haro SR 1.1 - 2017540"
                    },
                    "metadata": {}
                },
                {
                    "output_type": "display_data",
                    "data": {
                        "text/html": "Haro SR 1.2 - 2017870"
                    },
                    "metadata": {}
                },
                {
                    "output_type": "display_data",
                    "data": {
                        "text/html": "Haro SR 1.3 - 20171410"
                    },
                    "metadata": {}
                },
                {
                    "output_type": "display_data",
                    "data": {
                        "text/html": "Trek Remedy 9.8 - 20175300"
                    },
                    "metadata": {}
                },
                {
                    "output_type": "display_data",
                    "data": {
                        "text/html": "Trek Emonda S 4 - 20171500"
                    },
                    "metadata": {}
                },
                {
                    "output_type": "display_data",
                    "data": {
                        "text/html": "Trek Domane SL 6 - 20173500"
                    },
                    "metadata": {}
                },
                {
                    "output_type": "display_data",
                    "data": {
                        "text/html": "Trek Silque SLR 7 Women's - 20176000"
                    },
                    "metadata": {}
                },
                {
                    "output_type": "display_data",
                    "data": {
                        "text/html": "Trek Silque SLR 8 Women's - 20176500"
                    },
                    "metadata": {}
                },
                {
                    "output_type": "display_data",
                    "data": {
                        "text/html": "Surly Steamroller - 2017876"
                    },
                    "metadata": {}
                },
                {
                    "output_type": "display_data",
                    "data": {
                        "text/html": "Surly Ogre Frameset - 2017750"
                    },
                    "metadata": {}
                },
                {
                    "output_type": "display_data",
                    "data": {
                        "text/html": "Trek Domane SL Disc Frameset - 20173200"
                    },
                    "metadata": {}
                },
                {
                    "output_type": "display_data",
                    "data": {
                        "text/html": "Trek Domane S 6 - 20172700"
                    },
                    "metadata": {}
                },
                {
                    "output_type": "display_data",
                    "data": {
                        "text/html": "Trek Domane SLR 6 Disc - 20175500"
                    },
                    "metadata": {}
                },
                {
                    "output_type": "display_data",
                    "data": {
                        "text/html": "Trek Emonda S 5 - 20172000"
                    },
                    "metadata": {}
                },
                {
                    "output_type": "display_data",
                    "data": {
                        "text/html": "Trek Madone 9.2 - 20175000"
                    },
                    "metadata": {}
                },
                {
                    "output_type": "display_data",
                    "data": {
                        "text/html": "Trek Domane S 5 Disc - 20172600"
                    },
                    "metadata": {}
                },
                {
                    "output_type": "display_data",
                    "data": {
                        "text/html": "Sun Bicycles ElectroLite - 20171560"
                    },
                    "metadata": {}
                },
                {
                    "output_type": "display_data",
                    "data": {
                        "text/html": "Trek Powerfly 8 FS Plus - 20175000"
                    },
                    "metadata": {}
                },
                {
                    "output_type": "display_data",
                    "data": {
                        "text/html": "Trek Boone 7 - 20173500"
                    },
                    "metadata": {}
                },
                {
                    "output_type": "display_data",
                    "data": {
                        "text/html": "Trek Boone Race Shop Limited - 20173500"
                    },
                    "metadata": {}
                },
                {
                    "output_type": "display_data",
                    "data": {
                        "text/html": "Electra Townie Original 7D - 2017490"
                    },
                    "metadata": {}
                },
                {
                    "output_type": "display_data",
                    "data": {
                        "text/html": "Sun Bicycles Lil Bolt Type-R - 2017347"
                    },
                    "metadata": {}
                },
                {
                    "output_type": "display_data",
                    "data": {
                        "text/html": "Sun Bicycles Revolutions 24 - 2017251"
                    },
                    "metadata": {}
                },
                {
                    "output_type": "display_data",
                    "data": {
                        "text/html": "Sun Bicycles Revolutions 24 - Girl's - 2017251"
                    },
                    "metadata": {}
                },
                {
                    "output_type": "display_data",
                    "data": {
                        "text/html": "Sun Bicycles Cruz 3 - 2017450"
                    },
                    "metadata": {}
                },
                {
                    "output_type": "display_data",
                    "data": {
                        "text/html": "Sun Bicycles Cruz 7 - 2017417"
                    },
                    "metadata": {}
                },
                {
                    "output_type": "display_data",
                    "data": {
                        "text/html": "Electra Amsterdam Original 3i - 2015/2017660"
                    },
                    "metadata": {}
                },
                {
                    "output_type": "display_data",
                    "data": {
                        "text/html": "Sun Bicycles Atlas X-Type - 2017417"
                    },
                    "metadata": {}
                },
                {
                    "output_type": "display_data",
                    "data": {
                        "text/html": "Sun Bicycles Biscayne Tandem 7 - 2017620"
                    },
                    "metadata": {}
                },
                {
                    "output_type": "display_data",
                    "data": {
                        "text/html": "Sun Bicycles Brickell Tandem 7 - 2017750"
                    },
                    "metadata": {}
                },
                {
                    "output_type": "display_data",
                    "data": {
                        "text/html": "Electra Cruiser Lux 1 - 2017440"
                    },
                    "metadata": {}
                },
                {
                    "output_type": "display_data",
                    "data": {
                        "text/html": "Electra Cruiser Lux Fat Tire 1 Ladies - 2017600"
                    },
                    "metadata": {}
                },
                {
                    "output_type": "display_data",
                    "data": {
                        "text/html": "Electra Girl's Hawaii 1 16\" - 2017300"
                    },
                    "metadata": {}
                },
                {
                    "output_type": "display_data",
                    "data": {
                        "text/html": "Electra Glam Punk 3i Ladies' - 2017800"
                    },
                    "metadata": {}
                },
                {
                    "output_type": "display_data",
                    "data": {
                        "text/html": "Sun Bicycles Biscayne Tandem CB - 2017648"
                    },
                    "metadata": {}
                },
                {
                    "output_type": "display_data",
                    "data": {
                        "text/html": "Sun Bicycles Boardwalk (24-inch Wheels) - 2017403"
                    },
                    "metadata": {}
                },
                {
                    "output_type": "display_data",
                    "data": {
                        "text/html": "Sun Bicycles Brickell Tandem CB - 2017762"
                    },
                    "metadata": {}
                },
                {
                    "output_type": "display_data",
                    "data": {
                        "text/html": "Electra Amsterdam Fashion 7i Ladies' - 20171100"
                    },
                    "metadata": {}
                },
                {
                    "output_type": "display_data",
                    "data": {
                        "text/html": "Electra Amsterdam Original 3i Ladies' - 2017660"
                    },
                    "metadata": {}
                },
                {
                    "output_type": "display_data",
                    "data": {
                        "text/html": "Trek Boy's Kickster - 2015/2017150"
                    },
                    "metadata": {}
                },
                {
                    "output_type": "display_data",
                    "data": {
                        "text/html": "Sun Bicycles Lil Kitt'n - 2017110"
                    },
                    "metadata": {}
                },
                {
                    "output_type": "display_data",
                    "data": {
                        "text/html": "Haro Downtown 16 - 2017330"
                    },
                    "metadata": {}
                },
                {
                    "output_type": "display_data",
                    "data": {
                        "text/html": "Trek Girl's Kickster - 2017150"
                    },
                    "metadata": {}
                },
                {
                    "output_type": "display_data",
                    "data": {
                        "text/html": "Trek Precaliber 12 Boys - 2017190"
                    },
                    "metadata": {}
                },
                {
                    "output_type": "display_data",
                    "data": {
                        "text/html": "Trek Precaliber 12 Girls - 2017190"
                    },
                    "metadata": {}
                },
                {
                    "output_type": "display_data",
                    "data": {
                        "text/html": "Trek Precaliber 16 Boys - 2017210"
                    },
                    "metadata": {}
                },
                {
                    "output_type": "display_data",
                    "data": {
                        "text/html": "Trek Precaliber 16 Girls - 2017210"
                    },
                    "metadata": {}
                },
                {
                    "output_type": "display_data",
                    "data": {
                        "text/html": "Trek Precaliber 24 (21-Speed) - Girls - 2017350"
                    },
                    "metadata": {}
                },
                {
                    "output_type": "display_data",
                    "data": {
                        "text/html": "Haro Shredder 20 - 2017210"
                    },
                    "metadata": {}
                },
                {
                    "output_type": "display_data",
                    "data": {
                        "text/html": "Haro Shredder 20 Girls - 2017210"
                    },
                    "metadata": {}
                },
                {
                    "output_type": "display_data",
                    "data": {
                        "text/html": "Haro Shredder Pro 20 - 2017250"
                    },
                    "metadata": {}
                },
                {
                    "output_type": "display_data",
                    "data": {
                        "text/html": "Electra Girl's Hawaii 1 16\" - 2017300"
                    },
                    "metadata": {}
                },
                {
                    "output_type": "display_data",
                    "data": {
                        "text/html": "Electra Moto 3i (20-inch) - Boy's - 2017350"
                    },
                    "metadata": {}
                },
                {
                    "output_type": "display_data",
                    "data": {
                        "text/html": "Electra Savannah 3i (20-inch) - Girl's - 2017350"
                    },
                    "metadata": {}
                },
                {
                    "output_type": "display_data",
                    "data": {
                        "text/html": "Electra Straight 8 3i (20-inch) - Boy's - 2017490"
                    },
                    "metadata": {}
                },
                {
                    "output_type": "display_data",
                    "data": {
                        "text/html": "Electra Sugar Skulls 1 (20-inch) - Girl's - 2017300"
                    },
                    "metadata": {}
                },
                {
                    "output_type": "display_data",
                    "data": {
                        "text/html": "Electra Townie 3i EQ (20-inch) - Boys' - 2017490"
                    },
                    "metadata": {}
                },
                {
                    "output_type": "display_data",
                    "data": {
                        "text/html": "Electra Townie 7D (20-inch) - Boys' - 2017340"
                    },
                    "metadata": {}
                },
                {
                    "output_type": "display_data",
                    "data": {
                        "text/html": "Electra Townie Original 7D - 2017490"
                    },
                    "metadata": {}
                },
                {
                    "output_type": "display_data",
                    "data": {
                        "text/html": "Sun Bicycles Streamway 3 - 2017552"
                    },
                    "metadata": {}
                },
                {
                    "output_type": "display_data",
                    "data": {
                        "text/html": "Sun Bicycles Streamway - 2017482"
                    },
                    "metadata": {}
                },
                {
                    "output_type": "display_data",
                    "data": {
                        "text/html": "Sun Bicycles Streamway 7 - 2017534"
                    },
                    "metadata": {}
                },
                {
                    "output_type": "display_data",
                    "data": {
                        "text/html": "Sun Bicycles Cruz 3 - 2017450"
                    },
                    "metadata": {}
                },
                {
                    "output_type": "display_data",
                    "data": {
                        "text/html": "Sun Bicycles Cruz 7 - 2017417"
                    },
                    "metadata": {}
                },
                {
                    "output_type": "display_data",
                    "data": {
                        "text/html": "Sun Bicycles Cruz 3 - Women's - 2017450"
                    },
                    "metadata": {}
                },
                {
                    "output_type": "display_data",
                    "data": {
                        "text/html": "Sun Bicycles Cruz 7 - Women's - 2017417"
                    },
                    "metadata": {}
                },
                {
                    "output_type": "display_data",
                    "data": {
                        "text/html": "Sun Bicycles Drifter 7 - 2017471"
                    },
                    "metadata": {}
                },
                {
                    "output_type": "display_data",
                    "data": {
                        "text/html": "Sun Bicycles Drifter 7 - Women's - 2017471"
                    },
                    "metadata": {}
                },
                {
                    "output_type": "display_data",
                    "data": {
                        "text/html": "Trek 820 - 2018380"
                    },
                    "metadata": {}
                },
                {
                    "output_type": "display_data",
                    "data": {
                        "text/html": "Trek Marlin 5 - 2018490"
                    },
                    "metadata": {}
                },
                {
                    "output_type": "display_data",
                    "data": {
                        "text/html": "Trek Marlin 6 - 2018580"
                    },
                    "metadata": {}
                },
                {
                    "output_type": "display_data",
                    "data": {
                        "text/html": "Trek Fuel EX 8 29 - 20183200"
                    },
                    "metadata": {}
                },
                {
                    "output_type": "display_data",
                    "data": {
                        "text/html": "Trek Marlin 7 - 2017/2018750"
                    },
                    "metadata": {}
                },
                {
                    "output_type": "display_data",
                    "data": {
                        "text/html": "Trek Ticket S Frame - 20181470"
                    },
                    "metadata": {}
                },
                {
                    "output_type": "display_data",
                    "data": {
                        "text/html": "Trek X-Caliber 8 - 20181000"
                    },
                    "metadata": {}
                },
                {
                    "output_type": "display_data",
                    "data": {
                        "text/html": "Trek Kids' Neko - 2018470"
                    },
                    "metadata": {}
                },
                {
                    "output_type": "display_data",
                    "data": {
                        "text/html": "Trek Fuel EX 7 29 - 20182500"
                    },
                    "metadata": {}
                },
                {
                    "output_type": "display_data",
                    "data": {
                        "text/html": "Surly Krampus Frameset - 20182500"
                    },
                    "metadata": {}
                },
                {
                    "output_type": "display_data",
                    "data": {
                        "text/html": "Surly Troll Frameset - 20182500"
                    },
                    "metadata": {}
                },
                {
                    "output_type": "display_data",
                    "data": {
                        "text/html": "Trek Farley Carbon Frameset - 20181000"
                    },
                    "metadata": {}
                },
                {
                    "output_type": "display_data",
                    "data": {
                        "text/html": "Surly Krampus - 20181499"
                    },
                    "metadata": {}
                },
                {
                    "output_type": "display_data",
                    "data": {
                        "text/html": "Trek Kids' Dual Sport - 2018470"
                    },
                    "metadata": {}
                },
                {
                    "output_type": "display_data",
                    "data": {
                        "text/html": "Surly Big Fat Dummy Frameset - 2018470"
                    },
                    "metadata": {}
                },
                {
                    "output_type": "display_data",
                    "data": {
                        "text/html": "Surly Pack Rat Frameset - 2018470"
                    },
                    "metadata": {}
                },
                {
                    "output_type": "display_data",
                    "data": {
                        "text/html": "Surly ECR 27.5 - 20181899"
                    },
                    "metadata": {}
                },
                {
                    "output_type": "display_data",
                    "data": {
                        "text/html": "Trek X-Caliber 7 - 2018920"
                    },
                    "metadata": {}
                },
                {
                    "output_type": "display_data",
                    "data": {
                        "text/html": "Trek Stache Carbon Frameset - 2018920"
                    },
                    "metadata": {}
                },
                {
                    "output_type": "display_data",
                    "data": {
                        "text/html": "Heller Bloodhound Trail - 20182599"
                    },
                    "metadata": {}
                },
                {
                    "output_type": "display_data",
                    "data": {
                        "text/html": "Trek Procal AL Frameset - 20181500"
                    },
                    "metadata": {}
                },
                {
                    "output_type": "display_data",
                    "data": {
                        "text/html": "Trek Procaliber Frameset - 20181500"
                    },
                    "metadata": {}
                },
                {
                    "output_type": "display_data",
                    "data": {
                        "text/html": "Trek Remedy 27.5 C Frameset - 20181500"
                    },
                    "metadata": {}
                },
                {
                    "output_type": "display_data",
                    "data": {
                        "text/html": "Trek X-Caliber Frameset - 20181500"
                    },
                    "metadata": {}
                },
                {
                    "output_type": "display_data",
                    "data": {
                        "text/html": "Trek Procaliber 6 - 20181800"
                    },
                    "metadata": {}
                },
                {
                    "output_type": "display_data",
                    "data": {
                        "text/html": "Heller Shagamaw GX1 - 20182599"
                    },
                    "metadata": {}
                },
                {
                    "output_type": "display_data",
                    "data": {
                        "text/html": "Trek Fuel EX 5 Plus - 20182250"
                    },
                    "metadata": {}
                },
                {
                    "output_type": "display_data",
                    "data": {
                        "text/html": "Trek Remedy 7 27.5 - 20183000"
                    },
                    "metadata": {}
                },
                {
                    "output_type": "display_data",
                    "data": {
                        "text/html": "Trek Remedy 9.8 27.5 - 20185000"
                    },
                    "metadata": {}
                },
                {
                    "output_type": "display_data",
                    "data": {
                        "text/html": "Trek Stache 5 - 20181600"
                    },
                    "metadata": {}
                },
                {
                    "output_type": "display_data",
                    "data": {
                        "text/html": "Trek Fuel EX 8 29 XT - 20183200"
                    },
                    "metadata": {}
                },
                {
                    "output_type": "display_data",
                    "data": {
                        "text/html": "Trek Domane ALR 3 - 20181100"
                    },
                    "metadata": {}
                },
                {
                    "output_type": "display_data",
                    "data": {
                        "text/html": "Trek Domane ALR 4 Disc - 20181550"
                    },
                    "metadata": {}
                },
                {
                    "output_type": "display_data",
                    "data": {
                        "text/html": "Trek Domane ALR 5 Disc - 20181800"
                    },
                    "metadata": {}
                },
                {
                    "output_type": "display_data",
                    "data": {
                        "text/html": "Trek Domane SLR 6 - 20185000"
                    },
                    "metadata": {}
                },
                {
                    "output_type": "display_data",
                    "data": {
                        "text/html": "Trek Domane ALR 5 Gravel - 20181800"
                    },
                    "metadata": {}
                },
                {
                    "output_type": "display_data",
                    "data": {
                        "text/html": "Trek Domane SL 8 Disc - 20185500"
                    },
                    "metadata": {}
                },
                {
                    "output_type": "display_data",
                    "data": {
                        "text/html": "Trek Domane SLR 8 Disc - 20187500"
                    },
                    "metadata": {}
                },
                {
                    "output_type": "display_data",
                    "data": {
                        "text/html": "Trek Emonda SL 7 - 20184500"
                    },
                    "metadata": {}
                },
                {
                    "output_type": "display_data",
                    "data": {
                        "text/html": "Trek Domane ALR 4 Disc Women's - 20181550"
                    },
                    "metadata": {}
                },
                {
                    "output_type": "display_data",
                    "data": {
                        "text/html": "Trek Domane SL 5 Disc Women's - 20182500"
                    },
                    "metadata": {}
                },
                {
                    "output_type": "display_data",
                    "data": {
                        "text/html": "Trek Domane SL 7 Women's - 20185000"
                    },
                    "metadata": {}
                },
                {
                    "output_type": "display_data",
                    "data": {
                        "text/html": "Trek Domane SLR 6 Disc Women's - 20185500"
                    },
                    "metadata": {}
                },
                {
                    "output_type": "display_data",
                    "data": {
                        "text/html": "Trek Domane SLR 9 Disc - 201812000"
                    },
                    "metadata": {}
                },
                {
                    "output_type": "display_data",
                    "data": {
                        "text/html": "Trek Domane SL Frameset - 20186500"
                    },
                    "metadata": {}
                },
                {
                    "output_type": "display_data",
                    "data": {
                        "text/html": "Trek Domane SL Frameset Women's - 20186500"
                    },
                    "metadata": {}
                },
                {
                    "output_type": "display_data",
                    "data": {
                        "text/html": "Trek CrossRip 1 - 2018960"
                    },
                    "metadata": {}
                },
                {
                    "output_type": "display_data",
                    "data": {
                        "text/html": "Trek Emonda ALR 6 - 20182300"
                    },
                    "metadata": {}
                },
                {
                    "output_type": "display_data",
                    "data": {
                        "text/html": "Trek Emonda SLR 6 - 20184500"
                    },
                    "metadata": {}
                },
                {
                    "output_type": "display_data",
                    "data": {
                        "text/html": "Surly ECR - 20181899"
                    },
                    "metadata": {}
                },
                {
                    "output_type": "display_data",
                    "data": {
                        "text/html": "Trek Emonda SL 6 Disc - 20183000"
                    },
                    "metadata": {}
                },
                {
                    "output_type": "display_data",
                    "data": {
                        "text/html": "Surly Pack Rat - 20181349"
                    },
                    "metadata": {}
                },
                {
                    "output_type": "display_data",
                    "data": {
                        "text/html": "Surly Straggler 650b - 20181549"
                    },
                    "metadata": {}
                },
                {
                    "output_type": "display_data",
                    "data": {
                        "text/html": "Trek 1120 - 20182500"
                    },
                    "metadata": {}
                },
                {
                    "output_type": "display_data",
                    "data": {
                        "text/html": "Trek Domane AL 2 Women's - 2018750"
                    },
                    "metadata": {}
                },
                {
                    "output_type": "display_data",
                    "data": {
                        "text/html": "Surly ECR Frameset - 2018750"
                    },
                    "metadata": {}
                },
                {
                    "output_type": "display_data",
                    "data": {
                        "text/html": "Surly Straggler - 20181549"
                    },
                    "metadata": {}
                },
                {
                    "output_type": "display_data",
                    "data": {
                        "text/html": "Trek Emonda SLR 8 - 20186500"
                    },
                    "metadata": {}
                },
                {
                    "output_type": "display_data",
                    "data": {
                        "text/html": "Trek CrossRip 2 - 20181300"
                    },
                    "metadata": {}
                },
                {
                    "output_type": "display_data",
                    "data": {
                        "text/html": "Trek Domane SL 6 - 20183200"
                    },
                    "metadata": {}
                },
                {
                    "output_type": "display_data",
                    "data": {
                        "text/html": "Trek Domane ALR Disc Frameset - 20183200"
                    },
                    "metadata": {}
                },
                {
                    "output_type": "display_data",
                    "data": {
                        "text/html": "Trek Domane ALR Frameset - 20183200"
                    },
                    "metadata": {}
                },
                {
                    "output_type": "display_data",
                    "data": {
                        "text/html": "Trek Domane SLR Disc Frameset - 20183200"
                    },
                    "metadata": {}
                },
                {
                    "output_type": "display_data",
                    "data": {
                        "text/html": "Trek Domane SLR Frameset - 20183200"
                    },
                    "metadata": {}
                },
                {
                    "output_type": "display_data",
                    "data": {
                        "text/html": "Trek Madone 9 Frameset - 20183200"
                    },
                    "metadata": {}
                },
                {
                    "output_type": "display_data",
                    "data": {
                        "text/html": "Trek Domane SLR 6 Disc - 20185500"
                    },
                    "metadata": {}
                },
                {
                    "output_type": "display_data",
                    "data": {
                        "text/html": "Trek Domane AL 2 - 2018750"
                    },
                    "metadata": {}
                },
                {
                    "output_type": "display_data",
                    "data": {
                        "text/html": "Trek Domane AL 3 - 2018920"
                    },
                    "metadata": {}
                },
                {
                    "output_type": "display_data",
                    "data": {
                        "text/html": "Trek Domane AL 3 Women's - 2018920"
                    },
                    "metadata": {}
                },
                {
                    "output_type": "display_data",
                    "data": {
                        "text/html": "Trek Domane SL 5 - 20182200"
                    },
                    "metadata": {}
                },
                {
                    "output_type": "display_data",
                    "data": {
                        "text/html": "Trek Domane SL 5 Disc - 20182500"
                    },
                    "metadata": {}
                },
                {
                    "output_type": "display_data",
                    "data": {
                        "text/html": "Trek Domane SL 5 Women's - 20182200"
                    },
                    "metadata": {}
                },
                {
                    "output_type": "display_data",
                    "data": {
                        "text/html": "Trek Domane SL 6 Disc - 20183500"
                    },
                    "metadata": {}
                },
                {
                    "output_type": "display_data",
                    "data": {
                        "text/html": "Trek Conduit+ - 20182800"
                    },
                    "metadata": {}
                },
                {
                    "output_type": "display_data",
                    "data": {
                        "text/html": "Trek CrossRip+ - 20184500"
                    },
                    "metadata": {}
                },
                {
                    "output_type": "display_data",
                    "data": {
                        "text/html": "Trek Neko+ - 20182800"
                    },
                    "metadata": {}
                },
                {
                    "output_type": "display_data",
                    "data": {
                        "text/html": "Trek XM700+ Lowstep - 20183500"
                    },
                    "metadata": {}
                },
                {
                    "output_type": "display_data",
                    "data": {
                        "text/html": "Trek Lift+ Lowstep - 20182800"
                    },
                    "metadata": {}
                },
                {
                    "output_type": "display_data",
                    "data": {
                        "text/html": "Trek Dual Sport+ - 20182800"
                    },
                    "metadata": {}
                },
                {
                    "output_type": "display_data",
                    "data": {
                        "text/html": "Electra Loft Go! 8i - 20182800"
                    },
                    "metadata": {}
                },
                {
                    "output_type": "display_data",
                    "data": {
                        "text/html": "Electra Townie Go! 8i - 2017/20182600"
                    },
                    "metadata": {}
                },
                {
                    "output_type": "display_data",
                    "data": {
                        "text/html": "Trek Lift+ - 20182800"
                    },
                    "metadata": {}
                },
                {
                    "output_type": "display_data",
                    "data": {
                        "text/html": "Trek XM700+ - 20183500"
                    },
                    "metadata": {}
                },
                {
                    "output_type": "display_data",
                    "data": {
                        "text/html": "Electra Townie Go! 8i Ladies' - 20182600"
                    },
                    "metadata": {}
                },
                {
                    "output_type": "display_data",
                    "data": {
                        "text/html": "Trek Verve+ - 20182300"
                    },
                    "metadata": {}
                },
                {
                    "output_type": "display_data",
                    "data": {
                        "text/html": "Trek Verve+ Lowstep - 20182300"
                    },
                    "metadata": {}
                },
                {
                    "output_type": "display_data",
                    "data": {
                        "text/html": "Electra Townie Commute Go! - 20183000"
                    },
                    "metadata": {}
                },
                {
                    "output_type": "display_data",
                    "data": {
                        "text/html": "Electra Townie Commute Go! Ladies' - 20183000"
                    },
                    "metadata": {}
                },
                {
                    "output_type": "display_data",
                    "data": {
                        "text/html": "Trek Powerfly 5 - 20183500"
                    },
                    "metadata": {}
                },
                {
                    "output_type": "display_data",
                    "data": {
                        "text/html": "Trek Powerfly 5 FS - 20184500"
                    },
                    "metadata": {}
                },
                {
                    "output_type": "display_data",
                    "data": {
                        "text/html": "Trek Powerfly 5 Women's - 20183500"
                    },
                    "metadata": {}
                },
                {
                    "output_type": "display_data",
                    "data": {
                        "text/html": "Trek Powerfly 7 FS - 20185000"
                    },
                    "metadata": {}
                },
                {
                    "output_type": "display_data",
                    "data": {
                        "text/html": "Trek Super Commuter+ 7 - 20183600"
                    },
                    "metadata": {}
                },
                {
                    "output_type": "display_data",
                    "data": {
                        "text/html": "Trek Super Commuter+ 8S - 20185000"
                    },
                    "metadata": {}
                },
                {
                    "output_type": "display_data",
                    "data": {
                        "text/html": "Trek Boone 5 Disc - 20183300"
                    },
                    "metadata": {}
                },
                {
                    "output_type": "display_data",
                    "data": {
                        "text/html": "Trek Boone 7 Disc - 20184000"
                    },
                    "metadata": {}
                },
                {
                    "output_type": "display_data",
                    "data": {
                        "text/html": "Trek Crockett 5 Disc - 20181800"
                    },
                    "metadata": {}
                },
                {
                    "output_type": "display_data",
                    "data": {
                        "text/html": "Trek Crockett 7 Disc - 20183000"
                    },
                    "metadata": {}
                },
                {
                    "output_type": "display_data",
                    "data": {
                        "text/html": "Surly Straggler - 20181549"
                    },
                    "metadata": {}
                },
                {
                    "output_type": "display_data",
                    "data": {
                        "text/html": "Surly Straggler 650b - 20181549"
                    },
                    "metadata": {}
                },
                {
                    "output_type": "display_data",
                    "data": {
                        "text/html": "Electra Townie Original 21D - 2018560"
                    },
                    "metadata": {}
                },
                {
                    "output_type": "display_data",
                    "data": {
                        "text/html": "Electra Cruiser 1 - 2016/2017/2018270"
                    },
                    "metadata": {}
                },
                {
                    "output_type": "display_data",
                    "data": {
                        "text/html": "Electra Tiger Shark 3i - 2018900"
                    },
                    "metadata": {}
                },
                {
                    "output_type": "display_data",
                    "data": {
                        "text/html": "Electra Queen of Hearts 3i - 2018750"
                    },
                    "metadata": {}
                },
                {
                    "output_type": "display_data",
                    "data": {
                        "text/html": "Electra Super Moto 8i - 2018900"
                    },
                    "metadata": {}
                },
                {
                    "output_type": "display_data",
                    "data": {
                        "text/html": "Electra Straight 8 3i - 2018910"
                    },
                    "metadata": {}
                },
                {
                    "output_type": "display_data",
                    "data": {
                        "text/html": "Electra Cruiser 7D - 2016/2017/2018320"
                    },
                    "metadata": {}
                },
                {
                    "output_type": "display_data",
                    "data": {
                        "text/html": "Electra Moto 3i - 2018640"
                    },
                    "metadata": {}
                },
                {
                    "output_type": "display_data",
                    "data": {
                        "text/html": "Electra Cruiser 1 Ladies' - 2018270"
                    },
                    "metadata": {}
                },
                {
                    "output_type": "display_data",
                    "data": {
                        "text/html": "Electra Cruiser 7D Ladies' - 2016/2018320"
                    },
                    "metadata": {}
                },
                {
                    "output_type": "display_data",
                    "data": {
                        "text/html": "Electra Cruiser 1 Tall - 2016/2018270"
                    },
                    "metadata": {}
                },
                {
                    "output_type": "display_data",
                    "data": {
                        "text/html": "Electra Cruiser Lux 3i - 2018530"
                    },
                    "metadata": {}
                },
                {
                    "output_type": "display_data",
                    "data": {
                        "text/html": "Electra Cruiser Lux 7D - 2018480"
                    },
                    "metadata": {}
                },
                {
                    "output_type": "display_data",
                    "data": {
                        "text/html": "Electra Delivery 3i - 2016/2017/2018960"
                    },
                    "metadata": {}
                },
                {
                    "output_type": "display_data",
                    "data": {
                        "text/html": "Electra Townie Original 21D EQ - 2017/2018680"
                    },
                    "metadata": {}
                },
                {
                    "output_type": "display_data",
                    "data": {
                        "text/html": "Electra Cruiser 7D (24-Inch) Ladies' - 2016/2018320"
                    },
                    "metadata": {}
                },
                {
                    "output_type": "display_data",
                    "data": {
                        "text/html": "Electra Cruiser 7D Tall - 2016/2018320"
                    },
                    "metadata": {}
                },
                {
                    "output_type": "display_data",
                    "data": {
                        "text/html": "Electra Cruiser Lux 1 - 2016/2018430"
                    },
                    "metadata": {}
                },
                {
                    "output_type": "display_data",
                    "data": {
                        "text/html": "Electra Cruiser Lux 1 Ladies' - 2018430"
                    },
                    "metadata": {}
                },
                {
                    "output_type": "display_data",
                    "data": {
                        "text/html": "Electra Cruiser Lux 3i Ladies' - 2018530"
                    },
                    "metadata": {}
                },
                {
                    "output_type": "display_data",
                    "data": {
                        "text/html": "Electra Cruiser Lux 7D Ladies' - 2018480"
                    },
                    "metadata": {}
                },
                {
                    "output_type": "display_data",
                    "data": {
                        "text/html": "Electra Cruiser Lux Fat Tire 7D - 2018640"
                    },
                    "metadata": {}
                },
                {
                    "output_type": "display_data",
                    "data": {
                        "text/html": "Electra Daydreamer 3i Ladies' - 2018900"
                    },
                    "metadata": {}
                },
                {
                    "output_type": "display_data",
                    "data": {
                        "text/html": "Electra Koa 3i Ladies' - 2018900"
                    },
                    "metadata": {}
                },
                {
                    "output_type": "display_data",
                    "data": {
                        "text/html": "Electra Morningstar 3i Ladies' - 2018750"
                    },
                    "metadata": {}
                },
                {
                    "output_type": "display_data",
                    "data": {
                        "text/html": "Electra Relic 3i - 2018850"
                    },
                    "metadata": {}
                },
                {
                    "output_type": "display_data",
                    "data": {
                        "text/html": "Electra Townie Balloon 8D EQ - 2016/2017/2018750"
                    },
                    "metadata": {}
                },
                {
                    "output_type": "display_data",
                    "data": {
                        "text/html": "Electra Townie Balloon 8D EQ Ladies' - 2016/2017/2018750"
                    },
                    "metadata": {}
                },
                {
                    "output_type": "display_data",
                    "data": {
                        "text/html": "Electra Townie Commute 27D Ladies - 2018900"
                    },
                    "metadata": {}
                },
                {
                    "output_type": "display_data",
                    "data": {
                        "text/html": "Electra Townie Commute 8D - 2018750"
                    },
                    "metadata": {}
                },
                {
                    "output_type": "display_data",
                    "data": {
                        "text/html": "Electra Townie Commute 8D Ladies' - 2018700"
                    },
                    "metadata": {}
                },
                {
                    "output_type": "display_data",
                    "data": {
                        "text/html": "Electra Townie Original 21D EQ Ladies' - 2018680"
                    },
                    "metadata": {}
                },
                {
                    "output_type": "display_data",
                    "data": {
                        "text/html": "Electra Townie Original 21D Ladies' - 2018560"
                    },
                    "metadata": {}
                },
                {
                    "output_type": "display_data",
                    "data": {
                        "text/html": "Electra Townie Original 3i EQ - 2017/2018660"
                    },
                    "metadata": {}
                },
                {
                    "output_type": "display_data",
                    "data": {
                        "text/html": "Electra Townie Original 3i EQ Ladies' - 2018640"
                    },
                    "metadata": {}
                },
                {
                    "output_type": "display_data",
                    "data": {
                        "text/html": "Electra Townie Original 7D EQ - 2018600"
                    },
                    "metadata": {}
                },
                {
                    "output_type": "display_data",
                    "data": {
                        "text/html": "Electra Townie Original 7D EQ Ladies' - 2017/2018600"
                    },
                    "metadata": {}
                },
                {
                    "output_type": "display_data",
                    "data": {
                        "text/html": "Electra White Water 3i - 2018750"
                    },
                    "metadata": {}
                },
                {
                    "output_type": "display_data",
                    "data": {
                        "text/html": "Electra Townie Go! 8i - 2017/20182600"
                    },
                    "metadata": {}
                },
                {
                    "output_type": "display_data",
                    "data": {
                        "text/html": "Electra Townie Commute Go! - 20183000"
                    },
                    "metadata": {}
                },
                {
                    "output_type": "display_data",
                    "data": {
                        "text/html": "Electra Townie Commute Go! Ladies' - 20183000"
                    },
                    "metadata": {}
                },
                {
                    "output_type": "display_data",
                    "data": {
                        "text/html": "Electra Townie Go! 8i Ladies' - 20182600"
                    },
                    "metadata": {}
                },
                {
                    "output_type": "display_data",
                    "data": {
                        "text/html": "Electra Townie Balloon 3i EQ - 2017/2018750"
                    },
                    "metadata": {}
                },
                {
                    "output_type": "display_data",
                    "data": {
                        "text/html": "Electra Townie Balloon 7i EQ Ladies' - 2017/2018900"
                    },
                    "metadata": {}
                },
                {
                    "output_type": "display_data",
                    "data": {
                        "text/html": "Electra Townie Commute 27D - 2018900"
                    },
                    "metadata": {}
                },
                {
                    "output_type": "display_data",
                    "data": {
                        "text/html": "Electra Amsterdam Fashion 3i Ladies' - 2017/2018900"
                    },
                    "metadata": {}
                },
                {
                    "output_type": "display_data",
                    "data": {
                        "text/html": "Electra Amsterdam Royal 8i - 2017/20181260"
                    },
                    "metadata": {}
                },
                {
                    "output_type": "display_data",
                    "data": {
                        "text/html": "Electra Amsterdam Royal 8i Ladies - 20181200"
                    },
                    "metadata": {}
                },
                {
                    "output_type": "display_data",
                    "data": {
                        "text/html": "Electra Townie Balloon 3i EQ Ladies' - 2018800"
                    },
                    "metadata": {}
                },
                {
                    "output_type": "display_data",
                    "data": {
                        "text/html": "Electra Townie Balloon 7i EQ - 2018900"
                    },
                    "metadata": {}
                },
                {
                    "output_type": "display_data",
                    "data": {
                        "text/html": "Trek MT 201 - 2018250"
                    },
                    "metadata": {}
                },
                {
                    "output_type": "display_data",
                    "data": {
                        "text/html": "Strider Classic 12 Balance Bike - 201890"
                    },
                    "metadata": {}
                },
                {
                    "output_type": "display_data",
                    "data": {
                        "text/html": "Strider Sport 16 - 2018250"
                    },
                    "metadata": {}
                },
                {
                    "output_type": "display_data",
                    "data": {
                        "text/html": "Strider Strider 20 Sport - 2018290"
                    },
                    "metadata": {}
                },
                {
                    "output_type": "display_data",
                    "data": {
                        "text/html": "Trek Superfly 20 - 2018400"
                    },
                    "metadata": {}
                },
                {
                    "output_type": "display_data",
                    "data": {
                        "text/html": "Trek Precaliber 12 Girl's - 2018200"
                    },
                    "metadata": {}
                },
                {
                    "output_type": "display_data",
                    "data": {
                        "text/html": "Trek Kickster - 2018160"
                    },
                    "metadata": {}
                },
                {
                    "output_type": "display_data",
                    "data": {
                        "text/html": "Trek Precaliber 12 Boy's - 2018200"
                    },
                    "metadata": {}
                },
                {
                    "output_type": "display_data",
                    "data": {
                        "text/html": "Trek Precaliber 16 Boy's - 2018210"
                    },
                    "metadata": {}
                },
                {
                    "output_type": "display_data",
                    "data": {
                        "text/html": "Trek Precaliber 16 Girl's - 2018210"
                    },
                    "metadata": {}
                },
                {
                    "output_type": "display_data",
                    "data": {
                        "text/html": "Trek Precaliber 20 6-speed Boy's - 2018290"
                    },
                    "metadata": {}
                },
                {
                    "output_type": "display_data",
                    "data": {
                        "text/html": "Trek Precaliber 20 6-speed Girl's - 2018290"
                    },
                    "metadata": {}
                },
                {
                    "output_type": "display_data",
                    "data": {
                        "text/html": "Trek Precaliber 20 Boy's - 2018230"
                    },
                    "metadata": {}
                },
                {
                    "output_type": "display_data",
                    "data": {
                        "text/html": "Trek Precaliber 20 Girl's - 2018230"
                    },
                    "metadata": {}
                },
                {
                    "output_type": "display_data",
                    "data": {
                        "text/html": "Trek Precaliber 24 (7-Speed) - Boys - 2018320"
                    },
                    "metadata": {}
                },
                {
                    "output_type": "display_data",
                    "data": {
                        "text/html": "Trek Precaliber 24 21-speed Boy's - 2018370"
                    },
                    "metadata": {}
                },
                {
                    "output_type": "display_data",
                    "data": {
                        "text/html": "Trek Precaliber 24 21-speed Girl's - 2018370"
                    },
                    "metadata": {}
                },
                {
                    "output_type": "display_data",
                    "data": {
                        "text/html": "Trek Precaliber 24 7-speed Girl's - 2018320"
                    },
                    "metadata": {}
                },
                {
                    "output_type": "display_data",
                    "data": {
                        "text/html": "Trek Superfly 24 - 2017/2018490"
                    },
                    "metadata": {}
                },
                {
                    "output_type": "display_data",
                    "data": {
                        "text/html": "Electra Cruiser 7D (24-Inch) Ladies' - 2016/2018320"
                    },
                    "metadata": {}
                },
                {
                    "output_type": "display_data",
                    "data": {
                        "text/html": "Electra Cyclosaurus 1 (16-inch) - Boy's - 2018280"
                    },
                    "metadata": {}
                },
                {
                    "output_type": "display_data",
                    "data": {
                        "text/html": "Electra Heartchya 1 (20-inch) - Girl's - 2018320"
                    },
                    "metadata": {}
                },
                {
                    "output_type": "display_data",
                    "data": {
                        "text/html": "Electra Savannah 1 (20-inch) - Girl's - 2018320"
                    },
                    "metadata": {}
                },
                {
                    "output_type": "display_data",
                    "data": {
                        "text/html": "Electra Soft Serve 1 (16-inch) - Girl's - 2018280"
                    },
                    "metadata": {}
                },
                {
                    "output_type": "display_data",
                    "data": {
                        "text/html": "Electra Starship 1 16\" - 2018280"
                    },
                    "metadata": {}
                },
                {
                    "output_type": "display_data",
                    "data": {
                        "text/html": "Electra Straight 8 1 (16-inch) - Boy's - 2018280"
                    },
                    "metadata": {}
                },
                {
                    "output_type": "display_data",
                    "data": {
                        "text/html": "Electra Straight 8 1 (20-inch) - Boy's - 2018390"
                    },
                    "metadata": {}
                },
                {
                    "output_type": "display_data",
                    "data": {
                        "text/html": "Electra Superbolt 1 20\" - 2018320"
                    },
                    "metadata": {}
                },
                {
                    "output_type": "display_data",
                    "data": {
                        "text/html": "Electra Superbolt 3i 20\" - 2018370"
                    },
                    "metadata": {}
                },
                {
                    "output_type": "display_data",
                    "data": {
                        "text/html": "Electra Sweet Ride 1 (20-inch) - Girl's - 2018320"
                    },
                    "metadata": {}
                },
                {
                    "output_type": "display_data",
                    "data": {
                        "text/html": "Electra Sweet Ride 3i (20-inch) - Girls' - 2018370"
                    },
                    "metadata": {}
                },
                {
                    "output_type": "display_data",
                    "data": {
                        "text/html": "Electra Tiger Shark 1 (20-inch) - Boys' - 2018320"
                    },
                    "metadata": {}
                },
                {
                    "output_type": "display_data",
                    "data": {
                        "text/html": "Electra Tiger Shark 3i (20-inch) - Boys' - 2018370"
                    },
                    "metadata": {}
                },
                {
                    "output_type": "display_data",
                    "data": {
                        "text/html": "Electra Treasure 1 20\" - 2018320"
                    },
                    "metadata": {}
                },
                {
                    "output_type": "display_data",
                    "data": {
                        "text/html": "Electra Treasure 3i 20\" - 2018370"
                    },
                    "metadata": {}
                },
                {
                    "output_type": "display_data",
                    "data": {
                        "text/html": "Electra Under-The-Sea 1 16\" - 2018280"
                    },
                    "metadata": {}
                },
                {
                    "output_type": "display_data",
                    "data": {
                        "text/html": "Electra Water Lily 1 (16-inch) - Girl's - 2018280"
                    },
                    "metadata": {}
                },
                {
                    "output_type": "display_data",
                    "data": {
                        "text/html": "Electra Townie Original 21D - 2018560"
                    },
                    "metadata": {}
                },
                {
                    "output_type": "display_data",
                    "data": {
                        "text/html": "Electra Townie Balloon 3i EQ Ladies' - 2018800"
                    },
                    "metadata": {}
                },
                {
                    "output_type": "display_data",
                    "data": {
                        "text/html": "Electra Townie Balloon 7i EQ - 2018900"
                    },
                    "metadata": {}
                },
                {
                    "output_type": "display_data",
                    "data": {
                        "text/html": "Electra Townie Original 1 - 2018450"
                    },
                    "metadata": {}
                },
                {
                    "output_type": "display_data",
                    "data": {
                        "text/html": "Electra Townie Go! 8i - 2017/20182600"
                    },
                    "metadata": {}
                },
                {
                    "output_type": "display_data",
                    "data": {
                        "text/html": "Electra Townie Original 21D EQ - 2017/2018680"
                    },
                    "metadata": {}
                },
                {
                    "output_type": "display_data",
                    "data": {
                        "text/html": "Electra Townie Balloon 3i EQ - 2017/2018750"
                    },
                    "metadata": {}
                },
                {
                    "output_type": "display_data",
                    "data": {
                        "text/html": "Electra Townie Balloon 7i EQ Ladies' - 2017/2018900"
                    },
                    "metadata": {}
                },
                {
                    "output_type": "display_data",
                    "data": {
                        "text/html": "Electra Townie Balloon 8D EQ - 2016/2017/2018750"
                    },
                    "metadata": {}
                },
                {
                    "output_type": "display_data",
                    "data": {
                        "text/html": "Electra Townie Balloon 8D EQ Ladies' - 2016/2017/2018750"
                    },
                    "metadata": {}
                },
                {
                    "output_type": "display_data",
                    "data": {
                        "text/html": "Electra Townie Commute 27D - 2018900"
                    },
                    "metadata": {}
                },
                {
                    "output_type": "display_data",
                    "data": {
                        "text/html": "Electra Townie Commute 27D Ladies - 2018900"
                    },
                    "metadata": {}
                },
                {
                    "output_type": "display_data",
                    "data": {
                        "text/html": "Electra Townie Commute 8D - 2018750"
                    },
                    "metadata": {}
                },
                {
                    "output_type": "display_data",
                    "data": {
                        "text/html": "Electra Townie Commute 8D Ladies' - 2018700"
                    },
                    "metadata": {}
                },
                {
                    "output_type": "display_data",
                    "data": {
                        "text/html": "Electra Townie Original 1 Ladies' - 2018450"
                    },
                    "metadata": {}
                },
                {
                    "output_type": "display_data",
                    "data": {
                        "text/html": "Electra Townie Original 21D EQ Ladies' - 2018680"
                    },
                    "metadata": {}
                },
                {
                    "output_type": "display_data",
                    "data": {
                        "text/html": "Electra Townie Original 21D Ladies' - 2018560"
                    },
                    "metadata": {}
                },
                {
                    "output_type": "display_data",
                    "data": {
                        "text/html": "Trek Checkpoint ALR 4 Women's - 20191700"
                    },
                    "metadata": {}
                },
                {
                    "output_type": "display_data",
                    "data": {
                        "text/html": "Trek Checkpoint ALR 5 - 20192000"
                    },
                    "metadata": {}
                },
                {
                    "output_type": "display_data",
                    "data": {
                        "text/html": "Trek Checkpoint ALR 5 Women's - 20192000"
                    },
                    "metadata": {}
                },
                {
                    "output_type": "display_data",
                    "data": {
                        "text/html": "Trek Checkpoint SL 5 Women's - 20192800"
                    },
                    "metadata": {}
                },
                {
                    "output_type": "display_data",
                    "data": {
                        "text/html": "Trek Checkpoint SL 6 - 20193800"
                    },
                    "metadata": {}
                },
                {
                    "output_type": "display_data",
                    "data": {
                        "text/html": "Trek Checkpoint ALR Frameset - 20193200"
                    },
                    "metadata": {}
                },
                {
                    "output_type": "display_data",
                    "data": {
                        "text/html": "Total execution time: 00:00:00.013"
                    },
                    "metadata": {}
                }
            ],
            "execution_count": 1
        }
    ]
}